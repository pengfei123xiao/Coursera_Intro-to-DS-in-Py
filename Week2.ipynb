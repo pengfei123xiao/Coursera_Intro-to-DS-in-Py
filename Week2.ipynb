{
  "nbformat": 4,
  "nbformat_minor": 0,
  "metadata": {
    "colab": {
      "name": "Week2.ipynb",
      "version": "0.3.2",
      "provenance": [],
      "collapsed_sections": [],
      "include_colab_link": true
    },
    "kernelspec": {
      "name": "python3",
      "display_name": "Python 3"
    },
    "accelerator": "GPU"
  },
  "cells": [
    {
      "cell_type": "markdown",
      "metadata": {
        "id": "view-in-github",
        "colab_type": "text"
      },
      "source": [
        "<a href=\"https://colab.research.google.com/github/prodigyxiao/Coursera_Intro-to-DS-in-Py/blob/master/Week2.ipynb\" target=\"_parent\"><img src=\"https://colab.research.google.com/assets/colab-badge.svg\" alt=\"Open In Colab\"/></a>"
      ]
    },
    {
      "metadata": {
        "id": "j63YNB64rfTS",
        "colab_type": "text"
      },
      "cell_type": "markdown",
      "source": [
        "---\n",
        "**Coursera:** Intro to DS in Py--Uni. of Michigan\n",
        "Week 2\n",
        "\n",
        "---"
      ]
    },
    {
      "metadata": {
        "id": "5WtwPp8grfTT",
        "colab_type": "text"
      },
      "cell_type": "markdown",
      "source": [
        "# The Series Data Structure"
      ]
    },
    {
      "metadata": {
        "id": "oHhmFm3SrfTT",
        "colab_type": "code",
        "colab": {}
      },
      "cell_type": "code",
      "source": [
        "import pandas as pd\n",
        "pd.Series?"
      ],
      "execution_count": 0,
      "outputs": []
    },
    {
      "metadata": {
        "id": "D_uhq1dLrfTX",
        "colab_type": "code",
        "colab": {
          "base_uri": "https://localhost:8080/",
          "height": 87
        },
        "outputId": "9e3bf1d2-e14a-4b2b-e173-b772ac47fc1d"
      },
      "cell_type": "code",
      "source": [
        "animals = ['Tiger', 'Bear', 'Moose']\n",
        "pd.Series(animals)"
      ],
      "execution_count": 2,
      "outputs": [
        {
          "output_type": "execute_result",
          "data": {
            "text/plain": [
              "0    Tiger\n",
              "1     Bear\n",
              "2    Moose\n",
              "dtype: object"
            ]
          },
          "metadata": {
            "tags": []
          },
          "execution_count": 2
        }
      ]
    },
    {
      "metadata": {
        "id": "5022k52LrfTZ",
        "colab_type": "code",
        "colab": {
          "base_uri": "https://localhost:8080/",
          "height": 87
        },
        "outputId": "9883a359-df2d-43bd-8c3a-cc942d850fe2"
      },
      "cell_type": "code",
      "source": [
        "numbers = [1, 2, 3]\n",
        "pd.Series(numbers)"
      ],
      "execution_count": 3,
      "outputs": [
        {
          "output_type": "execute_result",
          "data": {
            "text/plain": [
              "0    1\n",
              "1    2\n",
              "2    3\n",
              "dtype: int64"
            ]
          },
          "metadata": {
            "tags": []
          },
          "execution_count": 3
        }
      ]
    },
    {
      "metadata": {
        "id": "v_nbZJGMrfTb",
        "colab_type": "code",
        "colab": {
          "base_uri": "https://localhost:8080/",
          "height": 87
        },
        "outputId": "9a8904d3-fa1b-4499-eb26-5baa6d8db389"
      },
      "cell_type": "code",
      "source": [
        "animals = ['Tiger', 'Bear', None]\n",
        "pd.Series(animals)"
      ],
      "execution_count": 4,
      "outputs": [
        {
          "output_type": "execute_result",
          "data": {
            "text/plain": [
              "0    Tiger\n",
              "1     Bear\n",
              "2     None\n",
              "dtype: object"
            ]
          },
          "metadata": {
            "tags": []
          },
          "execution_count": 4
        }
      ]
    },
    {
      "metadata": {
        "id": "qzYA20UarfTd",
        "colab_type": "code",
        "colab": {
          "base_uri": "https://localhost:8080/",
          "height": 87
        },
        "outputId": "ac4ef402-5940-42b8-defb-72beb96fbe98"
      },
      "cell_type": "code",
      "source": [
        "numbers = [1, 2, None]\n",
        "pd.Series(numbers)"
      ],
      "execution_count": 5,
      "outputs": [
        {
          "output_type": "execute_result",
          "data": {
            "text/plain": [
              "0    1.0\n",
              "1    2.0\n",
              "2    NaN\n",
              "dtype: float64"
            ]
          },
          "metadata": {
            "tags": []
          },
          "execution_count": 5
        }
      ]
    },
    {
      "metadata": {
        "id": "yAdRjVEprfTf",
        "colab_type": "code",
        "colab": {
          "base_uri": "https://localhost:8080/",
          "height": 35
        },
        "outputId": "97e33bb7-8623-43a4-9b62-9d19f3b3a0c3"
      },
      "cell_type": "code",
      "source": [
        "# Nan is not None\n",
        "import numpy as np\n",
        "np.nan == None"
      ],
      "execution_count": 6,
      "outputs": [
        {
          "output_type": "execute_result",
          "data": {
            "text/plain": [
              "False"
            ]
          },
          "metadata": {
            "tags": []
          },
          "execution_count": 6
        }
      ]
    },
    {
      "metadata": {
        "id": "zEsRgqInrfTh",
        "colab_type": "code",
        "colab": {
          "base_uri": "https://localhost:8080/",
          "height": 35
        },
        "outputId": "74669dd9-f987-4b0a-a08a-6990e4428c79"
      },
      "cell_type": "code",
      "source": [
        "# cannot do an equality test of NAN to itself\n",
        "np.nan == np.nan"
      ],
      "execution_count": 7,
      "outputs": [
        {
          "output_type": "execute_result",
          "data": {
            "text/plain": [
              "False"
            ]
          },
          "metadata": {
            "tags": []
          },
          "execution_count": 7
        }
      ]
    },
    {
      "metadata": {
        "id": "yMkRsOg2rfTk",
        "colab_type": "code",
        "colab": {
          "base_uri": "https://localhost:8080/",
          "height": 35
        },
        "outputId": "f2d4aa0a-6d52-4dde-992c-57bcf6908d0b"
      },
      "cell_type": "code",
      "source": [
        "np.isnan(np.nan)"
      ],
      "execution_count": 8,
      "outputs": [
        {
          "output_type": "execute_result",
          "data": {
            "text/plain": [
              "True"
            ]
          },
          "metadata": {
            "tags": []
          },
          "execution_count": 8
        }
      ]
    },
    {
      "metadata": {
        "id": "JlnF1stErfTn",
        "colab_type": "code",
        "colab": {
          "base_uri": "https://localhost:8080/",
          "height": 104
        },
        "outputId": "df0571f7-49f5-42ad-8b63-c9a53bc33cf9"
      },
      "cell_type": "code",
      "source": [
        "# A series can be created from dictionary data.\n",
        "# The index is automatically assigned by the keys of the dictionary \n",
        "# that you provided and not just incrementing integers. \n",
        "sports = {'Archery': 'Bhutan',\n",
        "          'Golf': 'Scotland',\n",
        "          'Sumo': 'Japan',\n",
        "          'Taekwondo': 'South Korea'}\n",
        "s = pd.Series(sports)\n",
        "s"
      ],
      "execution_count": 9,
      "outputs": [
        {
          "output_type": "execute_result",
          "data": {
            "text/plain": [
              "Archery           Bhutan\n",
              "Golf            Scotland\n",
              "Sumo               Japan\n",
              "Taekwondo    South Korea\n",
              "dtype: object"
            ]
          },
          "metadata": {
            "tags": []
          },
          "execution_count": 9
        }
      ]
    },
    {
      "metadata": {
        "id": "4l_cWI25rfTq",
        "colab_type": "code",
        "colab": {
          "base_uri": "https://localhost:8080/",
          "height": 35
        },
        "outputId": "28b5d0ee-331c-4cd6-9383-084c99a0b684"
      },
      "cell_type": "code",
      "source": [
        "s.index"
      ],
      "execution_count": 10,
      "outputs": [
        {
          "output_type": "execute_result",
          "data": {
            "text/plain": [
              "Index(['Archery', 'Golf', 'Sumo', 'Taekwondo'], dtype='object')"
            ]
          },
          "metadata": {
            "tags": []
          },
          "execution_count": 10
        }
      ]
    },
    {
      "metadata": {
        "id": "s_hJFhPgrfTr",
        "colab_type": "code",
        "colab": {
          "base_uri": "https://localhost:8080/",
          "height": 87
        },
        "outputId": "d522992d-0666-44c0-88d3-a65fcdff974d"
      },
      "cell_type": "code",
      "source": [
        "# You could also separate your index creation from the data \n",
        "# by passing in the index as a list explicitly to the series.\n",
        "s = pd.Series(['Tiger', 'Bear', 'Moose'], index=['India', 'America', 'Canada'])\n",
        "s"
      ],
      "execution_count": 11,
      "outputs": [
        {
          "output_type": "execute_result",
          "data": {
            "text/plain": [
              "India      Tiger\n",
              "America     Bear\n",
              "Canada     Moose\n",
              "dtype: object"
            ]
          },
          "metadata": {
            "tags": []
          },
          "execution_count": 11
        }
      ]
    },
    {
      "metadata": {
        "id": "8ZfhXSaKrfTy",
        "colab_type": "code",
        "colab": {
          "base_uri": "https://localhost:8080/",
          "height": 87
        },
        "outputId": "38280b49-997b-4f78-8a8e-0760d70d179c"
      },
      "cell_type": "code",
      "source": [
        "\"\"\"\n",
        "If the list of values in the index object are not align with \n",
        "the keys in your dictionary for creating the series, pandas will \n",
        "override the automatic creation to favor only and all of the \n",
        "indices values that you provided.\n",
        "\n",
        "It will ignore it from your dictionary, all keys, which are not in your index, \n",
        "and pandas will add non type or NAN values for any index value you provide, \n",
        "which is not in your dictionary key list.\n",
        "\"\"\"\n",
        "sports = {'Archery': 'Bhutan',\n",
        "          'Golf': 'Scotland',\n",
        "          'Sumo': 'Japan',\n",
        "          'Taekwondo': 'South Korea'}\n",
        "s = pd.Series(sports, index=['Golf', 'Sumo', 'Hockey'])\n",
        "s"
      ],
      "execution_count": 12,
      "outputs": [
        {
          "output_type": "execute_result",
          "data": {
            "text/plain": [
              "Golf      Scotland\n",
              "Sumo         Japan\n",
              "Hockey         NaN\n",
              "dtype: object"
            ]
          },
          "metadata": {
            "tags": []
          },
          "execution_count": 12
        }
      ]
    },
    {
      "metadata": {
        "id": "Kn8H_CrXrfT0",
        "colab_type": "text"
      },
      "cell_type": "markdown",
      "source": [
        "# Querying a Series"
      ]
    },
    {
      "metadata": {
        "id": "n8G-XBCDrfT1",
        "colab_type": "code",
        "colab": {
          "base_uri": "https://localhost:8080/",
          "height": 104
        },
        "outputId": "28e8b5ea-8593-4972-9fd8-ca01c537e099"
      },
      "cell_type": "code",
      "source": [
        "sports = {'Archery': 'Bhutan',\n",
        "          'Golf': 'Scotland',\n",
        "          'Sumo': 'Japan',\n",
        "          'Taekwondo': 'South Korea'}\n",
        "s = pd.Series(sports)\n",
        "s"
      ],
      "execution_count": 13,
      "outputs": [
        {
          "output_type": "execute_result",
          "data": {
            "text/plain": [
              "Archery           Bhutan\n",
              "Golf            Scotland\n",
              "Sumo               Japan\n",
              "Taekwondo    South Korea\n",
              "dtype: object"
            ]
          },
          "metadata": {
            "tags": []
          },
          "execution_count": 13
        }
      ]
    },
    {
      "metadata": {
        "id": "hS4Q_IJdrfT4",
        "colab_type": "code",
        "colab": {
          "base_uri": "https://localhost:8080/",
          "height": 35
        },
        "outputId": "d03d66e8-c59f-4ba5-abe0-3517a8dc02d8"
      },
      "cell_type": "code",
      "source": [
        "# query by the numeric location\n",
        "s.iloc[3]"
      ],
      "execution_count": 14,
      "outputs": [
        {
          "output_type": "execute_result",
          "data": {
            "text/plain": [
              "'South Korea'"
            ]
          },
          "metadata": {
            "tags": []
          },
          "execution_count": 14
        }
      ]
    },
    {
      "metadata": {
        "id": "4PFdEBwvrfT7",
        "colab_type": "code",
        "colab": {
          "base_uri": "https://localhost:8080/",
          "height": 35
        },
        "outputId": "39a147c3-9ca7-40fc-c0fd-1323da9a04b5"
      },
      "cell_type": "code",
      "source": [
        "# query by the index label \n",
        "s.loc['Golf']"
      ],
      "execution_count": 15,
      "outputs": [
        {
          "output_type": "execute_result",
          "data": {
            "text/plain": [
              "'Scotland'"
            ]
          },
          "metadata": {
            "tags": []
          },
          "execution_count": 15
        }
      ]
    },
    {
      "metadata": {
        "id": "1EqUk2K4rfT9",
        "colab_type": "code",
        "colab": {
          "base_uri": "https://localhost:8080/",
          "height": 35
        },
        "outputId": "0c02cbad-7990-437e-c284-18fe4f605a6a"
      },
      "cell_type": "code",
      "source": [
        "s[3]"
      ],
      "execution_count": 16,
      "outputs": [
        {
          "output_type": "execute_result",
          "data": {
            "text/plain": [
              "'South Korea'"
            ]
          },
          "metadata": {
            "tags": []
          },
          "execution_count": 16
        }
      ]
    },
    {
      "metadata": {
        "id": "0TEEWMyArfUA",
        "colab_type": "code",
        "colab": {
          "base_uri": "https://localhost:8080/",
          "height": 35
        },
        "outputId": "27533bed-c137-48c9-cce5-bdabe73750d9"
      },
      "cell_type": "code",
      "source": [
        "s['Golf']"
      ],
      "execution_count": 17,
      "outputs": [
        {
          "output_type": "execute_result",
          "data": {
            "text/plain": [
              "'Scotland'"
            ]
          },
          "metadata": {
            "tags": []
          },
          "execution_count": 17
        }
      ]
    },
    {
      "metadata": {
        "id": "cv6Xf6ORrfUF",
        "colab_type": "code",
        "colab": {}
      },
      "cell_type": "code",
      "source": [
        "#  If index is a list of integers\n",
        "sports = {99: 'Bhutan',\n",
        "          100: 'Scotland',\n",
        "          101: 'Japan',\n",
        "          102: 'South Korea'}\n",
        "s = pd.Series(sports)"
      ],
      "execution_count": 0,
      "outputs": []
    },
    {
      "metadata": {
        "scrolled": true,
        "id": "LiEvfXebrfUI",
        "colab_type": "code",
        "colab": {}
      },
      "cell_type": "code",
      "source": [
        "# This won't call s.iloc[0] as one might expect, \n",
        "# it generates an error instead\n",
        "s[0] \n",
        "# So always use s.iloc[] or s.loc[]"
      ],
      "execution_count": 0,
      "outputs": []
    },
    {
      "metadata": {
        "id": "uabUN2XVrfUK",
        "colab_type": "code",
        "colab": {
          "base_uri": "https://localhost:8080/",
          "height": 104
        },
        "outputId": "b7f438a9-9a9d-4186-d4e7-844ff26793bd"
      },
      "cell_type": "code",
      "source": [
        "s = pd.Series([100.00, 120.00, 101.00, 3.00])\n",
        "s"
      ],
      "execution_count": 6,
      "outputs": [
        {
          "output_type": "execute_result",
          "data": {
            "text/plain": [
              "0    100.0\n",
              "1    120.0\n",
              "2    101.0\n",
              "3      3.0\n",
              "dtype: float64"
            ]
          },
          "metadata": {
            "tags": []
          },
          "execution_count": 6
        }
      ]
    },
    {
      "metadata": {
        "id": "BjLAPko0rfUM",
        "colab_type": "code",
        "colab": {
          "base_uri": "https://localhost:8080/",
          "height": 35
        },
        "outputId": "6baf3e19-0713-40cd-90eb-3cd44076028d"
      },
      "cell_type": "code",
      "source": [
        "# Slow operation\n",
        "total = 0\n",
        "for item in s:\n",
        "    total+=item\n",
        "print(total)"
      ],
      "execution_count": 25,
      "outputs": [
        {
          "output_type": "stream",
          "text": [
            "324.0\n"
          ],
          "name": "stdout"
        }
      ]
    },
    {
      "metadata": {
        "id": "UTOcx_wurfUN",
        "colab_type": "code",
        "colab": {
          "base_uri": "https://localhost:8080/",
          "height": 35
        },
        "outputId": "2c6c63f7-b0b1-4048-8e42-54169489e9c6"
      },
      "cell_type": "code",
      "source": [
        "import numpy as np\n",
        "\n",
        "total = np.sum(s)\n",
        "print(total)"
      ],
      "execution_count": 7,
      "outputs": [
        {
          "output_type": "stream",
          "text": [
            "324.0\n"
          ],
          "name": "stdout"
        }
      ]
    },
    {
      "metadata": {
        "id": "5C_AUgAIrfUP",
        "colab_type": "code",
        "colab": {
          "base_uri": "https://localhost:8080/",
          "height": 121
        },
        "outputId": "b2d54656-f1d9-42bc-fbbd-af3917cdfe9a"
      },
      "cell_type": "code",
      "source": [
        "# this creates a big series of random numbers\n",
        "s = pd.Series(np.random.randint(0,1000,10000))\n",
        "s.head() # list first 5 elements"
      ],
      "execution_count": 8,
      "outputs": [
        {
          "output_type": "execute_result",
          "data": {
            "text/plain": [
              "0    738\n",
              "1    557\n",
              "2    396\n",
              "3    671\n",
              "4    523\n",
              "dtype: int64"
            ]
          },
          "metadata": {
            "tags": []
          },
          "execution_count": 8
        }
      ]
    },
    {
      "metadata": {
        "id": "CsEYqmYorfUR",
        "colab_type": "code",
        "colab": {
          "base_uri": "https://localhost:8080/",
          "height": 35
        },
        "outputId": "8f214381-b499-4698-9137-a82703f5e7ac"
      },
      "cell_type": "code",
      "source": [
        "len(s)"
      ],
      "execution_count": 27,
      "outputs": [
        {
          "output_type": "execute_result",
          "data": {
            "text/plain": [
              "10000"
            ]
          },
          "metadata": {
            "tags": []
          },
          "execution_count": 27
        }
      ]
    },
    {
      "metadata": {
        "id": "zzj7GlYprfUT",
        "colab_type": "code",
        "colab": {
          "base_uri": "https://localhost:8080/",
          "height": 35
        },
        "outputId": "ac7cafd2-3744-4fa6-fc4e-da7a793678a4"
      },
      "cell_type": "code",
      "source": [
        "%%timeit -n 100\n",
        "summary = 0\n",
        "for item in s:\n",
        "    summary+=item"
      ],
      "execution_count": 28,
      "outputs": [
        {
          "output_type": "stream",
          "text": [
            "100 loops, best of 3: 899 µs per loop\n"
          ],
          "name": "stdout"
        }
      ]
    },
    {
      "metadata": {
        "id": "jDGMhD-mrfUV",
        "colab_type": "code",
        "colab": {
          "base_uri": "https://localhost:8080/",
          "height": 35
        },
        "outputId": "7df07cf7-aa44-4413-86cc-345a85f16dba"
      },
      "cell_type": "code",
      "source": [
        "%%timeit -n 100\n",
        "summary = np.sum(s)"
      ],
      "execution_count": 29,
      "outputs": [
        {
          "output_type": "stream",
          "text": [
            "100 loops, best of 3: 110 µs per loop\n"
          ],
          "name": "stdout"
        }
      ]
    },
    {
      "metadata": {
        "id": "1qUczlgQrfUX",
        "colab_type": "code",
        "colab": {
          "base_uri": "https://localhost:8080/",
          "height": 121
        },
        "outputId": "c5d64c65-fd72-4994-9970-a4171b993e90"
      },
      "cell_type": "code",
      "source": [
        "# adds two to each item in s using broadcasting\n",
        "s+=2 \n",
        "s.head()"
      ],
      "execution_count": 9,
      "outputs": [
        {
          "output_type": "execute_result",
          "data": {
            "text/plain": [
              "0    740\n",
              "1    559\n",
              "2    398\n",
              "3    673\n",
              "4    525\n",
              "dtype: int64"
            ]
          },
          "metadata": {
            "tags": []
          },
          "execution_count": 9
        }
      ]
    },
    {
      "metadata": {
        "id": "VQ2wsCixrfUY",
        "colab_type": "code",
        "colab": {
          "base_uri": "https://localhost:8080/",
          "height": 176
        },
        "outputId": "4e6d247d-1174-4b9b-b093-8f2d51dca372"
      },
      "cell_type": "code",
      "source": [
        "for label, value in s.iteritems():\n",
        "    s.set_value(label, value+2)\n",
        "s.head()"
      ],
      "execution_count": 10,
      "outputs": [
        {
          "output_type": "stream",
          "text": [
            "/usr/local/lib/python3.6/dist-packages/ipykernel_launcher.py:2: FutureWarning: set_value is deprecated and will be removed in a future release. Please use .at[] or .iat[] accessors instead\n",
            "  \n"
          ],
          "name": "stderr"
        },
        {
          "output_type": "execute_result",
          "data": {
            "text/plain": [
              "0    742\n",
              "1    561\n",
              "2    400\n",
              "3    675\n",
              "4    527\n",
              "dtype: int64"
            ]
          },
          "metadata": {
            "tags": []
          },
          "execution_count": 10
        }
      ]
    },
    {
      "metadata": {
        "id": "5Uq2IuOArfUb",
        "colab_type": "code",
        "colab": {
          "base_uri": "https://localhost:8080/",
          "height": 35
        },
        "outputId": "17d355c6-a5cc-479e-96f6-3d6b73cf380f"
      },
      "cell_type": "code",
      "source": [
        "%%timeit -n 10\n",
        "s = pd.Series(np.random.randint(0,1000,10000))\n",
        "for label, value in s.iteritems():\n",
        "    s.loc[label]= value+2"
      ],
      "execution_count": 11,
      "outputs": [
        {
          "output_type": "stream",
          "text": [
            "10 loops, best of 3: 5.81 s per loop\n"
          ],
          "name": "stdout"
        }
      ]
    },
    {
      "metadata": {
        "id": "7dAidGDUrfUc",
        "colab_type": "code",
        "colab": {
          "base_uri": "https://localhost:8080/",
          "height": 35
        },
        "outputId": "9a73575a-d2cc-4b2a-df64-11d448fb480c"
      },
      "cell_type": "code",
      "source": [
        "%%timeit -n 10\n",
        "s = pd.Series(np.random.randint(0,1000,10000))\n",
        "s+=2\n"
      ],
      "execution_count": 12,
      "outputs": [
        {
          "output_type": "stream",
          "text": [
            "10 loops, best of 3: 393 µs per loop\n"
          ],
          "name": "stdout"
        }
      ]
    },
    {
      "metadata": {
        "id": "JkIMAj09rfUe",
        "colab_type": "code",
        "colab": {
          "base_uri": "https://localhost:8080/",
          "height": 104
        },
        "outputId": "37666b99-3c69-4b79-efc2-ff567c69eab1"
      },
      "cell_type": "code",
      "source": [
        "s = pd.Series([1, 2, 3])\n",
        "s.loc['Animal'] = 'Bears'\n",
        "s"
      ],
      "execution_count": 13,
      "outputs": [
        {
          "output_type": "execute_result",
          "data": {
            "text/plain": [
              "0             1\n",
              "1             2\n",
              "2             3\n",
              "Animal    Bears\n",
              "dtype: object"
            ]
          },
          "metadata": {
            "tags": []
          },
          "execution_count": 13
        }
      ]
    },
    {
      "metadata": {
        "id": "TOkrFSNHrfUg",
        "colab_type": "code",
        "colab": {}
      },
      "cell_type": "code",
      "source": [
        "original_sports = pd.Series({'Archery': 'Bhutan',\n",
        "                             'Golf': 'Scotland',\n",
        "                             'Sumo': 'Japan',\n",
        "                             'Taekwondo': 'South Korea'})\n",
        "cricket_loving_countries = pd.Series(['Australia',\n",
        "                                      'Barbados',\n",
        "                                      'Pakistan',\n",
        "                                      'England'], \n",
        "                                   index=['Cricket',\n",
        "                                          'Cricket',\n",
        "                                          'Cricket',\n",
        "                                          'Cricket'])\n",
        "all_countries = original_sports.append(cricket_loving_countries)"
      ],
      "execution_count": 0,
      "outputs": []
    },
    {
      "metadata": {
        "id": "5I-kwjfcrfUj",
        "colab_type": "code",
        "colab": {
          "base_uri": "https://localhost:8080/",
          "height": 104
        },
        "outputId": "02926879-b690-42fe-e2ec-599ad0b28dab"
      },
      "cell_type": "code",
      "source": [
        "original_sports"
      ],
      "execution_count": 16,
      "outputs": [
        {
          "output_type": "execute_result",
          "data": {
            "text/plain": [
              "Archery           Bhutan\n",
              "Golf            Scotland\n",
              "Sumo               Japan\n",
              "Taekwondo    South Korea\n",
              "dtype: object"
            ]
          },
          "metadata": {
            "tags": []
          },
          "execution_count": 16
        }
      ]
    },
    {
      "metadata": {
        "id": "plW1FIKErfUk",
        "colab_type": "code",
        "colab": {
          "base_uri": "https://localhost:8080/",
          "height": 104
        },
        "outputId": "a149b77e-85ac-49df-edc3-bdd76edd85b6"
      },
      "cell_type": "code",
      "source": [
        "cricket_loving_countries"
      ],
      "execution_count": 17,
      "outputs": [
        {
          "output_type": "execute_result",
          "data": {
            "text/plain": [
              "Cricket    Australia\n",
              "Cricket     Barbados\n",
              "Cricket     Pakistan\n",
              "Cricket      England\n",
              "dtype: object"
            ]
          },
          "metadata": {
            "tags": []
          },
          "execution_count": 17
        }
      ]
    },
    {
      "metadata": {
        "id": "GavGdtedrfUn",
        "colab_type": "code",
        "colab": {
          "base_uri": "https://localhost:8080/",
          "height": 173
        },
        "outputId": "ed25f641-f0f7-4298-9e04-5fa38bec034d"
      },
      "cell_type": "code",
      "source": [
        "all_countries"
      ],
      "execution_count": 18,
      "outputs": [
        {
          "output_type": "execute_result",
          "data": {
            "text/plain": [
              "Archery           Bhutan\n",
              "Golf            Scotland\n",
              "Sumo               Japan\n",
              "Taekwondo    South Korea\n",
              "Cricket        Australia\n",
              "Cricket         Barbados\n",
              "Cricket         Pakistan\n",
              "Cricket          England\n",
              "dtype: object"
            ]
          },
          "metadata": {
            "tags": []
          },
          "execution_count": 18
        }
      ]
    },
    {
      "metadata": {
        "id": "5C4EK1_ZrfUo",
        "colab_type": "code",
        "colab": {
          "base_uri": "https://localhost:8080/",
          "height": 104
        },
        "outputId": "ce74a68e-9881-44f3-8dff-1de19ba2266f"
      },
      "cell_type": "code",
      "source": [
        "all_countries.loc['Cricket']"
      ],
      "execution_count": 19,
      "outputs": [
        {
          "output_type": "execute_result",
          "data": {
            "text/plain": [
              "Cricket    Australia\n",
              "Cricket     Barbados\n",
              "Cricket     Pakistan\n",
              "Cricket      England\n",
              "dtype: object"
            ]
          },
          "metadata": {
            "tags": []
          },
          "execution_count": 19
        }
      ]
    },
    {
      "metadata": {
        "collapsed": true,
        "id": "ReyXGOlkrfUr",
        "colab_type": "text"
      },
      "cell_type": "markdown",
      "source": [
        "# **The DataFrame Data Structure"
      ]
    },
    {
      "metadata": {
        "id": "skSO4QbQrfUr",
        "colab_type": "code",
        "colab": {
          "base_uri": "https://localhost:8080/",
          "height": 141
        },
        "outputId": "16a0effd-03ab-4a75-e7d3-f9eb1eb23924"
      },
      "cell_type": "code",
      "source": [
        "import pandas as pd\n",
        "purchase_1 = pd.Series({'Name': 'Chris',\n",
        "                        'Item Purchased': 'Dog Food',\n",
        "                        'Cost': 22.50})\n",
        "purchase_2 = pd.Series({'Name': 'Kevyn',\n",
        "                        'Item Purchased': 'Kitty Litter',\n",
        "                        'Cost': 2.50})\n",
        "purchase_3 = pd.Series({'Name': 'Vinod',\n",
        "                        'Item Purchased': 'Bird Seed',\n",
        "                        'Cost': 5.00})\n",
        "df = pd.DataFrame([purchase_1, purchase_2, purchase_3], index=['Store 1', 'Store 1', 'Store 2'])\n",
        "df.head()"
      ],
      "execution_count": 20,
      "outputs": [
        {
          "output_type": "execute_result",
          "data": {
            "text/html": [
              "<div>\n",
              "<style scoped>\n",
              "    .dataframe tbody tr th:only-of-type {\n",
              "        vertical-align: middle;\n",
              "    }\n",
              "\n",
              "    .dataframe tbody tr th {\n",
              "        vertical-align: top;\n",
              "    }\n",
              "\n",
              "    .dataframe thead th {\n",
              "        text-align: right;\n",
              "    }\n",
              "</style>\n",
              "<table border=\"1\" class=\"dataframe\">\n",
              "  <thead>\n",
              "    <tr style=\"text-align: right;\">\n",
              "      <th></th>\n",
              "      <th>Cost</th>\n",
              "      <th>Item Purchased</th>\n",
              "      <th>Name</th>\n",
              "    </tr>\n",
              "  </thead>\n",
              "  <tbody>\n",
              "    <tr>\n",
              "      <th>Store 1</th>\n",
              "      <td>22.5</td>\n",
              "      <td>Dog Food</td>\n",
              "      <td>Chris</td>\n",
              "    </tr>\n",
              "    <tr>\n",
              "      <th>Store 1</th>\n",
              "      <td>2.5</td>\n",
              "      <td>Kitty Litter</td>\n",
              "      <td>Kevyn</td>\n",
              "    </tr>\n",
              "    <tr>\n",
              "      <th>Store 2</th>\n",
              "      <td>5.0</td>\n",
              "      <td>Bird Seed</td>\n",
              "      <td>Vinod</td>\n",
              "    </tr>\n",
              "  </tbody>\n",
              "</table>\n",
              "</div>"
            ],
            "text/plain": [
              "         Cost Item Purchased   Name\n",
              "Store 1  22.5       Dog Food  Chris\n",
              "Store 1   2.5   Kitty Litter  Kevyn\n",
              "Store 2   5.0      Bird Seed  Vinod"
            ]
          },
          "metadata": {
            "tags": []
          },
          "execution_count": 20
        }
      ]
    },
    {
      "metadata": {
        "id": "P_yy5JOWrfUs",
        "colab_type": "code",
        "colab": {
          "base_uri": "https://localhost:8080/",
          "height": 87
        },
        "outputId": "ae4146a7-685f-43a1-96b4-a2c709070730"
      },
      "cell_type": "code",
      "source": [
        "df.loc['Store 2']"
      ],
      "execution_count": 21,
      "outputs": [
        {
          "output_type": "execute_result",
          "data": {
            "text/plain": [
              "Cost                      5\n",
              "Item Purchased    Bird Seed\n",
              "Name                  Vinod\n",
              "Name: Store 2, dtype: object"
            ]
          },
          "metadata": {
            "tags": []
          },
          "execution_count": 21
        }
      ]
    },
    {
      "metadata": {
        "id": "2cNeo-QIrfUu",
        "colab_type": "code",
        "colab": {
          "base_uri": "https://localhost:8080/",
          "height": 35
        },
        "outputId": "90f185da-5a4f-43d8-ca12-3c03860953de"
      },
      "cell_type": "code",
      "source": [
        "type(df.loc['Store 2'])"
      ],
      "execution_count": 22,
      "outputs": [
        {
          "output_type": "execute_result",
          "data": {
            "text/plain": [
              "pandas.core.series.Series"
            ]
          },
          "metadata": {
            "tags": []
          },
          "execution_count": 22
        }
      ]
    },
    {
      "metadata": {
        "id": "BfSXkTjbrfUx",
        "colab_type": "code",
        "colab": {
          "base_uri": "https://localhost:8080/",
          "height": 110
        },
        "outputId": "4a3f9bde-051d-4036-deda-9ed487fefba7"
      },
      "cell_type": "code",
      "source": [
        "df.loc['Store 1']"
      ],
      "execution_count": 23,
      "outputs": [
        {
          "output_type": "execute_result",
          "data": {
            "text/html": [
              "<div>\n",
              "<style scoped>\n",
              "    .dataframe tbody tr th:only-of-type {\n",
              "        vertical-align: middle;\n",
              "    }\n",
              "\n",
              "    .dataframe tbody tr th {\n",
              "        vertical-align: top;\n",
              "    }\n",
              "\n",
              "    .dataframe thead th {\n",
              "        text-align: right;\n",
              "    }\n",
              "</style>\n",
              "<table border=\"1\" class=\"dataframe\">\n",
              "  <thead>\n",
              "    <tr style=\"text-align: right;\">\n",
              "      <th></th>\n",
              "      <th>Cost</th>\n",
              "      <th>Item Purchased</th>\n",
              "      <th>Name</th>\n",
              "    </tr>\n",
              "  </thead>\n",
              "  <tbody>\n",
              "    <tr>\n",
              "      <th>Store 1</th>\n",
              "      <td>22.5</td>\n",
              "      <td>Dog Food</td>\n",
              "      <td>Chris</td>\n",
              "    </tr>\n",
              "    <tr>\n",
              "      <th>Store 1</th>\n",
              "      <td>2.5</td>\n",
              "      <td>Kitty Litter</td>\n",
              "      <td>Kevyn</td>\n",
              "    </tr>\n",
              "  </tbody>\n",
              "</table>\n",
              "</div>"
            ],
            "text/plain": [
              "         Cost Item Purchased   Name\n",
              "Store 1  22.5       Dog Food  Chris\n",
              "Store 1   2.5   Kitty Litter  Kevyn"
            ]
          },
          "metadata": {
            "tags": []
          },
          "execution_count": 23
        }
      ]
    },
    {
      "metadata": {
        "id": "rXY1RBAKrfU4",
        "colab_type": "code",
        "colab": {
          "base_uri": "https://localhost:8080/",
          "height": 69
        },
        "outputId": "fe510440-6ffe-4503-95f2-2eabe80e7c52"
      },
      "cell_type": "code",
      "source": [
        "df.loc['Store 1', 'Cost']"
      ],
      "execution_count": 24,
      "outputs": [
        {
          "output_type": "execute_result",
          "data": {
            "text/plain": [
              "Store 1    22.5\n",
              "Store 1     2.5\n",
              "Name: Cost, dtype: float64"
            ]
          },
          "metadata": {
            "tags": []
          },
          "execution_count": 24
        }
      ]
    },
    {
      "metadata": {
        "id": "5-2VejFGrfU7",
        "colab_type": "code",
        "colab": {
          "base_uri": "https://localhost:8080/",
          "height": 141
        },
        "outputId": "a0ede37b-0ce2-4a6e-9729-0119c8ca7909"
      },
      "cell_type": "code",
      "source": [
        "df.T"
      ],
      "execution_count": 25,
      "outputs": [
        {
          "output_type": "execute_result",
          "data": {
            "text/html": [
              "<div>\n",
              "<style scoped>\n",
              "    .dataframe tbody tr th:only-of-type {\n",
              "        vertical-align: middle;\n",
              "    }\n",
              "\n",
              "    .dataframe tbody tr th {\n",
              "        vertical-align: top;\n",
              "    }\n",
              "\n",
              "    .dataframe thead th {\n",
              "        text-align: right;\n",
              "    }\n",
              "</style>\n",
              "<table border=\"1\" class=\"dataframe\">\n",
              "  <thead>\n",
              "    <tr style=\"text-align: right;\">\n",
              "      <th></th>\n",
              "      <th>Store 1</th>\n",
              "      <th>Store 1</th>\n",
              "      <th>Store 2</th>\n",
              "    </tr>\n",
              "  </thead>\n",
              "  <tbody>\n",
              "    <tr>\n",
              "      <th>Cost</th>\n",
              "      <td>22.5</td>\n",
              "      <td>2.5</td>\n",
              "      <td>5</td>\n",
              "    </tr>\n",
              "    <tr>\n",
              "      <th>Item Purchased</th>\n",
              "      <td>Dog Food</td>\n",
              "      <td>Kitty Litter</td>\n",
              "      <td>Bird Seed</td>\n",
              "    </tr>\n",
              "    <tr>\n",
              "      <th>Name</th>\n",
              "      <td>Chris</td>\n",
              "      <td>Kevyn</td>\n",
              "      <td>Vinod</td>\n",
              "    </tr>\n",
              "  </tbody>\n",
              "</table>\n",
              "</div>"
            ],
            "text/plain": [
              "                 Store 1       Store 1    Store 2\n",
              "Cost                22.5           2.5          5\n",
              "Item Purchased  Dog Food  Kitty Litter  Bird Seed\n",
              "Name               Chris         Kevyn      Vinod"
            ]
          },
          "metadata": {
            "tags": []
          },
          "execution_count": 25
        }
      ]
    },
    {
      "metadata": {
        "id": "L0TopuONrfU8",
        "colab_type": "code",
        "colab": {
          "base_uri": "https://localhost:8080/",
          "height": 87
        },
        "outputId": "3f9b770b-d57b-4fde-84fd-41e4c7d40d06"
      },
      "cell_type": "code",
      "source": [
        "df.T.loc['Cost']"
      ],
      "execution_count": 26,
      "outputs": [
        {
          "output_type": "execute_result",
          "data": {
            "text/plain": [
              "Store 1    22.5\n",
              "Store 1     2.5\n",
              "Store 2       5\n",
              "Name: Cost, dtype: object"
            ]
          },
          "metadata": {
            "tags": []
          },
          "execution_count": 26
        }
      ]
    },
    {
      "metadata": {
        "id": "NOLMeW4GrfU_",
        "colab_type": "code",
        "colab": {
          "base_uri": "https://localhost:8080/",
          "height": 87
        },
        "outputId": "1fa9e8d1-3b4d-46d3-9b40-dc1a25a8e1a8"
      },
      "cell_type": "code",
      "source": [
        "df['Cost']"
      ],
      "execution_count": 27,
      "outputs": [
        {
          "output_type": "execute_result",
          "data": {
            "text/plain": [
              "Store 1    22.5\n",
              "Store 1     2.5\n",
              "Store 2     5.0\n",
              "Name: Cost, dtype: float64"
            ]
          },
          "metadata": {
            "tags": []
          },
          "execution_count": 27
        }
      ]
    },
    {
      "metadata": {
        "id": "Acbq1IvIrfVC",
        "colab_type": "code",
        "colab": {
          "base_uri": "https://localhost:8080/",
          "height": 69
        },
        "outputId": "5d4a3c19-97da-4eb0-d36d-ac13b2a23968"
      },
      "cell_type": "code",
      "source": [
        "# Chaining\n",
        "df.loc['Store 1']['Cost'] # 'loc' and 'iloc' both are row operation"
      ],
      "execution_count": 28,
      "outputs": [
        {
          "output_type": "execute_result",
          "data": {
            "text/plain": [
              "Store 1    22.5\n",
              "Store 1     2.5\n",
              "Name: Cost, dtype: float64"
            ]
          },
          "metadata": {
            "tags": []
          },
          "execution_count": 28
        }
      ]
    },
    {
      "metadata": {
        "id": "mNSkYqDZrfVE",
        "colab_type": "code",
        "colab": {
          "base_uri": "https://localhost:8080/",
          "height": 141
        },
        "outputId": "b8c78c79-71da-432d-8f9c-e39c2279eb1e"
      },
      "cell_type": "code",
      "source": [
        "# Column slice\n",
        "df.loc[:,['Name', 'Cost']]"
      ],
      "execution_count": 29,
      "outputs": [
        {
          "output_type": "execute_result",
          "data": {
            "text/html": [
              "<div>\n",
              "<style scoped>\n",
              "    .dataframe tbody tr th:only-of-type {\n",
              "        vertical-align: middle;\n",
              "    }\n",
              "\n",
              "    .dataframe tbody tr th {\n",
              "        vertical-align: top;\n",
              "    }\n",
              "\n",
              "    .dataframe thead th {\n",
              "        text-align: right;\n",
              "    }\n",
              "</style>\n",
              "<table border=\"1\" class=\"dataframe\">\n",
              "  <thead>\n",
              "    <tr style=\"text-align: right;\">\n",
              "      <th></th>\n",
              "      <th>Name</th>\n",
              "      <th>Cost</th>\n",
              "    </tr>\n",
              "  </thead>\n",
              "  <tbody>\n",
              "    <tr>\n",
              "      <th>Store 1</th>\n",
              "      <td>Chris</td>\n",
              "      <td>22.5</td>\n",
              "    </tr>\n",
              "    <tr>\n",
              "      <th>Store 1</th>\n",
              "      <td>Kevyn</td>\n",
              "      <td>2.5</td>\n",
              "    </tr>\n",
              "    <tr>\n",
              "      <th>Store 2</th>\n",
              "      <td>Vinod</td>\n",
              "      <td>5.0</td>\n",
              "    </tr>\n",
              "  </tbody>\n",
              "</table>\n",
              "</div>"
            ],
            "text/plain": [
              "          Name  Cost\n",
              "Store 1  Chris  22.5\n",
              "Store 1  Kevyn   2.5\n",
              "Store 2  Vinod   5.0"
            ]
          },
          "metadata": {
            "tags": []
          },
          "execution_count": 29
        }
      ]
    },
    {
      "metadata": {
        "id": "f5pL8nBqrfVF",
        "colab_type": "code",
        "colab": {
          "base_uri": "https://localhost:8080/",
          "height": 79
        },
        "outputId": "9a5ceae0-923b-459e-871d-e15815ba3ad7"
      },
      "cell_type": "code",
      "source": [
        "# Delete data\n",
        "# The drop function doesn't change the DataFrame by default.\n",
        "# Instead, it returns a copy of the DataFrame with the given rows removed.\n",
        "df.drop('Store 1')"
      ],
      "execution_count": 30,
      "outputs": [
        {
          "output_type": "execute_result",
          "data": {
            "text/html": [
              "<div>\n",
              "<style scoped>\n",
              "    .dataframe tbody tr th:only-of-type {\n",
              "        vertical-align: middle;\n",
              "    }\n",
              "\n",
              "    .dataframe tbody tr th {\n",
              "        vertical-align: top;\n",
              "    }\n",
              "\n",
              "    .dataframe thead th {\n",
              "        text-align: right;\n",
              "    }\n",
              "</style>\n",
              "<table border=\"1\" class=\"dataframe\">\n",
              "  <thead>\n",
              "    <tr style=\"text-align: right;\">\n",
              "      <th></th>\n",
              "      <th>Cost</th>\n",
              "      <th>Item Purchased</th>\n",
              "      <th>Name</th>\n",
              "    </tr>\n",
              "  </thead>\n",
              "  <tbody>\n",
              "    <tr>\n",
              "      <th>Store 2</th>\n",
              "      <td>5.0</td>\n",
              "      <td>Bird Seed</td>\n",
              "      <td>Vinod</td>\n",
              "    </tr>\n",
              "  </tbody>\n",
              "</table>\n",
              "</div>"
            ],
            "text/plain": [
              "         Cost Item Purchased   Name\n",
              "Store 2   5.0      Bird Seed  Vinod"
            ]
          },
          "metadata": {
            "tags": []
          },
          "execution_count": 30
        }
      ]
    },
    {
      "metadata": {
        "id": "Jd4K_qsOrfVI",
        "colab_type": "code",
        "colab": {
          "base_uri": "https://localhost:8080/",
          "height": 141
        },
        "outputId": "3843798a-7a88-4dfb-e69c-0eaf92c18fdf"
      },
      "cell_type": "code",
      "source": [
        "df"
      ],
      "execution_count": 31,
      "outputs": [
        {
          "output_type": "execute_result",
          "data": {
            "text/html": [
              "<div>\n",
              "<style scoped>\n",
              "    .dataframe tbody tr th:only-of-type {\n",
              "        vertical-align: middle;\n",
              "    }\n",
              "\n",
              "    .dataframe tbody tr th {\n",
              "        vertical-align: top;\n",
              "    }\n",
              "\n",
              "    .dataframe thead th {\n",
              "        text-align: right;\n",
              "    }\n",
              "</style>\n",
              "<table border=\"1\" class=\"dataframe\">\n",
              "  <thead>\n",
              "    <tr style=\"text-align: right;\">\n",
              "      <th></th>\n",
              "      <th>Cost</th>\n",
              "      <th>Item Purchased</th>\n",
              "      <th>Name</th>\n",
              "    </tr>\n",
              "  </thead>\n",
              "  <tbody>\n",
              "    <tr>\n",
              "      <th>Store 1</th>\n",
              "      <td>22.5</td>\n",
              "      <td>Dog Food</td>\n",
              "      <td>Chris</td>\n",
              "    </tr>\n",
              "    <tr>\n",
              "      <th>Store 1</th>\n",
              "      <td>2.5</td>\n",
              "      <td>Kitty Litter</td>\n",
              "      <td>Kevyn</td>\n",
              "    </tr>\n",
              "    <tr>\n",
              "      <th>Store 2</th>\n",
              "      <td>5.0</td>\n",
              "      <td>Bird Seed</td>\n",
              "      <td>Vinod</td>\n",
              "    </tr>\n",
              "  </tbody>\n",
              "</table>\n",
              "</div>"
            ],
            "text/plain": [
              "         Cost Item Purchased   Name\n",
              "Store 1  22.5       Dog Food  Chris\n",
              "Store 1   2.5   Kitty Litter  Kevyn\n",
              "Store 2   5.0      Bird Seed  Vinod"
            ]
          },
          "metadata": {
            "tags": []
          },
          "execution_count": 31
        }
      ]
    },
    {
      "metadata": {
        "id": "SjbvbLubrfVK",
        "colab_type": "code",
        "colab": {
          "base_uri": "https://localhost:8080/",
          "height": 79
        },
        "outputId": "a8cd034e-5775-44e2-b549-293b519ed2a0"
      },
      "cell_type": "code",
      "source": [
        "copy_df = df.copy()\n",
        "copy_df = copy_df.drop('Store 1')\n",
        "copy_df"
      ],
      "execution_count": 32,
      "outputs": [
        {
          "output_type": "execute_result",
          "data": {
            "text/html": [
              "<div>\n",
              "<style scoped>\n",
              "    .dataframe tbody tr th:only-of-type {\n",
              "        vertical-align: middle;\n",
              "    }\n",
              "\n",
              "    .dataframe tbody tr th {\n",
              "        vertical-align: top;\n",
              "    }\n",
              "\n",
              "    .dataframe thead th {\n",
              "        text-align: right;\n",
              "    }\n",
              "</style>\n",
              "<table border=\"1\" class=\"dataframe\">\n",
              "  <thead>\n",
              "    <tr style=\"text-align: right;\">\n",
              "      <th></th>\n",
              "      <th>Cost</th>\n",
              "      <th>Item Purchased</th>\n",
              "      <th>Name</th>\n",
              "    </tr>\n",
              "  </thead>\n",
              "  <tbody>\n",
              "    <tr>\n",
              "      <th>Store 2</th>\n",
              "      <td>5.0</td>\n",
              "      <td>Bird Seed</td>\n",
              "      <td>Vinod</td>\n",
              "    </tr>\n",
              "  </tbody>\n",
              "</table>\n",
              "</div>"
            ],
            "text/plain": [
              "         Cost Item Purchased   Name\n",
              "Store 2   5.0      Bird Seed  Vinod"
            ]
          },
          "metadata": {
            "tags": []
          },
          "execution_count": 32
        }
      ]
    },
    {
      "metadata": {
        "id": "FthgZpJIrfVM",
        "colab_type": "code",
        "colab": {}
      },
      "cell_type": "code",
      "source": [
        "copy_df.drop?"
      ],
      "execution_count": 0,
      "outputs": []
    },
    {
      "metadata": {
        "id": "DSbWAbZ7rfVO",
        "colab_type": "code",
        "colab": {
          "base_uri": "https://localhost:8080/",
          "height": 79
        },
        "outputId": "b4d70549-cc1f-498b-c049-913e32051e29"
      },
      "cell_type": "code",
      "source": [
        "del copy_df['Name']\n",
        "copy_df"
      ],
      "execution_count": 34,
      "outputs": [
        {
          "output_type": "execute_result",
          "data": {
            "text/html": [
              "<div>\n",
              "<style scoped>\n",
              "    .dataframe tbody tr th:only-of-type {\n",
              "        vertical-align: middle;\n",
              "    }\n",
              "\n",
              "    .dataframe tbody tr th {\n",
              "        vertical-align: top;\n",
              "    }\n",
              "\n",
              "    .dataframe thead th {\n",
              "        text-align: right;\n",
              "    }\n",
              "</style>\n",
              "<table border=\"1\" class=\"dataframe\">\n",
              "  <thead>\n",
              "    <tr style=\"text-align: right;\">\n",
              "      <th></th>\n",
              "      <th>Cost</th>\n",
              "      <th>Item Purchased</th>\n",
              "    </tr>\n",
              "  </thead>\n",
              "  <tbody>\n",
              "    <tr>\n",
              "      <th>Store 2</th>\n",
              "      <td>5.0</td>\n",
              "      <td>Bird Seed</td>\n",
              "    </tr>\n",
              "  </tbody>\n",
              "</table>\n",
              "</div>"
            ],
            "text/plain": [
              "         Cost Item Purchased\n",
              "Store 2   5.0      Bird Seed"
            ]
          },
          "metadata": {
            "tags": []
          },
          "execution_count": 34
        }
      ]
    },
    {
      "metadata": {
        "id": "CppJ42dirfVQ",
        "colab_type": "code",
        "colab": {
          "base_uri": "https://localhost:8080/",
          "height": 141
        },
        "outputId": "0ea8317a-e613-4ac6-e956-8ccc9db51906"
      },
      "cell_type": "code",
      "source": [
        "df['Location'] = None\n",
        "df"
      ],
      "execution_count": 35,
      "outputs": [
        {
          "output_type": "execute_result",
          "data": {
            "text/html": [
              "<div>\n",
              "<style scoped>\n",
              "    .dataframe tbody tr th:only-of-type {\n",
              "        vertical-align: middle;\n",
              "    }\n",
              "\n",
              "    .dataframe tbody tr th {\n",
              "        vertical-align: top;\n",
              "    }\n",
              "\n",
              "    .dataframe thead th {\n",
              "        text-align: right;\n",
              "    }\n",
              "</style>\n",
              "<table border=\"1\" class=\"dataframe\">\n",
              "  <thead>\n",
              "    <tr style=\"text-align: right;\">\n",
              "      <th></th>\n",
              "      <th>Cost</th>\n",
              "      <th>Item Purchased</th>\n",
              "      <th>Name</th>\n",
              "      <th>Location</th>\n",
              "    </tr>\n",
              "  </thead>\n",
              "  <tbody>\n",
              "    <tr>\n",
              "      <th>Store 1</th>\n",
              "      <td>22.5</td>\n",
              "      <td>Dog Food</td>\n",
              "      <td>Chris</td>\n",
              "      <td>None</td>\n",
              "    </tr>\n",
              "    <tr>\n",
              "      <th>Store 1</th>\n",
              "      <td>2.5</td>\n",
              "      <td>Kitty Litter</td>\n",
              "      <td>Kevyn</td>\n",
              "      <td>None</td>\n",
              "    </tr>\n",
              "    <tr>\n",
              "      <th>Store 2</th>\n",
              "      <td>5.0</td>\n",
              "      <td>Bird Seed</td>\n",
              "      <td>Vinod</td>\n",
              "      <td>None</td>\n",
              "    </tr>\n",
              "  </tbody>\n",
              "</table>\n",
              "</div>"
            ],
            "text/plain": [
              "         Cost Item Purchased   Name Location\n",
              "Store 1  22.5       Dog Food  Chris     None\n",
              "Store 1   2.5   Kitty Litter  Kevyn     None\n",
              "Store 2   5.0      Bird Seed  Vinod     None"
            ]
          },
          "metadata": {
            "tags": []
          },
          "execution_count": 35
        }
      ]
    },
    {
      "metadata": {
        "id": "NvvRAV8-pK5E",
        "colab_type": "text"
      },
      "cell_type": "markdown",
      "source": [
        "Quiz: For the purchase records from the pet store, how would you update the DataFrame, applying a discount of 20% across all the values in the 'Cost' column?"
      ]
    },
    {
      "metadata": {
        "id": "w0kU8NpxpKFQ",
        "colab_type": "code",
        "colab": {
          "base_uri": "https://localhost:8080/",
          "height": 173
        },
        "outputId": "885da237-5b85-4e80-f3f0-354d7474b3be"
      },
      "cell_type": "code",
      "source": [
        "purchase_1 = pd.Series({'Name': 'Chris',\n",
        "                        'Item Purchased': 'Dog Food',\n",
        "                        'Cost': 22.50})\n",
        "purchase_2 = pd.Series({'Name': 'Kevyn',\n",
        "                        'Item Purchased': 'Kitty Litter',\n",
        "                        'Cost': 2.50})\n",
        "purchase_3 = pd.Series({'Name': 'Vinod',\n",
        "                        'Item Purchased': 'Bird Seed',\n",
        "                        'Cost': 5.00})\n",
        "\n",
        "df = pd.DataFrame([purchase_1, purchase_2, purchase_3], index=['Store 1', 'Store 1', 'Store 2'])\n",
        "print(df)\n",
        "print(\"---------\")\n",
        "df['Cost']=df['Cost']*0.8 # Call column directly with its name\n",
        "print (df) # Your answer here\n"
      ],
      "execution_count": 36,
      "outputs": [
        {
          "output_type": "stream",
          "text": [
            "         Cost Item Purchased   Name\n",
            "Store 1  22.5       Dog Food  Chris\n",
            "Store 1   2.5   Kitty Litter  Kevyn\n",
            "Store 2   5.0      Bird Seed  Vinod\n",
            "---------\n",
            "         Cost Item Purchased   Name\n",
            "Store 1  18.0       Dog Food  Chris\n",
            "Store 1   2.0   Kitty Litter  Kevyn\n",
            "Store 2   4.0      Bird Seed  Vinod\n"
          ],
          "name": "stdout"
        }
      ]
    },
    {
      "metadata": {
        "collapsed": true,
        "id": "yYrTgh0QrfVT",
        "colab_type": "text"
      },
      "cell_type": "markdown",
      "source": [
        "# Dataframe Indexing and Loading"
      ]
    },
    {
      "metadata": {
        "id": "T7nxOan9rfVU",
        "colab_type": "code",
        "colab": {
          "base_uri": "https://localhost:8080/",
          "height": 87
        },
        "outputId": "9ef6ca0f-7fc7-4765-a074-c67823949847"
      },
      "cell_type": "code",
      "source": [
        "costs = df['Cost']\n",
        "costs"
      ],
      "execution_count": 37,
      "outputs": [
        {
          "output_type": "execute_result",
          "data": {
            "text/plain": [
              "Store 1    18.0\n",
              "Store 1     2.0\n",
              "Store 2     4.0\n",
              "Name: Cost, dtype: float64"
            ]
          },
          "metadata": {
            "tags": []
          },
          "execution_count": 37
        }
      ]
    },
    {
      "metadata": {
        "id": "V-uudGZcrfVW",
        "colab_type": "code",
        "colab": {
          "base_uri": "https://localhost:8080/",
          "height": 87
        },
        "outputId": "f298b7e9-9239-477a-de8f-97e2df58967c"
      },
      "cell_type": "code",
      "source": [
        "# Broadcasting\n",
        "costs += 2\n",
        "costs"
      ],
      "execution_count": 38,
      "outputs": [
        {
          "output_type": "execute_result",
          "data": {
            "text/plain": [
              "Store 1    20.0\n",
              "Store 1     4.0\n",
              "Store 2     6.0\n",
              "Name: Cost, dtype: float64"
            ]
          },
          "metadata": {
            "tags": []
          },
          "execution_count": 38
        }
      ]
    },
    {
      "metadata": {
        "id": "fZvIh9MwrfVa",
        "colab_type": "code",
        "colab": {
          "base_uri": "https://localhost:8080/",
          "height": 141
        },
        "outputId": "9eb7cc1a-f812-48c1-a6ac-26882c0c838c"
      },
      "cell_type": "code",
      "source": [
        "df"
      ],
      "execution_count": 39,
      "outputs": [
        {
          "output_type": "execute_result",
          "data": {
            "text/html": [
              "<div>\n",
              "<style scoped>\n",
              "    .dataframe tbody tr th:only-of-type {\n",
              "        vertical-align: middle;\n",
              "    }\n",
              "\n",
              "    .dataframe tbody tr th {\n",
              "        vertical-align: top;\n",
              "    }\n",
              "\n",
              "    .dataframe thead th {\n",
              "        text-align: right;\n",
              "    }\n",
              "</style>\n",
              "<table border=\"1\" class=\"dataframe\">\n",
              "  <thead>\n",
              "    <tr style=\"text-align: right;\">\n",
              "      <th></th>\n",
              "      <th>Cost</th>\n",
              "      <th>Item Purchased</th>\n",
              "      <th>Name</th>\n",
              "    </tr>\n",
              "  </thead>\n",
              "  <tbody>\n",
              "    <tr>\n",
              "      <th>Store 1</th>\n",
              "      <td>20.0</td>\n",
              "      <td>Dog Food</td>\n",
              "      <td>Chris</td>\n",
              "    </tr>\n",
              "    <tr>\n",
              "      <th>Store 1</th>\n",
              "      <td>4.0</td>\n",
              "      <td>Kitty Litter</td>\n",
              "      <td>Kevyn</td>\n",
              "    </tr>\n",
              "    <tr>\n",
              "      <th>Store 2</th>\n",
              "      <td>6.0</td>\n",
              "      <td>Bird Seed</td>\n",
              "      <td>Vinod</td>\n",
              "    </tr>\n",
              "  </tbody>\n",
              "</table>\n",
              "</div>"
            ],
            "text/plain": [
              "         Cost Item Purchased   Name\n",
              "Store 1  20.0       Dog Food  Chris\n",
              "Store 1   4.0   Kitty Litter  Kevyn\n",
              "Store 2   6.0      Bird Seed  Vinod"
            ]
          },
          "metadata": {
            "tags": []
          },
          "execution_count": 39
        }
      ]
    },
    {
      "metadata": {
        "id": "RRxhb2MNrfVe",
        "colab_type": "code",
        "colab": {}
      },
      "cell_type": "code",
      "source": [
        "!cat olympics.csv"
      ],
      "execution_count": 0,
      "outputs": []
    },
    {
      "metadata": {
        "id": "WY-invoPrfVg",
        "colab_type": "code",
        "colab": {
          "base_uri": "https://localhost:8080/",
          "height": 239
        },
        "outputId": "cb6c24cf-25e2-4ac7-bf36-ee019f27f5b4"
      },
      "cell_type": "code",
      "source": [
        "df = pd.read_csv('olympics.csv')\n",
        "df.head()"
      ],
      "execution_count": 41,
      "outputs": [
        {
          "output_type": "execute_result",
          "data": {
            "text/html": [
              "<div>\n",
              "<style scoped>\n",
              "    .dataframe tbody tr th:only-of-type {\n",
              "        vertical-align: middle;\n",
              "    }\n",
              "\n",
              "    .dataframe tbody tr th {\n",
              "        vertical-align: top;\n",
              "    }\n",
              "\n",
              "    .dataframe thead th {\n",
              "        text-align: right;\n",
              "    }\n",
              "</style>\n",
              "<table border=\"1\" class=\"dataframe\">\n",
              "  <thead>\n",
              "    <tr style=\"text-align: right;\">\n",
              "      <th></th>\n",
              "      <th>0</th>\n",
              "      <th>1</th>\n",
              "      <th>2</th>\n",
              "      <th>3</th>\n",
              "      <th>4</th>\n",
              "      <th>5</th>\n",
              "      <th>6</th>\n",
              "      <th>7</th>\n",
              "      <th>8</th>\n",
              "      <th>9</th>\n",
              "      <th>10</th>\n",
              "      <th>11</th>\n",
              "      <th>12</th>\n",
              "      <th>13</th>\n",
              "      <th>14</th>\n",
              "      <th>15</th>\n",
              "    </tr>\n",
              "  </thead>\n",
              "  <tbody>\n",
              "    <tr>\n",
              "      <th>0</th>\n",
              "      <td>NaN</td>\n",
              "      <td>№ Summer</td>\n",
              "      <td>01 !</td>\n",
              "      <td>02 !</td>\n",
              "      <td>03 !</td>\n",
              "      <td>Total</td>\n",
              "      <td>№ Winter</td>\n",
              "      <td>01 !</td>\n",
              "      <td>02 !</td>\n",
              "      <td>03 !</td>\n",
              "      <td>Total</td>\n",
              "      <td>№ Games</td>\n",
              "      <td>01 !</td>\n",
              "      <td>02 !</td>\n",
              "      <td>03 !</td>\n",
              "      <td>Combined total</td>\n",
              "    </tr>\n",
              "    <tr>\n",
              "      <th>1</th>\n",
              "      <td>Afghanistan (AFG)</td>\n",
              "      <td>13</td>\n",
              "      <td>0</td>\n",
              "      <td>0</td>\n",
              "      <td>2</td>\n",
              "      <td>2</td>\n",
              "      <td>0</td>\n",
              "      <td>0</td>\n",
              "      <td>0</td>\n",
              "      <td>0</td>\n",
              "      <td>0</td>\n",
              "      <td>13</td>\n",
              "      <td>0</td>\n",
              "      <td>0</td>\n",
              "      <td>2</td>\n",
              "      <td>2</td>\n",
              "    </tr>\n",
              "    <tr>\n",
              "      <th>2</th>\n",
              "      <td>Algeria (ALG)</td>\n",
              "      <td>12</td>\n",
              "      <td>5</td>\n",
              "      <td>2</td>\n",
              "      <td>8</td>\n",
              "      <td>15</td>\n",
              "      <td>3</td>\n",
              "      <td>0</td>\n",
              "      <td>0</td>\n",
              "      <td>0</td>\n",
              "      <td>0</td>\n",
              "      <td>15</td>\n",
              "      <td>5</td>\n",
              "      <td>2</td>\n",
              "      <td>8</td>\n",
              "      <td>15</td>\n",
              "    </tr>\n",
              "    <tr>\n",
              "      <th>3</th>\n",
              "      <td>Argentina (ARG)</td>\n",
              "      <td>23</td>\n",
              "      <td>18</td>\n",
              "      <td>24</td>\n",
              "      <td>28</td>\n",
              "      <td>70</td>\n",
              "      <td>18</td>\n",
              "      <td>0</td>\n",
              "      <td>0</td>\n",
              "      <td>0</td>\n",
              "      <td>0</td>\n",
              "      <td>41</td>\n",
              "      <td>18</td>\n",
              "      <td>24</td>\n",
              "      <td>28</td>\n",
              "      <td>70</td>\n",
              "    </tr>\n",
              "    <tr>\n",
              "      <th>4</th>\n",
              "      <td>Armenia (ARM)</td>\n",
              "      <td>5</td>\n",
              "      <td>1</td>\n",
              "      <td>2</td>\n",
              "      <td>9</td>\n",
              "      <td>12</td>\n",
              "      <td>6</td>\n",
              "      <td>0</td>\n",
              "      <td>0</td>\n",
              "      <td>0</td>\n",
              "      <td>0</td>\n",
              "      <td>11</td>\n",
              "      <td>1</td>\n",
              "      <td>2</td>\n",
              "      <td>9</td>\n",
              "      <td>12</td>\n",
              "    </tr>\n",
              "  </tbody>\n",
              "</table>\n",
              "</div>"
            ],
            "text/plain": [
              "                   0         1     2     3     4      5         6     7     8  \\\n",
              "0                NaN  № Summer  01 !  02 !  03 !  Total  № Winter  01 !  02 !   \n",
              "1  Afghanistan (AFG)        13     0     0     2      2         0     0     0   \n",
              "2      Algeria (ALG)        12     5     2     8     15         3     0     0   \n",
              "3    Argentina (ARG)        23    18    24    28     70        18     0     0   \n",
              "4      Armenia (ARM)         5     1     2     9     12         6     0     0   \n",
              "\n",
              "      9     10       11    12    13    14              15  \n",
              "0  03 !  Total  № Games  01 !  02 !  03 !  Combined total  \n",
              "1     0      0       13     0     0     2               2  \n",
              "2     0      0       15     5     2     8              15  \n",
              "3     0      0       41    18    24    28              70  \n",
              "4     0      0       11     1     2     9              12  "
            ]
          },
          "metadata": {
            "tags": []
          },
          "execution_count": 41
        }
      ]
    },
    {
      "metadata": {
        "id": "zRAGvAh9rfVj",
        "colab_type": "code",
        "colab": {
          "base_uri": "https://localhost:8080/",
          "height": 257
        },
        "outputId": "80f100d5-6e75-4e76-eb6f-eccac81a3183"
      },
      "cell_type": "code",
      "source": [
        "df = pd.read_csv('olympics.csv', index_col = 0, skiprows=1) \n",
        "# the 0th column is set as index\n",
        "df.head()"
      ],
      "execution_count": 49,
      "outputs": [
        {
          "output_type": "execute_result",
          "data": {
            "text/html": [
              "<div>\n",
              "<style scoped>\n",
              "    .dataframe tbody tr th:only-of-type {\n",
              "        vertical-align: middle;\n",
              "    }\n",
              "\n",
              "    .dataframe tbody tr th {\n",
              "        vertical-align: top;\n",
              "    }\n",
              "\n",
              "    .dataframe thead th {\n",
              "        text-align: right;\n",
              "    }\n",
              "</style>\n",
              "<table border=\"1\" class=\"dataframe\">\n",
              "  <thead>\n",
              "    <tr style=\"text-align: right;\">\n",
              "      <th></th>\n",
              "      <th>№ Summer</th>\n",
              "      <th>01 !</th>\n",
              "      <th>02 !</th>\n",
              "      <th>03 !</th>\n",
              "      <th>Total</th>\n",
              "      <th>№ Winter</th>\n",
              "      <th>01 !.1</th>\n",
              "      <th>02 !.1</th>\n",
              "      <th>03 !.1</th>\n",
              "      <th>Total.1</th>\n",
              "      <th>№ Games</th>\n",
              "      <th>01 !.2</th>\n",
              "      <th>02 !.2</th>\n",
              "      <th>03 !.2</th>\n",
              "      <th>Combined total</th>\n",
              "    </tr>\n",
              "  </thead>\n",
              "  <tbody>\n",
              "    <tr>\n",
              "      <th>Afghanistan (AFG)</th>\n",
              "      <td>13</td>\n",
              "      <td>0</td>\n",
              "      <td>0</td>\n",
              "      <td>2</td>\n",
              "      <td>2</td>\n",
              "      <td>0</td>\n",
              "      <td>0</td>\n",
              "      <td>0</td>\n",
              "      <td>0</td>\n",
              "      <td>0</td>\n",
              "      <td>13</td>\n",
              "      <td>0</td>\n",
              "      <td>0</td>\n",
              "      <td>2</td>\n",
              "      <td>2</td>\n",
              "    </tr>\n",
              "    <tr>\n",
              "      <th>Algeria (ALG)</th>\n",
              "      <td>12</td>\n",
              "      <td>5</td>\n",
              "      <td>2</td>\n",
              "      <td>8</td>\n",
              "      <td>15</td>\n",
              "      <td>3</td>\n",
              "      <td>0</td>\n",
              "      <td>0</td>\n",
              "      <td>0</td>\n",
              "      <td>0</td>\n",
              "      <td>15</td>\n",
              "      <td>5</td>\n",
              "      <td>2</td>\n",
              "      <td>8</td>\n",
              "      <td>15</td>\n",
              "    </tr>\n",
              "    <tr>\n",
              "      <th>Argentina (ARG)</th>\n",
              "      <td>23</td>\n",
              "      <td>18</td>\n",
              "      <td>24</td>\n",
              "      <td>28</td>\n",
              "      <td>70</td>\n",
              "      <td>18</td>\n",
              "      <td>0</td>\n",
              "      <td>0</td>\n",
              "      <td>0</td>\n",
              "      <td>0</td>\n",
              "      <td>41</td>\n",
              "      <td>18</td>\n",
              "      <td>24</td>\n",
              "      <td>28</td>\n",
              "      <td>70</td>\n",
              "    </tr>\n",
              "    <tr>\n",
              "      <th>Armenia (ARM)</th>\n",
              "      <td>5</td>\n",
              "      <td>1</td>\n",
              "      <td>2</td>\n",
              "      <td>9</td>\n",
              "      <td>12</td>\n",
              "      <td>6</td>\n",
              "      <td>0</td>\n",
              "      <td>0</td>\n",
              "      <td>0</td>\n",
              "      <td>0</td>\n",
              "      <td>11</td>\n",
              "      <td>1</td>\n",
              "      <td>2</td>\n",
              "      <td>9</td>\n",
              "      <td>12</td>\n",
              "    </tr>\n",
              "    <tr>\n",
              "      <th>Australasia (ANZ) [ANZ]</th>\n",
              "      <td>2</td>\n",
              "      <td>3</td>\n",
              "      <td>4</td>\n",
              "      <td>5</td>\n",
              "      <td>12</td>\n",
              "      <td>0</td>\n",
              "      <td>0</td>\n",
              "      <td>0</td>\n",
              "      <td>0</td>\n",
              "      <td>0</td>\n",
              "      <td>2</td>\n",
              "      <td>3</td>\n",
              "      <td>4</td>\n",
              "      <td>5</td>\n",
              "      <td>12</td>\n",
              "    </tr>\n",
              "  </tbody>\n",
              "</table>\n",
              "</div>"
            ],
            "text/plain": [
              "                         № Summer  01 !  02 !  03 !  Total  № Winter  01 !.1  \\\n",
              "Afghanistan (AFG)              13     0     0     2      2         0       0   \n",
              "Algeria (ALG)                  12     5     2     8     15         3       0   \n",
              "Argentina (ARG)                23    18    24    28     70        18       0   \n",
              "Armenia (ARM)                   5     1     2     9     12         6       0   \n",
              "Australasia (ANZ) [ANZ]         2     3     4     5     12         0       0   \n",
              "\n",
              "                         02 !.1  03 !.1  Total.1  № Games  01 !.2  02 !.2  \\\n",
              "Afghanistan (AFG)             0       0        0       13       0       0   \n",
              "Algeria (ALG)                 0       0        0       15       5       2   \n",
              "Argentina (ARG)               0       0        0       41      18      24   \n",
              "Armenia (ARM)                 0       0        0       11       1       2   \n",
              "Australasia (ANZ) [ANZ]       0       0        0        2       3       4   \n",
              "\n",
              "                         03 !.2  Combined total  \n",
              "Afghanistan (AFG)             2               2  \n",
              "Algeria (ALG)                 8              15  \n",
              "Argentina (ARG)              28              70  \n",
              "Armenia (ARM)                 9              12  \n",
              "Australasia (ANZ) [ANZ]       5              12  "
            ]
          },
          "metadata": {
            "tags": []
          },
          "execution_count": 49
        }
      ]
    },
    {
      "metadata": {
        "id": "7TpNuj4QrfVk",
        "colab_type": "code",
        "colab": {
          "base_uri": "https://localhost:8080/",
          "height": 107
        },
        "outputId": "35ee852c-9925-4420-ba08-f96875d9d616"
      },
      "cell_type": "code",
      "source": [
        "df.columns"
      ],
      "execution_count": 50,
      "outputs": [
        {
          "output_type": "execute_result",
          "data": {
            "text/plain": [
              "Index(['№ Summer', '01 !', '02 !', '03 !', 'Total', '№ Winter', '01 !.1',\n",
              "       '02 !.1', '03 !.1', 'Total.1', '№ Games', '01 !.2', '02 !.2', '03 !.2',\n",
              "       'Combined total'],\n",
              "      dtype='object')"
            ]
          },
          "metadata": {
            "tags": []
          },
          "execution_count": 50
        }
      ]
    },
    {
      "metadata": {
        "id": "3vDBRd9brfVm",
        "colab_type": "code",
        "colab": {
          "base_uri": "https://localhost:8080/",
          "height": 257
        },
        "outputId": "e146dcc5-4fca-4753-afdf-638c263a2ae7"
      },
      "cell_type": "code",
      "source": [
        "# rename columns\n",
        "for col in df.columns:\n",
        "    if col[:2]=='01':\n",
        "        df.rename(columns={col:'Gold' + col[4:]}, inplace=True)\n",
        "    if col[:2]=='02':\n",
        "        df.rename(columns={col:'Silver' + col[4:]}, inplace=True)\n",
        "    if col[:2]=='03':\n",
        "        df.rename(columns={col:'Bronze' + col[4:]}, inplace=True)\n",
        "    if col[:1]=='№':\n",
        "        df.rename(columns={col:'#' + col[1:]}, inplace=True) \n",
        "\n",
        "df.head()"
      ],
      "execution_count": 51,
      "outputs": [
        {
          "output_type": "execute_result",
          "data": {
            "text/html": [
              "<div>\n",
              "<style scoped>\n",
              "    .dataframe tbody tr th:only-of-type {\n",
              "        vertical-align: middle;\n",
              "    }\n",
              "\n",
              "    .dataframe tbody tr th {\n",
              "        vertical-align: top;\n",
              "    }\n",
              "\n",
              "    .dataframe thead th {\n",
              "        text-align: right;\n",
              "    }\n",
              "</style>\n",
              "<table border=\"1\" class=\"dataframe\">\n",
              "  <thead>\n",
              "    <tr style=\"text-align: right;\">\n",
              "      <th></th>\n",
              "      <th># Summer</th>\n",
              "      <th>Gold</th>\n",
              "      <th>Silver</th>\n",
              "      <th>Bronze</th>\n",
              "      <th>Total</th>\n",
              "      <th># Winter</th>\n",
              "      <th>Gold.1</th>\n",
              "      <th>Silver.1</th>\n",
              "      <th>Bronze.1</th>\n",
              "      <th>Total.1</th>\n",
              "      <th># Games</th>\n",
              "      <th>Gold.2</th>\n",
              "      <th>Silver.2</th>\n",
              "      <th>Bronze.2</th>\n",
              "      <th>Combined total</th>\n",
              "    </tr>\n",
              "  </thead>\n",
              "  <tbody>\n",
              "    <tr>\n",
              "      <th>Afghanistan (AFG)</th>\n",
              "      <td>13</td>\n",
              "      <td>0</td>\n",
              "      <td>0</td>\n",
              "      <td>2</td>\n",
              "      <td>2</td>\n",
              "      <td>0</td>\n",
              "      <td>0</td>\n",
              "      <td>0</td>\n",
              "      <td>0</td>\n",
              "      <td>0</td>\n",
              "      <td>13</td>\n",
              "      <td>0</td>\n",
              "      <td>0</td>\n",
              "      <td>2</td>\n",
              "      <td>2</td>\n",
              "    </tr>\n",
              "    <tr>\n",
              "      <th>Algeria (ALG)</th>\n",
              "      <td>12</td>\n",
              "      <td>5</td>\n",
              "      <td>2</td>\n",
              "      <td>8</td>\n",
              "      <td>15</td>\n",
              "      <td>3</td>\n",
              "      <td>0</td>\n",
              "      <td>0</td>\n",
              "      <td>0</td>\n",
              "      <td>0</td>\n",
              "      <td>15</td>\n",
              "      <td>5</td>\n",
              "      <td>2</td>\n",
              "      <td>8</td>\n",
              "      <td>15</td>\n",
              "    </tr>\n",
              "    <tr>\n",
              "      <th>Argentina (ARG)</th>\n",
              "      <td>23</td>\n",
              "      <td>18</td>\n",
              "      <td>24</td>\n",
              "      <td>28</td>\n",
              "      <td>70</td>\n",
              "      <td>18</td>\n",
              "      <td>0</td>\n",
              "      <td>0</td>\n",
              "      <td>0</td>\n",
              "      <td>0</td>\n",
              "      <td>41</td>\n",
              "      <td>18</td>\n",
              "      <td>24</td>\n",
              "      <td>28</td>\n",
              "      <td>70</td>\n",
              "    </tr>\n",
              "    <tr>\n",
              "      <th>Armenia (ARM)</th>\n",
              "      <td>5</td>\n",
              "      <td>1</td>\n",
              "      <td>2</td>\n",
              "      <td>9</td>\n",
              "      <td>12</td>\n",
              "      <td>6</td>\n",
              "      <td>0</td>\n",
              "      <td>0</td>\n",
              "      <td>0</td>\n",
              "      <td>0</td>\n",
              "      <td>11</td>\n",
              "      <td>1</td>\n",
              "      <td>2</td>\n",
              "      <td>9</td>\n",
              "      <td>12</td>\n",
              "    </tr>\n",
              "    <tr>\n",
              "      <th>Australasia (ANZ) [ANZ]</th>\n",
              "      <td>2</td>\n",
              "      <td>3</td>\n",
              "      <td>4</td>\n",
              "      <td>5</td>\n",
              "      <td>12</td>\n",
              "      <td>0</td>\n",
              "      <td>0</td>\n",
              "      <td>0</td>\n",
              "      <td>0</td>\n",
              "      <td>0</td>\n",
              "      <td>2</td>\n",
              "      <td>3</td>\n",
              "      <td>4</td>\n",
              "      <td>5</td>\n",
              "      <td>12</td>\n",
              "    </tr>\n",
              "  </tbody>\n",
              "</table>\n",
              "</div>"
            ],
            "text/plain": [
              "                         # Summer  Gold  Silver  Bronze  Total  # Winter  \\\n",
              "Afghanistan (AFG)              13     0       0       2      2         0   \n",
              "Algeria (ALG)                  12     5       2       8     15         3   \n",
              "Argentina (ARG)                23    18      24      28     70        18   \n",
              "Armenia (ARM)                   5     1       2       9     12         6   \n",
              "Australasia (ANZ) [ANZ]         2     3       4       5     12         0   \n",
              "\n",
              "                         Gold.1  Silver.1  Bronze.1  Total.1  # Games  Gold.2  \\\n",
              "Afghanistan (AFG)             0         0         0        0       13       0   \n",
              "Algeria (ALG)                 0         0         0        0       15       5   \n",
              "Argentina (ARG)               0         0         0        0       41      18   \n",
              "Armenia (ARM)                 0         0         0        0       11       1   \n",
              "Australasia (ANZ) [ANZ]       0         0         0        0        2       3   \n",
              "\n",
              "                         Silver.2  Bronze.2  Combined total  \n",
              "Afghanistan (AFG)               0         2               2  \n",
              "Algeria (ALG)                   2         8              15  \n",
              "Argentina (ARG)                24        28              70  \n",
              "Armenia (ARM)                   2         9              12  \n",
              "Australasia (ANZ) [ANZ]         4         5              12  "
            ]
          },
          "metadata": {
            "tags": []
          },
          "execution_count": 51
        }
      ]
    },
    {
      "metadata": {
        "id": "TVfeAc45rfVn",
        "colab_type": "text"
      },
      "cell_type": "markdown",
      "source": [
        "# **Querying a DataFrame"
      ]
    },
    {
      "metadata": {
        "id": "4yJFUyvxrfVn",
        "colab_type": "code",
        "colab": {}
      },
      "cell_type": "code",
      "source": [
        "# Boolean masking\n",
        "df['Gold'] > 0"
      ],
      "execution_count": 0,
      "outputs": []
    },
    {
      "metadata": {
        "id": "SZaHaI0ArfVo",
        "colab_type": "code",
        "colab": {
          "base_uri": "https://localhost:8080/",
          "height": 257
        },
        "outputId": "1411d653-6fd3-4f09-80f1-55ca8cafde41"
      },
      "cell_type": "code",
      "source": [
        "only_gold = df.where(df['Gold'] > 0)\n",
        "only_gold.head()"
      ],
      "execution_count": 55,
      "outputs": [
        {
          "output_type": "execute_result",
          "data": {
            "text/html": [
              "<div>\n",
              "<style scoped>\n",
              "    .dataframe tbody tr th:only-of-type {\n",
              "        vertical-align: middle;\n",
              "    }\n",
              "\n",
              "    .dataframe tbody tr th {\n",
              "        vertical-align: top;\n",
              "    }\n",
              "\n",
              "    .dataframe thead th {\n",
              "        text-align: right;\n",
              "    }\n",
              "</style>\n",
              "<table border=\"1\" class=\"dataframe\">\n",
              "  <thead>\n",
              "    <tr style=\"text-align: right;\">\n",
              "      <th></th>\n",
              "      <th># Summer</th>\n",
              "      <th>Gold</th>\n",
              "      <th>Silver</th>\n",
              "      <th>Bronze</th>\n",
              "      <th>Total</th>\n",
              "      <th># Winter</th>\n",
              "      <th>Gold.1</th>\n",
              "      <th>Silver.1</th>\n",
              "      <th>Bronze.1</th>\n",
              "      <th>Total.1</th>\n",
              "      <th># Games</th>\n",
              "      <th>Gold.2</th>\n",
              "      <th>Silver.2</th>\n",
              "      <th>Bronze.2</th>\n",
              "      <th>Combined total</th>\n",
              "    </tr>\n",
              "  </thead>\n",
              "  <tbody>\n",
              "    <tr>\n",
              "      <th>Afghanistan (AFG)</th>\n",
              "      <td>NaN</td>\n",
              "      <td>NaN</td>\n",
              "      <td>NaN</td>\n",
              "      <td>NaN</td>\n",
              "      <td>NaN</td>\n",
              "      <td>NaN</td>\n",
              "      <td>NaN</td>\n",
              "      <td>NaN</td>\n",
              "      <td>NaN</td>\n",
              "      <td>NaN</td>\n",
              "      <td>NaN</td>\n",
              "      <td>NaN</td>\n",
              "      <td>NaN</td>\n",
              "      <td>NaN</td>\n",
              "      <td>NaN</td>\n",
              "    </tr>\n",
              "    <tr>\n",
              "      <th>Algeria (ALG)</th>\n",
              "      <td>12.0</td>\n",
              "      <td>5.0</td>\n",
              "      <td>2.0</td>\n",
              "      <td>8.0</td>\n",
              "      <td>15.0</td>\n",
              "      <td>3.0</td>\n",
              "      <td>0.0</td>\n",
              "      <td>0.0</td>\n",
              "      <td>0.0</td>\n",
              "      <td>0.0</td>\n",
              "      <td>15.0</td>\n",
              "      <td>5.0</td>\n",
              "      <td>2.0</td>\n",
              "      <td>8.0</td>\n",
              "      <td>15.0</td>\n",
              "    </tr>\n",
              "    <tr>\n",
              "      <th>Argentina (ARG)</th>\n",
              "      <td>23.0</td>\n",
              "      <td>18.0</td>\n",
              "      <td>24.0</td>\n",
              "      <td>28.0</td>\n",
              "      <td>70.0</td>\n",
              "      <td>18.0</td>\n",
              "      <td>0.0</td>\n",
              "      <td>0.0</td>\n",
              "      <td>0.0</td>\n",
              "      <td>0.0</td>\n",
              "      <td>41.0</td>\n",
              "      <td>18.0</td>\n",
              "      <td>24.0</td>\n",
              "      <td>28.0</td>\n",
              "      <td>70.0</td>\n",
              "    </tr>\n",
              "    <tr>\n",
              "      <th>Armenia (ARM)</th>\n",
              "      <td>5.0</td>\n",
              "      <td>1.0</td>\n",
              "      <td>2.0</td>\n",
              "      <td>9.0</td>\n",
              "      <td>12.0</td>\n",
              "      <td>6.0</td>\n",
              "      <td>0.0</td>\n",
              "      <td>0.0</td>\n",
              "      <td>0.0</td>\n",
              "      <td>0.0</td>\n",
              "      <td>11.0</td>\n",
              "      <td>1.0</td>\n",
              "      <td>2.0</td>\n",
              "      <td>9.0</td>\n",
              "      <td>12.0</td>\n",
              "    </tr>\n",
              "    <tr>\n",
              "      <th>Australasia (ANZ) [ANZ]</th>\n",
              "      <td>2.0</td>\n",
              "      <td>3.0</td>\n",
              "      <td>4.0</td>\n",
              "      <td>5.0</td>\n",
              "      <td>12.0</td>\n",
              "      <td>0.0</td>\n",
              "      <td>0.0</td>\n",
              "      <td>0.0</td>\n",
              "      <td>0.0</td>\n",
              "      <td>0.0</td>\n",
              "      <td>2.0</td>\n",
              "      <td>3.0</td>\n",
              "      <td>4.0</td>\n",
              "      <td>5.0</td>\n",
              "      <td>12.0</td>\n",
              "    </tr>\n",
              "  </tbody>\n",
              "</table>\n",
              "</div>"
            ],
            "text/plain": [
              "                         # Summer  Gold  Silver  Bronze  Total  # Winter  \\\n",
              "Afghanistan (AFG)             NaN   NaN     NaN     NaN    NaN       NaN   \n",
              "Algeria (ALG)                12.0   5.0     2.0     8.0   15.0       3.0   \n",
              "Argentina (ARG)              23.0  18.0    24.0    28.0   70.0      18.0   \n",
              "Armenia (ARM)                 5.0   1.0     2.0     9.0   12.0       6.0   \n",
              "Australasia (ANZ) [ANZ]       2.0   3.0     4.0     5.0   12.0       0.0   \n",
              "\n",
              "                         Gold.1  Silver.1  Bronze.1  Total.1  # Games  Gold.2  \\\n",
              "Afghanistan (AFG)           NaN       NaN       NaN      NaN      NaN     NaN   \n",
              "Algeria (ALG)               0.0       0.0       0.0      0.0     15.0     5.0   \n",
              "Argentina (ARG)             0.0       0.0       0.0      0.0     41.0    18.0   \n",
              "Armenia (ARM)               0.0       0.0       0.0      0.0     11.0     1.0   \n",
              "Australasia (ANZ) [ANZ]     0.0       0.0       0.0      0.0      2.0     3.0   \n",
              "\n",
              "                         Silver.2  Bronze.2  Combined total  \n",
              "Afghanistan (AFG)             NaN       NaN             NaN  \n",
              "Algeria (ALG)                 2.0       8.0            15.0  \n",
              "Argentina (ARG)              24.0      28.0            70.0  \n",
              "Armenia (ARM)                 2.0       9.0            12.0  \n",
              "Australasia (ANZ) [ANZ]       4.0       5.0            12.0  "
            ]
          },
          "metadata": {
            "tags": []
          },
          "execution_count": 55
        }
      ]
    },
    {
      "metadata": {
        "id": "huOd_ulVrfVq",
        "colab_type": "code",
        "colab": {
          "base_uri": "https://localhost:8080/",
          "height": 35
        },
        "outputId": "bd30edc9-6945-4373-bee6-7c75175f9fb6"
      },
      "cell_type": "code",
      "source": [
        "only_gold['Gold'].count()"
      ],
      "execution_count": 56,
      "outputs": [
        {
          "output_type": "execute_result",
          "data": {
            "text/plain": [
              "100"
            ]
          },
          "metadata": {
            "tags": []
          },
          "execution_count": 56
        }
      ]
    },
    {
      "metadata": {
        "id": "rqDGqMz6rfVr",
        "colab_type": "code",
        "colab": {
          "base_uri": "https://localhost:8080/",
          "height": 35
        },
        "outputId": "a8d0dd2a-8647-449b-edcd-56b113f48ab1"
      },
      "cell_type": "code",
      "source": [
        "df['Gold'].count()"
      ],
      "execution_count": 57,
      "outputs": [
        {
          "output_type": "execute_result",
          "data": {
            "text/plain": [
              "147"
            ]
          },
          "metadata": {
            "tags": []
          },
          "execution_count": 57
        }
      ]
    },
    {
      "metadata": {
        "id": "X-3RLAwcrfVs",
        "colab_type": "code",
        "colab": {
          "base_uri": "https://localhost:8080/",
          "height": 274
        },
        "outputId": "d4922d55-dbc8-45d1-9482-3f996e04829f"
      },
      "cell_type": "code",
      "source": [
        "# Drop those rows which have no data.\n",
        "only_gold = only_gold.dropna()\n",
        "only_gold.head()"
      ],
      "execution_count": 58,
      "outputs": [
        {
          "output_type": "execute_result",
          "data": {
            "text/html": [
              "<div>\n",
              "<style scoped>\n",
              "    .dataframe tbody tr th:only-of-type {\n",
              "        vertical-align: middle;\n",
              "    }\n",
              "\n",
              "    .dataframe tbody tr th {\n",
              "        vertical-align: top;\n",
              "    }\n",
              "\n",
              "    .dataframe thead th {\n",
              "        text-align: right;\n",
              "    }\n",
              "</style>\n",
              "<table border=\"1\" class=\"dataframe\">\n",
              "  <thead>\n",
              "    <tr style=\"text-align: right;\">\n",
              "      <th></th>\n",
              "      <th># Summer</th>\n",
              "      <th>Gold</th>\n",
              "      <th>Silver</th>\n",
              "      <th>Bronze</th>\n",
              "      <th>Total</th>\n",
              "      <th># Winter</th>\n",
              "      <th>Gold.1</th>\n",
              "      <th>Silver.1</th>\n",
              "      <th>Bronze.1</th>\n",
              "      <th>Total.1</th>\n",
              "      <th># Games</th>\n",
              "      <th>Gold.2</th>\n",
              "      <th>Silver.2</th>\n",
              "      <th>Bronze.2</th>\n",
              "      <th>Combined total</th>\n",
              "    </tr>\n",
              "  </thead>\n",
              "  <tbody>\n",
              "    <tr>\n",
              "      <th>Algeria (ALG)</th>\n",
              "      <td>12.0</td>\n",
              "      <td>5.0</td>\n",
              "      <td>2.0</td>\n",
              "      <td>8.0</td>\n",
              "      <td>15.0</td>\n",
              "      <td>3.0</td>\n",
              "      <td>0.0</td>\n",
              "      <td>0.0</td>\n",
              "      <td>0.0</td>\n",
              "      <td>0.0</td>\n",
              "      <td>15.0</td>\n",
              "      <td>5.0</td>\n",
              "      <td>2.0</td>\n",
              "      <td>8.0</td>\n",
              "      <td>15.0</td>\n",
              "    </tr>\n",
              "    <tr>\n",
              "      <th>Argentina (ARG)</th>\n",
              "      <td>23.0</td>\n",
              "      <td>18.0</td>\n",
              "      <td>24.0</td>\n",
              "      <td>28.0</td>\n",
              "      <td>70.0</td>\n",
              "      <td>18.0</td>\n",
              "      <td>0.0</td>\n",
              "      <td>0.0</td>\n",
              "      <td>0.0</td>\n",
              "      <td>0.0</td>\n",
              "      <td>41.0</td>\n",
              "      <td>18.0</td>\n",
              "      <td>24.0</td>\n",
              "      <td>28.0</td>\n",
              "      <td>70.0</td>\n",
              "    </tr>\n",
              "    <tr>\n",
              "      <th>Armenia (ARM)</th>\n",
              "      <td>5.0</td>\n",
              "      <td>1.0</td>\n",
              "      <td>2.0</td>\n",
              "      <td>9.0</td>\n",
              "      <td>12.0</td>\n",
              "      <td>6.0</td>\n",
              "      <td>0.0</td>\n",
              "      <td>0.0</td>\n",
              "      <td>0.0</td>\n",
              "      <td>0.0</td>\n",
              "      <td>11.0</td>\n",
              "      <td>1.0</td>\n",
              "      <td>2.0</td>\n",
              "      <td>9.0</td>\n",
              "      <td>12.0</td>\n",
              "    </tr>\n",
              "    <tr>\n",
              "      <th>Australasia (ANZ) [ANZ]</th>\n",
              "      <td>2.0</td>\n",
              "      <td>3.0</td>\n",
              "      <td>4.0</td>\n",
              "      <td>5.0</td>\n",
              "      <td>12.0</td>\n",
              "      <td>0.0</td>\n",
              "      <td>0.0</td>\n",
              "      <td>0.0</td>\n",
              "      <td>0.0</td>\n",
              "      <td>0.0</td>\n",
              "      <td>2.0</td>\n",
              "      <td>3.0</td>\n",
              "      <td>4.0</td>\n",
              "      <td>5.0</td>\n",
              "      <td>12.0</td>\n",
              "    </tr>\n",
              "    <tr>\n",
              "      <th>Australia (AUS) [AUS] [Z]</th>\n",
              "      <td>25.0</td>\n",
              "      <td>139.0</td>\n",
              "      <td>152.0</td>\n",
              "      <td>177.0</td>\n",
              "      <td>468.0</td>\n",
              "      <td>18.0</td>\n",
              "      <td>5.0</td>\n",
              "      <td>3.0</td>\n",
              "      <td>4.0</td>\n",
              "      <td>12.0</td>\n",
              "      <td>43.0</td>\n",
              "      <td>144.0</td>\n",
              "      <td>155.0</td>\n",
              "      <td>181.0</td>\n",
              "      <td>480.0</td>\n",
              "    </tr>\n",
              "  </tbody>\n",
              "</table>\n",
              "</div>"
            ],
            "text/plain": [
              "                           # Summer   Gold  Silver  Bronze  Total  # Winter  \\\n",
              "Algeria (ALG)                  12.0    5.0     2.0     8.0   15.0       3.0   \n",
              "Argentina (ARG)                23.0   18.0    24.0    28.0   70.0      18.0   \n",
              "Armenia (ARM)                   5.0    1.0     2.0     9.0   12.0       6.0   \n",
              "Australasia (ANZ) [ANZ]         2.0    3.0     4.0     5.0   12.0       0.0   \n",
              "Australia (AUS) [AUS] [Z]      25.0  139.0   152.0   177.0  468.0      18.0   \n",
              "\n",
              "                           Gold.1  Silver.1  Bronze.1  Total.1  # Games  \\\n",
              "Algeria (ALG)                 0.0       0.0       0.0      0.0     15.0   \n",
              "Argentina (ARG)               0.0       0.0       0.0      0.0     41.0   \n",
              "Armenia (ARM)                 0.0       0.0       0.0      0.0     11.0   \n",
              "Australasia (ANZ) [ANZ]       0.0       0.0       0.0      0.0      2.0   \n",
              "Australia (AUS) [AUS] [Z]     5.0       3.0       4.0     12.0     43.0   \n",
              "\n",
              "                           Gold.2  Silver.2  Bronze.2  Combined total  \n",
              "Algeria (ALG)                 5.0       2.0       8.0            15.0  \n",
              "Argentina (ARG)              18.0      24.0      28.0            70.0  \n",
              "Armenia (ARM)                 1.0       2.0       9.0            12.0  \n",
              "Australasia (ANZ) [ANZ]       3.0       4.0       5.0            12.0  \n",
              "Australia (AUS) [AUS] [Z]   144.0     155.0     181.0           480.0  "
            ]
          },
          "metadata": {
            "tags": []
          },
          "execution_count": 58
        }
      ]
    },
    {
      "metadata": {
        "id": "LDE5WYztrfVt",
        "colab_type": "code",
        "colab": {
          "base_uri": "https://localhost:8080/",
          "height": 274
        },
        "outputId": "d7aacb75-6c8c-41d9-efc3-077b0d82dfb0"
      },
      "cell_type": "code",
      "source": [
        "only_gold = df[df['Gold'] > 0]\n",
        "only_gold.head()"
      ],
      "execution_count": 59,
      "outputs": [
        {
          "output_type": "execute_result",
          "data": {
            "text/html": [
              "<div>\n",
              "<style scoped>\n",
              "    .dataframe tbody tr th:only-of-type {\n",
              "        vertical-align: middle;\n",
              "    }\n",
              "\n",
              "    .dataframe tbody tr th {\n",
              "        vertical-align: top;\n",
              "    }\n",
              "\n",
              "    .dataframe thead th {\n",
              "        text-align: right;\n",
              "    }\n",
              "</style>\n",
              "<table border=\"1\" class=\"dataframe\">\n",
              "  <thead>\n",
              "    <tr style=\"text-align: right;\">\n",
              "      <th></th>\n",
              "      <th># Summer</th>\n",
              "      <th>Gold</th>\n",
              "      <th>Silver</th>\n",
              "      <th>Bronze</th>\n",
              "      <th>Total</th>\n",
              "      <th># Winter</th>\n",
              "      <th>Gold.1</th>\n",
              "      <th>Silver.1</th>\n",
              "      <th>Bronze.1</th>\n",
              "      <th>Total.1</th>\n",
              "      <th># Games</th>\n",
              "      <th>Gold.2</th>\n",
              "      <th>Silver.2</th>\n",
              "      <th>Bronze.2</th>\n",
              "      <th>Combined total</th>\n",
              "    </tr>\n",
              "  </thead>\n",
              "  <tbody>\n",
              "    <tr>\n",
              "      <th>Algeria (ALG)</th>\n",
              "      <td>12</td>\n",
              "      <td>5</td>\n",
              "      <td>2</td>\n",
              "      <td>8</td>\n",
              "      <td>15</td>\n",
              "      <td>3</td>\n",
              "      <td>0</td>\n",
              "      <td>0</td>\n",
              "      <td>0</td>\n",
              "      <td>0</td>\n",
              "      <td>15</td>\n",
              "      <td>5</td>\n",
              "      <td>2</td>\n",
              "      <td>8</td>\n",
              "      <td>15</td>\n",
              "    </tr>\n",
              "    <tr>\n",
              "      <th>Argentina (ARG)</th>\n",
              "      <td>23</td>\n",
              "      <td>18</td>\n",
              "      <td>24</td>\n",
              "      <td>28</td>\n",
              "      <td>70</td>\n",
              "      <td>18</td>\n",
              "      <td>0</td>\n",
              "      <td>0</td>\n",
              "      <td>0</td>\n",
              "      <td>0</td>\n",
              "      <td>41</td>\n",
              "      <td>18</td>\n",
              "      <td>24</td>\n",
              "      <td>28</td>\n",
              "      <td>70</td>\n",
              "    </tr>\n",
              "    <tr>\n",
              "      <th>Armenia (ARM)</th>\n",
              "      <td>5</td>\n",
              "      <td>1</td>\n",
              "      <td>2</td>\n",
              "      <td>9</td>\n",
              "      <td>12</td>\n",
              "      <td>6</td>\n",
              "      <td>0</td>\n",
              "      <td>0</td>\n",
              "      <td>0</td>\n",
              "      <td>0</td>\n",
              "      <td>11</td>\n",
              "      <td>1</td>\n",
              "      <td>2</td>\n",
              "      <td>9</td>\n",
              "      <td>12</td>\n",
              "    </tr>\n",
              "    <tr>\n",
              "      <th>Australasia (ANZ) [ANZ]</th>\n",
              "      <td>2</td>\n",
              "      <td>3</td>\n",
              "      <td>4</td>\n",
              "      <td>5</td>\n",
              "      <td>12</td>\n",
              "      <td>0</td>\n",
              "      <td>0</td>\n",
              "      <td>0</td>\n",
              "      <td>0</td>\n",
              "      <td>0</td>\n",
              "      <td>2</td>\n",
              "      <td>3</td>\n",
              "      <td>4</td>\n",
              "      <td>5</td>\n",
              "      <td>12</td>\n",
              "    </tr>\n",
              "    <tr>\n",
              "      <th>Australia (AUS) [AUS] [Z]</th>\n",
              "      <td>25</td>\n",
              "      <td>139</td>\n",
              "      <td>152</td>\n",
              "      <td>177</td>\n",
              "      <td>468</td>\n",
              "      <td>18</td>\n",
              "      <td>5</td>\n",
              "      <td>3</td>\n",
              "      <td>4</td>\n",
              "      <td>12</td>\n",
              "      <td>43</td>\n",
              "      <td>144</td>\n",
              "      <td>155</td>\n",
              "      <td>181</td>\n",
              "      <td>480</td>\n",
              "    </tr>\n",
              "  </tbody>\n",
              "</table>\n",
              "</div>"
            ],
            "text/plain": [
              "                           # Summer  Gold  Silver  Bronze  Total  # Winter  \\\n",
              "Algeria (ALG)                    12     5       2       8     15         3   \n",
              "Argentina (ARG)                  23    18      24      28     70        18   \n",
              "Armenia (ARM)                     5     1       2       9     12         6   \n",
              "Australasia (ANZ) [ANZ]           2     3       4       5     12         0   \n",
              "Australia (AUS) [AUS] [Z]        25   139     152     177    468        18   \n",
              "\n",
              "                           Gold.1  Silver.1  Bronze.1  Total.1  # Games  \\\n",
              "Algeria (ALG)                   0         0         0        0       15   \n",
              "Argentina (ARG)                 0         0         0        0       41   \n",
              "Armenia (ARM)                   0         0         0        0       11   \n",
              "Australasia (ANZ) [ANZ]         0         0         0        0        2   \n",
              "Australia (AUS) [AUS] [Z]       5         3         4       12       43   \n",
              "\n",
              "                           Gold.2  Silver.2  Bronze.2  Combined total  \n",
              "Algeria (ALG)                   5         2         8              15  \n",
              "Argentina (ARG)                18        24        28              70  \n",
              "Armenia (ARM)                   1         2         9              12  \n",
              "Australasia (ANZ) [ANZ]         3         4         5              12  \n",
              "Australia (AUS) [AUS] [Z]     144       155       181             480  "
            ]
          },
          "metadata": {
            "tags": []
          },
          "execution_count": 59
        }
      ]
    },
    {
      "metadata": {
        "id": "tHc9YP6_rfVv",
        "colab_type": "code",
        "colab": {
          "base_uri": "https://localhost:8080/",
          "height": 35
        },
        "outputId": "a7d7bb01-9d64-4a73-94fe-bc961cc6bd87"
      },
      "cell_type": "code",
      "source": [
        "# Countries who have received a gold in the summer Olympics or\n",
        "# countries who have received a gold in the winter Olympics\n",
        "len(df[(df['Gold'] > 0) | (df['Gold.1'] > 0)])"
      ],
      "execution_count": 60,
      "outputs": [
        {
          "output_type": "execute_result",
          "data": {
            "text/plain": [
              "101"
            ]
          },
          "metadata": {
            "tags": []
          },
          "execution_count": 60
        }
      ]
    },
    {
      "metadata": {
        "id": "MUFuhqxxrfVw",
        "colab_type": "code",
        "colab": {
          "base_uri": "https://localhost:8080/",
          "height": 117
        },
        "outputId": "31522fc1-2224-440e-b40f-caf69ade576b"
      },
      "cell_type": "code",
      "source": [
        "# Countries who have only won a gold in the winter Olympics and\n",
        "# never in the summer Olympics\n",
        "# !! each Boolean mask needs to be encased in parenthesis\n",
        "# !! because of the order of operations.\n",
        "df[(df['Gold.1'] > 0) & (df['Gold'] == 0)]"
      ],
      "execution_count": 61,
      "outputs": [
        {
          "output_type": "execute_result",
          "data": {
            "text/html": [
              "<div>\n",
              "<style scoped>\n",
              "    .dataframe tbody tr th:only-of-type {\n",
              "        vertical-align: middle;\n",
              "    }\n",
              "\n",
              "    .dataframe tbody tr th {\n",
              "        vertical-align: top;\n",
              "    }\n",
              "\n",
              "    .dataframe thead th {\n",
              "        text-align: right;\n",
              "    }\n",
              "</style>\n",
              "<table border=\"1\" class=\"dataframe\">\n",
              "  <thead>\n",
              "    <tr style=\"text-align: right;\">\n",
              "      <th></th>\n",
              "      <th># Summer</th>\n",
              "      <th>Gold</th>\n",
              "      <th>Silver</th>\n",
              "      <th>Bronze</th>\n",
              "      <th>Total</th>\n",
              "      <th># Winter</th>\n",
              "      <th>Gold.1</th>\n",
              "      <th>Silver.1</th>\n",
              "      <th>Bronze.1</th>\n",
              "      <th>Total.1</th>\n",
              "      <th># Games</th>\n",
              "      <th>Gold.2</th>\n",
              "      <th>Silver.2</th>\n",
              "      <th>Bronze.2</th>\n",
              "      <th>Combined total</th>\n",
              "    </tr>\n",
              "  </thead>\n",
              "  <tbody>\n",
              "    <tr>\n",
              "      <th>Liechtenstein (LIE)</th>\n",
              "      <td>16</td>\n",
              "      <td>0</td>\n",
              "      <td>0</td>\n",
              "      <td>0</td>\n",
              "      <td>0</td>\n",
              "      <td>18</td>\n",
              "      <td>2</td>\n",
              "      <td>2</td>\n",
              "      <td>5</td>\n",
              "      <td>9</td>\n",
              "      <td>34</td>\n",
              "      <td>2</td>\n",
              "      <td>2</td>\n",
              "      <td>5</td>\n",
              "      <td>9</td>\n",
              "    </tr>\n",
              "  </tbody>\n",
              "</table>\n",
              "</div>"
            ],
            "text/plain": [
              "                     # Summer  Gold  Silver  Bronze  Total  # Winter  Gold.1  \\\n",
              "Liechtenstein (LIE)        16     0       0       0      0        18       2   \n",
              "\n",
              "                     Silver.1  Bronze.1  Total.1  # Games  Gold.2  Silver.2  \\\n",
              "Liechtenstein (LIE)         2         5        9       34       2         2   \n",
              "\n",
              "                     Bronze.2  Combined total  \n",
              "Liechtenstein (LIE)         5               9  "
            ]
          },
          "metadata": {
            "tags": []
          },
          "execution_count": 61
        }
      ]
    },
    {
      "metadata": {
        "id": "JT3MraQQzl0a",
        "colab_type": "text"
      },
      "cell_type": "markdown",
      "source": [
        "Quiz: Write a query to return all of the names of people who bought products worth more than $3.00."
      ]
    },
    {
      "metadata": {
        "id": "N6ugGEJHzoIQ",
        "colab_type": "code",
        "colab": {
          "base_uri": "https://localhost:8080/",
          "height": 69
        },
        "outputId": "9f39c3e9-c97c-4b27-a5a4-1468c0e72e9d"
      },
      "cell_type": "code",
      "source": [
        "purchase_1 = pd.Series({'Name': 'Chris',\n",
        "                        'Item Purchased': 'Dog Food',\n",
        "                        'Cost': 22.50})\n",
        "purchase_2 = pd.Series({'Name': 'Kevyn',\n",
        "                        'Item Purchased': 'Kitty Litter',\n",
        "                        'Cost': 2.50})\n",
        "purchase_3 = pd.Series({'Name': 'Vinod',\n",
        "                        'Item Purchased': 'Bird Seed',\n",
        "                        'Cost': 5.00})\n",
        "\n",
        "df = pd.DataFrame([purchase_1, purchase_2, purchase_3], index=['Store 1', 'Store 1', 'Store 2'])\n",
        "\n",
        "\n",
        "print(df['Name'][df['Cost']>3])"
      ],
      "execution_count": 67,
      "outputs": [
        {
          "output_type": "stream",
          "text": [
            "Store 1    Chris\n",
            "Store 2    Vinod\n",
            "Name: Name, dtype: object\n"
          ],
          "name": "stdout"
        }
      ]
    },
    {
      "metadata": {
        "id": "6uSMWW_RrfVx",
        "colab_type": "text"
      },
      "cell_type": "markdown",
      "source": [
        "# Indexing Dataframes"
      ]
    },
    {
      "metadata": {
        "id": "fZoEeMtKrfVy",
        "colab_type": "code",
        "colab": {
          "base_uri": "https://localhost:8080/",
          "height": 257
        },
        "outputId": "93e5f072-1b25-4581-b5ae-69483c19ca9d"
      },
      "cell_type": "code",
      "source": [
        "df = pd.read_csv('olympics.csv', index_col = 0, skiprows=1)\n",
        "for col in df.columns:\n",
        "    if col[:2]=='01':\n",
        "        df.rename(columns={col:'Gold' + col[4:]}, inplace=True)\n",
        "    if col[:2]=='02':\n",
        "        df.rename(columns={col:'Silver' + col[4:]}, inplace=True)\n",
        "    if col[:2]=='03':\n",
        "        df.rename(columns={col:'Bronze' + col[4:]}, inplace=True)\n",
        "    if col[:1]=='№':\n",
        "        df.rename(columns={col:'#' + col[1:]}, inplace=True) \n",
        "df.head()"
      ],
      "execution_count": 76,
      "outputs": [
        {
          "output_type": "execute_result",
          "data": {
            "text/html": [
              "<div>\n",
              "<style scoped>\n",
              "    .dataframe tbody tr th:only-of-type {\n",
              "        vertical-align: middle;\n",
              "    }\n",
              "\n",
              "    .dataframe tbody tr th {\n",
              "        vertical-align: top;\n",
              "    }\n",
              "\n",
              "    .dataframe thead th {\n",
              "        text-align: right;\n",
              "    }\n",
              "</style>\n",
              "<table border=\"1\" class=\"dataframe\">\n",
              "  <thead>\n",
              "    <tr style=\"text-align: right;\">\n",
              "      <th></th>\n",
              "      <th># Summer</th>\n",
              "      <th>Gold</th>\n",
              "      <th>Silver</th>\n",
              "      <th>Bronze</th>\n",
              "      <th>Total</th>\n",
              "      <th># Winter</th>\n",
              "      <th>Gold.1</th>\n",
              "      <th>Silver.1</th>\n",
              "      <th>Bronze.1</th>\n",
              "      <th>Total.1</th>\n",
              "      <th># Games</th>\n",
              "      <th>Gold.2</th>\n",
              "      <th>Silver.2</th>\n",
              "      <th>Bronze.2</th>\n",
              "      <th>Combined total</th>\n",
              "    </tr>\n",
              "  </thead>\n",
              "  <tbody>\n",
              "    <tr>\n",
              "      <th>Afghanistan (AFG)</th>\n",
              "      <td>13</td>\n",
              "      <td>0</td>\n",
              "      <td>0</td>\n",
              "      <td>2</td>\n",
              "      <td>2</td>\n",
              "      <td>0</td>\n",
              "      <td>0</td>\n",
              "      <td>0</td>\n",
              "      <td>0</td>\n",
              "      <td>0</td>\n",
              "      <td>13</td>\n",
              "      <td>0</td>\n",
              "      <td>0</td>\n",
              "      <td>2</td>\n",
              "      <td>2</td>\n",
              "    </tr>\n",
              "    <tr>\n",
              "      <th>Algeria (ALG)</th>\n",
              "      <td>12</td>\n",
              "      <td>5</td>\n",
              "      <td>2</td>\n",
              "      <td>8</td>\n",
              "      <td>15</td>\n",
              "      <td>3</td>\n",
              "      <td>0</td>\n",
              "      <td>0</td>\n",
              "      <td>0</td>\n",
              "      <td>0</td>\n",
              "      <td>15</td>\n",
              "      <td>5</td>\n",
              "      <td>2</td>\n",
              "      <td>8</td>\n",
              "      <td>15</td>\n",
              "    </tr>\n",
              "    <tr>\n",
              "      <th>Argentina (ARG)</th>\n",
              "      <td>23</td>\n",
              "      <td>18</td>\n",
              "      <td>24</td>\n",
              "      <td>28</td>\n",
              "      <td>70</td>\n",
              "      <td>18</td>\n",
              "      <td>0</td>\n",
              "      <td>0</td>\n",
              "      <td>0</td>\n",
              "      <td>0</td>\n",
              "      <td>41</td>\n",
              "      <td>18</td>\n",
              "      <td>24</td>\n",
              "      <td>28</td>\n",
              "      <td>70</td>\n",
              "    </tr>\n",
              "    <tr>\n",
              "      <th>Armenia (ARM)</th>\n",
              "      <td>5</td>\n",
              "      <td>1</td>\n",
              "      <td>2</td>\n",
              "      <td>9</td>\n",
              "      <td>12</td>\n",
              "      <td>6</td>\n",
              "      <td>0</td>\n",
              "      <td>0</td>\n",
              "      <td>0</td>\n",
              "      <td>0</td>\n",
              "      <td>11</td>\n",
              "      <td>1</td>\n",
              "      <td>2</td>\n",
              "      <td>9</td>\n",
              "      <td>12</td>\n",
              "    </tr>\n",
              "    <tr>\n",
              "      <th>Australasia (ANZ) [ANZ]</th>\n",
              "      <td>2</td>\n",
              "      <td>3</td>\n",
              "      <td>4</td>\n",
              "      <td>5</td>\n",
              "      <td>12</td>\n",
              "      <td>0</td>\n",
              "      <td>0</td>\n",
              "      <td>0</td>\n",
              "      <td>0</td>\n",
              "      <td>0</td>\n",
              "      <td>2</td>\n",
              "      <td>3</td>\n",
              "      <td>4</td>\n",
              "      <td>5</td>\n",
              "      <td>12</td>\n",
              "    </tr>\n",
              "  </tbody>\n",
              "</table>\n",
              "</div>"
            ],
            "text/plain": [
              "                         # Summer  Gold  Silver  Bronze  Total  # Winter  \\\n",
              "Afghanistan (AFG)              13     0       0       2      2         0   \n",
              "Algeria (ALG)                  12     5       2       8     15         3   \n",
              "Argentina (ARG)                23    18      24      28     70        18   \n",
              "Armenia (ARM)                   5     1       2       9     12         6   \n",
              "Australasia (ANZ) [ANZ]         2     3       4       5     12         0   \n",
              "\n",
              "                         Gold.1  Silver.1  Bronze.1  Total.1  # Games  Gold.2  \\\n",
              "Afghanistan (AFG)             0         0         0        0       13       0   \n",
              "Algeria (ALG)                 0         0         0        0       15       5   \n",
              "Argentina (ARG)               0         0         0        0       41      18   \n",
              "Armenia (ARM)                 0         0         0        0       11       1   \n",
              "Australasia (ANZ) [ANZ]       0         0         0        0        2       3   \n",
              "\n",
              "                         Silver.2  Bronze.2  Combined total  \n",
              "Afghanistan (AFG)               0         2               2  \n",
              "Algeria (ALG)                   2         8              15  \n",
              "Argentina (ARG)                24        28              70  \n",
              "Armenia (ARM)                   2         9              12  \n",
              "Australasia (ANZ) [ANZ]         4         5              12  "
            ]
          },
          "metadata": {
            "tags": []
          },
          "execution_count": 76
        }
      ]
    },
    {
      "metadata": {
        "id": "q6k-PAzOrfVz",
        "colab_type": "code",
        "colab": {
          "base_uri": "https://localhost:8080/",
          "height": 287
        },
        "outputId": "5a1e8a44-9db2-471b-c54b-aab0dad67709"
      },
      "cell_type": "code",
      "source": [
        "# Takes 'Gold' columns as index \n",
        "df['country'] = df.index\n",
        "df = df.set_index('Gold')\n",
        "df.head()"
      ],
      "execution_count": 77,
      "outputs": [
        {
          "output_type": "execute_result",
          "data": {
            "text/html": [
              "<div>\n",
              "<style scoped>\n",
              "    .dataframe tbody tr th:only-of-type {\n",
              "        vertical-align: middle;\n",
              "    }\n",
              "\n",
              "    .dataframe tbody tr th {\n",
              "        vertical-align: top;\n",
              "    }\n",
              "\n",
              "    .dataframe thead th {\n",
              "        text-align: right;\n",
              "    }\n",
              "</style>\n",
              "<table border=\"1\" class=\"dataframe\">\n",
              "  <thead>\n",
              "    <tr style=\"text-align: right;\">\n",
              "      <th></th>\n",
              "      <th># Summer</th>\n",
              "      <th>Silver</th>\n",
              "      <th>Bronze</th>\n",
              "      <th>Total</th>\n",
              "      <th># Winter</th>\n",
              "      <th>Gold.1</th>\n",
              "      <th>Silver.1</th>\n",
              "      <th>Bronze.1</th>\n",
              "      <th>Total.1</th>\n",
              "      <th># Games</th>\n",
              "      <th>Gold.2</th>\n",
              "      <th>Silver.2</th>\n",
              "      <th>Bronze.2</th>\n",
              "      <th>Combined total</th>\n",
              "      <th>country</th>\n",
              "    </tr>\n",
              "    <tr>\n",
              "      <th>Gold</th>\n",
              "      <th></th>\n",
              "      <th></th>\n",
              "      <th></th>\n",
              "      <th></th>\n",
              "      <th></th>\n",
              "      <th></th>\n",
              "      <th></th>\n",
              "      <th></th>\n",
              "      <th></th>\n",
              "      <th></th>\n",
              "      <th></th>\n",
              "      <th></th>\n",
              "      <th></th>\n",
              "      <th></th>\n",
              "      <th></th>\n",
              "    </tr>\n",
              "  </thead>\n",
              "  <tbody>\n",
              "    <tr>\n",
              "      <th>0</th>\n",
              "      <td>13</td>\n",
              "      <td>0</td>\n",
              "      <td>2</td>\n",
              "      <td>2</td>\n",
              "      <td>0</td>\n",
              "      <td>0</td>\n",
              "      <td>0</td>\n",
              "      <td>0</td>\n",
              "      <td>0</td>\n",
              "      <td>13</td>\n",
              "      <td>0</td>\n",
              "      <td>0</td>\n",
              "      <td>2</td>\n",
              "      <td>2</td>\n",
              "      <td>Afghanistan (AFG)</td>\n",
              "    </tr>\n",
              "    <tr>\n",
              "      <th>5</th>\n",
              "      <td>12</td>\n",
              "      <td>2</td>\n",
              "      <td>8</td>\n",
              "      <td>15</td>\n",
              "      <td>3</td>\n",
              "      <td>0</td>\n",
              "      <td>0</td>\n",
              "      <td>0</td>\n",
              "      <td>0</td>\n",
              "      <td>15</td>\n",
              "      <td>5</td>\n",
              "      <td>2</td>\n",
              "      <td>8</td>\n",
              "      <td>15</td>\n",
              "      <td>Algeria (ALG)</td>\n",
              "    </tr>\n",
              "    <tr>\n",
              "      <th>18</th>\n",
              "      <td>23</td>\n",
              "      <td>24</td>\n",
              "      <td>28</td>\n",
              "      <td>70</td>\n",
              "      <td>18</td>\n",
              "      <td>0</td>\n",
              "      <td>0</td>\n",
              "      <td>0</td>\n",
              "      <td>0</td>\n",
              "      <td>41</td>\n",
              "      <td>18</td>\n",
              "      <td>24</td>\n",
              "      <td>28</td>\n",
              "      <td>70</td>\n",
              "      <td>Argentina (ARG)</td>\n",
              "    </tr>\n",
              "    <tr>\n",
              "      <th>1</th>\n",
              "      <td>5</td>\n",
              "      <td>2</td>\n",
              "      <td>9</td>\n",
              "      <td>12</td>\n",
              "      <td>6</td>\n",
              "      <td>0</td>\n",
              "      <td>0</td>\n",
              "      <td>0</td>\n",
              "      <td>0</td>\n",
              "      <td>11</td>\n",
              "      <td>1</td>\n",
              "      <td>2</td>\n",
              "      <td>9</td>\n",
              "      <td>12</td>\n",
              "      <td>Armenia (ARM)</td>\n",
              "    </tr>\n",
              "    <tr>\n",
              "      <th>3</th>\n",
              "      <td>2</td>\n",
              "      <td>4</td>\n",
              "      <td>5</td>\n",
              "      <td>12</td>\n",
              "      <td>0</td>\n",
              "      <td>0</td>\n",
              "      <td>0</td>\n",
              "      <td>0</td>\n",
              "      <td>0</td>\n",
              "      <td>2</td>\n",
              "      <td>3</td>\n",
              "      <td>4</td>\n",
              "      <td>5</td>\n",
              "      <td>12</td>\n",
              "      <td>Australasia (ANZ) [ANZ]</td>\n",
              "    </tr>\n",
              "  </tbody>\n",
              "</table>\n",
              "</div>"
            ],
            "text/plain": [
              "      # Summer  Silver  Bronze  Total  # Winter  Gold.1  Silver.1  Bronze.1  \\\n",
              "Gold                                                                          \n",
              "0           13       0       2      2         0       0         0         0   \n",
              "5           12       2       8     15         3       0         0         0   \n",
              "18          23      24      28     70        18       0         0         0   \n",
              "1            5       2       9     12         6       0         0         0   \n",
              "3            2       4       5     12         0       0         0         0   \n",
              "\n",
              "      Total.1  # Games  Gold.2  Silver.2  Bronze.2  Combined total  \\\n",
              "Gold                                                                 \n",
              "0           0       13       0         0         2               2   \n",
              "5           0       15       5         2         8              15   \n",
              "18          0       41      18        24        28              70   \n",
              "1           0       11       1         2         9              12   \n",
              "3           0        2       3         4         5              12   \n",
              "\n",
              "                      country  \n",
              "Gold                           \n",
              "0           Afghanistan (AFG)  \n",
              "5               Algeria (ALG)  \n",
              "18            Argentina (ARG)  \n",
              "1               Armenia (ARM)  \n",
              "3     Australasia (ANZ) [ANZ]  "
            ]
          },
          "metadata": {
            "tags": []
          },
          "execution_count": 77
        }
      ]
    },
    {
      "metadata": {
        "id": "1ENY0PETrfV1",
        "colab_type": "code",
        "colab": {
          "base_uri": "https://localhost:8080/",
          "height": 257
        },
        "outputId": "6e4b151f-91a9-43d3-a1eb-3ef36924d55d"
      },
      "cell_type": "code",
      "source": [
        "# Get rid of the index completely \n",
        "df = df.reset_index()\n",
        "df.head()"
      ],
      "execution_count": 78,
      "outputs": [
        {
          "output_type": "execute_result",
          "data": {
            "text/html": [
              "<div>\n",
              "<style scoped>\n",
              "    .dataframe tbody tr th:only-of-type {\n",
              "        vertical-align: middle;\n",
              "    }\n",
              "\n",
              "    .dataframe tbody tr th {\n",
              "        vertical-align: top;\n",
              "    }\n",
              "\n",
              "    .dataframe thead th {\n",
              "        text-align: right;\n",
              "    }\n",
              "</style>\n",
              "<table border=\"1\" class=\"dataframe\">\n",
              "  <thead>\n",
              "    <tr style=\"text-align: right;\">\n",
              "      <th></th>\n",
              "      <th>Gold</th>\n",
              "      <th># Summer</th>\n",
              "      <th>Silver</th>\n",
              "      <th>Bronze</th>\n",
              "      <th>Total</th>\n",
              "      <th># Winter</th>\n",
              "      <th>Gold.1</th>\n",
              "      <th>Silver.1</th>\n",
              "      <th>Bronze.1</th>\n",
              "      <th>Total.1</th>\n",
              "      <th># Games</th>\n",
              "      <th>Gold.2</th>\n",
              "      <th>Silver.2</th>\n",
              "      <th>Bronze.2</th>\n",
              "      <th>Combined total</th>\n",
              "      <th>country</th>\n",
              "    </tr>\n",
              "  </thead>\n",
              "  <tbody>\n",
              "    <tr>\n",
              "      <th>0</th>\n",
              "      <td>0</td>\n",
              "      <td>13</td>\n",
              "      <td>0</td>\n",
              "      <td>2</td>\n",
              "      <td>2</td>\n",
              "      <td>0</td>\n",
              "      <td>0</td>\n",
              "      <td>0</td>\n",
              "      <td>0</td>\n",
              "      <td>0</td>\n",
              "      <td>13</td>\n",
              "      <td>0</td>\n",
              "      <td>0</td>\n",
              "      <td>2</td>\n",
              "      <td>2</td>\n",
              "      <td>Afghanistan (AFG)</td>\n",
              "    </tr>\n",
              "    <tr>\n",
              "      <th>1</th>\n",
              "      <td>5</td>\n",
              "      <td>12</td>\n",
              "      <td>2</td>\n",
              "      <td>8</td>\n",
              "      <td>15</td>\n",
              "      <td>3</td>\n",
              "      <td>0</td>\n",
              "      <td>0</td>\n",
              "      <td>0</td>\n",
              "      <td>0</td>\n",
              "      <td>15</td>\n",
              "      <td>5</td>\n",
              "      <td>2</td>\n",
              "      <td>8</td>\n",
              "      <td>15</td>\n",
              "      <td>Algeria (ALG)</td>\n",
              "    </tr>\n",
              "    <tr>\n",
              "      <th>2</th>\n",
              "      <td>18</td>\n",
              "      <td>23</td>\n",
              "      <td>24</td>\n",
              "      <td>28</td>\n",
              "      <td>70</td>\n",
              "      <td>18</td>\n",
              "      <td>0</td>\n",
              "      <td>0</td>\n",
              "      <td>0</td>\n",
              "      <td>0</td>\n",
              "      <td>41</td>\n",
              "      <td>18</td>\n",
              "      <td>24</td>\n",
              "      <td>28</td>\n",
              "      <td>70</td>\n",
              "      <td>Argentina (ARG)</td>\n",
              "    </tr>\n",
              "    <tr>\n",
              "      <th>3</th>\n",
              "      <td>1</td>\n",
              "      <td>5</td>\n",
              "      <td>2</td>\n",
              "      <td>9</td>\n",
              "      <td>12</td>\n",
              "      <td>6</td>\n",
              "      <td>0</td>\n",
              "      <td>0</td>\n",
              "      <td>0</td>\n",
              "      <td>0</td>\n",
              "      <td>11</td>\n",
              "      <td>1</td>\n",
              "      <td>2</td>\n",
              "      <td>9</td>\n",
              "      <td>12</td>\n",
              "      <td>Armenia (ARM)</td>\n",
              "    </tr>\n",
              "    <tr>\n",
              "      <th>4</th>\n",
              "      <td>3</td>\n",
              "      <td>2</td>\n",
              "      <td>4</td>\n",
              "      <td>5</td>\n",
              "      <td>12</td>\n",
              "      <td>0</td>\n",
              "      <td>0</td>\n",
              "      <td>0</td>\n",
              "      <td>0</td>\n",
              "      <td>0</td>\n",
              "      <td>2</td>\n",
              "      <td>3</td>\n",
              "      <td>4</td>\n",
              "      <td>5</td>\n",
              "      <td>12</td>\n",
              "      <td>Australasia (ANZ) [ANZ]</td>\n",
              "    </tr>\n",
              "  </tbody>\n",
              "</table>\n",
              "</div>"
            ],
            "text/plain": [
              "   Gold  # Summer  Silver  Bronze  Total  # Winter  Gold.1  Silver.1  \\\n",
              "0     0        13       0       2      2         0       0         0   \n",
              "1     5        12       2       8     15         3       0         0   \n",
              "2    18        23      24      28     70        18       0         0   \n",
              "3     1         5       2       9     12         6       0         0   \n",
              "4     3         2       4       5     12         0       0         0   \n",
              "\n",
              "   Bronze.1  Total.1  # Games  Gold.2  Silver.2  Bronze.2  Combined total  \\\n",
              "0         0        0       13       0         0         2               2   \n",
              "1         0        0       15       5         2         8              15   \n",
              "2         0        0       41      18        24        28              70   \n",
              "3         0        0       11       1         2         9              12   \n",
              "4         0        0        2       3         4         5              12   \n",
              "\n",
              "                   country  \n",
              "0        Afghanistan (AFG)  \n",
              "1            Algeria (ALG)  \n",
              "2          Argentina (ARG)  \n",
              "3            Armenia (ARM)  \n",
              "4  Australasia (ANZ) [ANZ]  "
            ]
          },
          "metadata": {
            "tags": []
          },
          "execution_count": 78
        }
      ]
    },
    {
      "metadata": {
        "id": "V8BQj5rwrfV2",
        "colab_type": "code",
        "colab": {
          "base_uri": "https://localhost:8080/",
          "height": 321
        },
        "outputId": "375ff3cd-a7c9-4ffe-c11f-f092901d7d1f"
      },
      "cell_type": "code",
      "source": [
        "df = pd.read_csv('census.csv')\n",
        "df.head()"
      ],
      "execution_count": 79,
      "outputs": [
        {
          "output_type": "execute_result",
          "data": {
            "text/html": [
              "<div>\n",
              "<style scoped>\n",
              "    .dataframe tbody tr th:only-of-type {\n",
              "        vertical-align: middle;\n",
              "    }\n",
              "\n",
              "    .dataframe tbody tr th {\n",
              "        vertical-align: top;\n",
              "    }\n",
              "\n",
              "    .dataframe thead th {\n",
              "        text-align: right;\n",
              "    }\n",
              "</style>\n",
              "<table border=\"1\" class=\"dataframe\">\n",
              "  <thead>\n",
              "    <tr style=\"text-align: right;\">\n",
              "      <th></th>\n",
              "      <th>SUMLEV</th>\n",
              "      <th>REGION</th>\n",
              "      <th>DIVISION</th>\n",
              "      <th>STATE</th>\n",
              "      <th>COUNTY</th>\n",
              "      <th>STNAME</th>\n",
              "      <th>CTYNAME</th>\n",
              "      <th>CENSUS2010POP</th>\n",
              "      <th>ESTIMATESBASE2010</th>\n",
              "      <th>POPESTIMATE2010</th>\n",
              "      <th>...</th>\n",
              "      <th>RDOMESTICMIG2011</th>\n",
              "      <th>RDOMESTICMIG2012</th>\n",
              "      <th>RDOMESTICMIG2013</th>\n",
              "      <th>RDOMESTICMIG2014</th>\n",
              "      <th>RDOMESTICMIG2015</th>\n",
              "      <th>RNETMIG2011</th>\n",
              "      <th>RNETMIG2012</th>\n",
              "      <th>RNETMIG2013</th>\n",
              "      <th>RNETMIG2014</th>\n",
              "      <th>RNETMIG2015</th>\n",
              "    </tr>\n",
              "  </thead>\n",
              "  <tbody>\n",
              "    <tr>\n",
              "      <th>0</th>\n",
              "      <td>40</td>\n",
              "      <td>3</td>\n",
              "      <td>6</td>\n",
              "      <td>1</td>\n",
              "      <td>0</td>\n",
              "      <td>Alabama</td>\n",
              "      <td>Alabama</td>\n",
              "      <td>4779736</td>\n",
              "      <td>4780127</td>\n",
              "      <td>4785161</td>\n",
              "      <td>...</td>\n",
              "      <td>0.002295</td>\n",
              "      <td>-0.193196</td>\n",
              "      <td>0.381066</td>\n",
              "      <td>0.582002</td>\n",
              "      <td>-0.467369</td>\n",
              "      <td>1.030015</td>\n",
              "      <td>0.826644</td>\n",
              "      <td>1.383282</td>\n",
              "      <td>1.724718</td>\n",
              "      <td>0.712594</td>\n",
              "    </tr>\n",
              "    <tr>\n",
              "      <th>1</th>\n",
              "      <td>50</td>\n",
              "      <td>3</td>\n",
              "      <td>6</td>\n",
              "      <td>1</td>\n",
              "      <td>1</td>\n",
              "      <td>Alabama</td>\n",
              "      <td>Autauga County</td>\n",
              "      <td>54571</td>\n",
              "      <td>54571</td>\n",
              "      <td>54660</td>\n",
              "      <td>...</td>\n",
              "      <td>7.242091</td>\n",
              "      <td>-2.915927</td>\n",
              "      <td>-3.012349</td>\n",
              "      <td>2.265971</td>\n",
              "      <td>-2.530799</td>\n",
              "      <td>7.606016</td>\n",
              "      <td>-2.626146</td>\n",
              "      <td>-2.722002</td>\n",
              "      <td>2.592270</td>\n",
              "      <td>-2.187333</td>\n",
              "    </tr>\n",
              "    <tr>\n",
              "      <th>2</th>\n",
              "      <td>50</td>\n",
              "      <td>3</td>\n",
              "      <td>6</td>\n",
              "      <td>1</td>\n",
              "      <td>3</td>\n",
              "      <td>Alabama</td>\n",
              "      <td>Baldwin County</td>\n",
              "      <td>182265</td>\n",
              "      <td>182265</td>\n",
              "      <td>183193</td>\n",
              "      <td>...</td>\n",
              "      <td>14.832960</td>\n",
              "      <td>17.647293</td>\n",
              "      <td>21.845705</td>\n",
              "      <td>19.243287</td>\n",
              "      <td>17.197872</td>\n",
              "      <td>15.844176</td>\n",
              "      <td>18.559627</td>\n",
              "      <td>22.727626</td>\n",
              "      <td>20.317142</td>\n",
              "      <td>18.293499</td>\n",
              "    </tr>\n",
              "    <tr>\n",
              "      <th>3</th>\n",
              "      <td>50</td>\n",
              "      <td>3</td>\n",
              "      <td>6</td>\n",
              "      <td>1</td>\n",
              "      <td>5</td>\n",
              "      <td>Alabama</td>\n",
              "      <td>Barbour County</td>\n",
              "      <td>27457</td>\n",
              "      <td>27457</td>\n",
              "      <td>27341</td>\n",
              "      <td>...</td>\n",
              "      <td>-4.728132</td>\n",
              "      <td>-2.500690</td>\n",
              "      <td>-7.056824</td>\n",
              "      <td>-3.904217</td>\n",
              "      <td>-10.543299</td>\n",
              "      <td>-4.874741</td>\n",
              "      <td>-2.758113</td>\n",
              "      <td>-7.167664</td>\n",
              "      <td>-3.978583</td>\n",
              "      <td>-10.543299</td>\n",
              "    </tr>\n",
              "    <tr>\n",
              "      <th>4</th>\n",
              "      <td>50</td>\n",
              "      <td>3</td>\n",
              "      <td>6</td>\n",
              "      <td>1</td>\n",
              "      <td>7</td>\n",
              "      <td>Alabama</td>\n",
              "      <td>Bibb County</td>\n",
              "      <td>22915</td>\n",
              "      <td>22919</td>\n",
              "      <td>22861</td>\n",
              "      <td>...</td>\n",
              "      <td>-5.527043</td>\n",
              "      <td>-5.068871</td>\n",
              "      <td>-6.201001</td>\n",
              "      <td>-0.177537</td>\n",
              "      <td>0.177258</td>\n",
              "      <td>-5.088389</td>\n",
              "      <td>-4.363636</td>\n",
              "      <td>-5.403729</td>\n",
              "      <td>0.754533</td>\n",
              "      <td>1.107861</td>\n",
              "    </tr>\n",
              "  </tbody>\n",
              "</table>\n",
              "<p>5 rows × 100 columns</p>\n",
              "</div>"
            ],
            "text/plain": [
              "   SUMLEV  REGION  DIVISION  STATE  COUNTY   STNAME         CTYNAME  \\\n",
              "0      40       3         6      1       0  Alabama         Alabama   \n",
              "1      50       3         6      1       1  Alabama  Autauga County   \n",
              "2      50       3         6      1       3  Alabama  Baldwin County   \n",
              "3      50       3         6      1       5  Alabama  Barbour County   \n",
              "4      50       3         6      1       7  Alabama     Bibb County   \n",
              "\n",
              "   CENSUS2010POP  ESTIMATESBASE2010  POPESTIMATE2010     ...       \\\n",
              "0        4779736            4780127          4785161     ...        \n",
              "1          54571              54571            54660     ...        \n",
              "2         182265             182265           183193     ...        \n",
              "3          27457              27457            27341     ...        \n",
              "4          22915              22919            22861     ...        \n",
              "\n",
              "   RDOMESTICMIG2011  RDOMESTICMIG2012  RDOMESTICMIG2013  RDOMESTICMIG2014  \\\n",
              "0          0.002295         -0.193196          0.381066          0.582002   \n",
              "1          7.242091         -2.915927         -3.012349          2.265971   \n",
              "2         14.832960         17.647293         21.845705         19.243287   \n",
              "3         -4.728132         -2.500690         -7.056824         -3.904217   \n",
              "4         -5.527043         -5.068871         -6.201001         -0.177537   \n",
              "\n",
              "   RDOMESTICMIG2015  RNETMIG2011  RNETMIG2012  RNETMIG2013  RNETMIG2014  \\\n",
              "0         -0.467369     1.030015     0.826644     1.383282     1.724718   \n",
              "1         -2.530799     7.606016    -2.626146    -2.722002     2.592270   \n",
              "2         17.197872    15.844176    18.559627    22.727626    20.317142   \n",
              "3        -10.543299    -4.874741    -2.758113    -7.167664    -3.978583   \n",
              "4          0.177258    -5.088389    -4.363636    -5.403729     0.754533   \n",
              "\n",
              "   RNETMIG2015  \n",
              "0     0.712594  \n",
              "1    -2.187333  \n",
              "2    18.293499  \n",
              "3   -10.543299  \n",
              "4     1.107861  \n",
              "\n",
              "[5 rows x 100 columns]"
            ]
          },
          "metadata": {
            "tags": []
          },
          "execution_count": 79
        }
      ]
    },
    {
      "metadata": {
        "id": "4jOge_ohrfV6",
        "colab_type": "code",
        "colab": {
          "base_uri": "https://localhost:8080/",
          "height": 35
        },
        "outputId": "c6de41a6-dba4-443b-dbec-230e87abfca4"
      },
      "cell_type": "code",
      "source": [
        "# Show all possible values for the sum level\n",
        "df['SUMLEV'].unique()"
      ],
      "execution_count": 80,
      "outputs": [
        {
          "output_type": "execute_result",
          "data": {
            "text/plain": [
              "array([40, 50])"
            ]
          },
          "metadata": {
            "tags": []
          },
          "execution_count": 80
        }
      ]
    },
    {
      "metadata": {
        "id": "5hFoKiMkrfV9",
        "colab_type": "code",
        "colab": {
          "base_uri": "https://localhost:8080/",
          "height": 338
        },
        "outputId": "1bd93cae-aee6-4479-be4f-f115fa0954b7"
      },
      "cell_type": "code",
      "source": [
        "df=df[df['SUMLEV'] == 50]\n",
        "df.head()"
      ],
      "execution_count": 81,
      "outputs": [
        {
          "output_type": "execute_result",
          "data": {
            "text/html": [
              "<div>\n",
              "<style scoped>\n",
              "    .dataframe tbody tr th:only-of-type {\n",
              "        vertical-align: middle;\n",
              "    }\n",
              "\n",
              "    .dataframe tbody tr th {\n",
              "        vertical-align: top;\n",
              "    }\n",
              "\n",
              "    .dataframe thead th {\n",
              "        text-align: right;\n",
              "    }\n",
              "</style>\n",
              "<table border=\"1\" class=\"dataframe\">\n",
              "  <thead>\n",
              "    <tr style=\"text-align: right;\">\n",
              "      <th></th>\n",
              "      <th>SUMLEV</th>\n",
              "      <th>REGION</th>\n",
              "      <th>DIVISION</th>\n",
              "      <th>STATE</th>\n",
              "      <th>COUNTY</th>\n",
              "      <th>STNAME</th>\n",
              "      <th>CTYNAME</th>\n",
              "      <th>CENSUS2010POP</th>\n",
              "      <th>ESTIMATESBASE2010</th>\n",
              "      <th>POPESTIMATE2010</th>\n",
              "      <th>...</th>\n",
              "      <th>RDOMESTICMIG2011</th>\n",
              "      <th>RDOMESTICMIG2012</th>\n",
              "      <th>RDOMESTICMIG2013</th>\n",
              "      <th>RDOMESTICMIG2014</th>\n",
              "      <th>RDOMESTICMIG2015</th>\n",
              "      <th>RNETMIG2011</th>\n",
              "      <th>RNETMIG2012</th>\n",
              "      <th>RNETMIG2013</th>\n",
              "      <th>RNETMIG2014</th>\n",
              "      <th>RNETMIG2015</th>\n",
              "    </tr>\n",
              "  </thead>\n",
              "  <tbody>\n",
              "    <tr>\n",
              "      <th>1</th>\n",
              "      <td>50</td>\n",
              "      <td>3</td>\n",
              "      <td>6</td>\n",
              "      <td>1</td>\n",
              "      <td>1</td>\n",
              "      <td>Alabama</td>\n",
              "      <td>Autauga County</td>\n",
              "      <td>54571</td>\n",
              "      <td>54571</td>\n",
              "      <td>54660</td>\n",
              "      <td>...</td>\n",
              "      <td>7.242091</td>\n",
              "      <td>-2.915927</td>\n",
              "      <td>-3.012349</td>\n",
              "      <td>2.265971</td>\n",
              "      <td>-2.530799</td>\n",
              "      <td>7.606016</td>\n",
              "      <td>-2.626146</td>\n",
              "      <td>-2.722002</td>\n",
              "      <td>2.592270</td>\n",
              "      <td>-2.187333</td>\n",
              "    </tr>\n",
              "    <tr>\n",
              "      <th>2</th>\n",
              "      <td>50</td>\n",
              "      <td>3</td>\n",
              "      <td>6</td>\n",
              "      <td>1</td>\n",
              "      <td>3</td>\n",
              "      <td>Alabama</td>\n",
              "      <td>Baldwin County</td>\n",
              "      <td>182265</td>\n",
              "      <td>182265</td>\n",
              "      <td>183193</td>\n",
              "      <td>...</td>\n",
              "      <td>14.832960</td>\n",
              "      <td>17.647293</td>\n",
              "      <td>21.845705</td>\n",
              "      <td>19.243287</td>\n",
              "      <td>17.197872</td>\n",
              "      <td>15.844176</td>\n",
              "      <td>18.559627</td>\n",
              "      <td>22.727626</td>\n",
              "      <td>20.317142</td>\n",
              "      <td>18.293499</td>\n",
              "    </tr>\n",
              "    <tr>\n",
              "      <th>3</th>\n",
              "      <td>50</td>\n",
              "      <td>3</td>\n",
              "      <td>6</td>\n",
              "      <td>1</td>\n",
              "      <td>5</td>\n",
              "      <td>Alabama</td>\n",
              "      <td>Barbour County</td>\n",
              "      <td>27457</td>\n",
              "      <td>27457</td>\n",
              "      <td>27341</td>\n",
              "      <td>...</td>\n",
              "      <td>-4.728132</td>\n",
              "      <td>-2.500690</td>\n",
              "      <td>-7.056824</td>\n",
              "      <td>-3.904217</td>\n",
              "      <td>-10.543299</td>\n",
              "      <td>-4.874741</td>\n",
              "      <td>-2.758113</td>\n",
              "      <td>-7.167664</td>\n",
              "      <td>-3.978583</td>\n",
              "      <td>-10.543299</td>\n",
              "    </tr>\n",
              "    <tr>\n",
              "      <th>4</th>\n",
              "      <td>50</td>\n",
              "      <td>3</td>\n",
              "      <td>6</td>\n",
              "      <td>1</td>\n",
              "      <td>7</td>\n",
              "      <td>Alabama</td>\n",
              "      <td>Bibb County</td>\n",
              "      <td>22915</td>\n",
              "      <td>22919</td>\n",
              "      <td>22861</td>\n",
              "      <td>...</td>\n",
              "      <td>-5.527043</td>\n",
              "      <td>-5.068871</td>\n",
              "      <td>-6.201001</td>\n",
              "      <td>-0.177537</td>\n",
              "      <td>0.177258</td>\n",
              "      <td>-5.088389</td>\n",
              "      <td>-4.363636</td>\n",
              "      <td>-5.403729</td>\n",
              "      <td>0.754533</td>\n",
              "      <td>1.107861</td>\n",
              "    </tr>\n",
              "    <tr>\n",
              "      <th>5</th>\n",
              "      <td>50</td>\n",
              "      <td>3</td>\n",
              "      <td>6</td>\n",
              "      <td>1</td>\n",
              "      <td>9</td>\n",
              "      <td>Alabama</td>\n",
              "      <td>Blount County</td>\n",
              "      <td>57322</td>\n",
              "      <td>57322</td>\n",
              "      <td>57373</td>\n",
              "      <td>...</td>\n",
              "      <td>1.807375</td>\n",
              "      <td>-1.177622</td>\n",
              "      <td>-1.748766</td>\n",
              "      <td>-2.062535</td>\n",
              "      <td>-1.369970</td>\n",
              "      <td>1.859511</td>\n",
              "      <td>-0.848580</td>\n",
              "      <td>-1.402476</td>\n",
              "      <td>-1.577232</td>\n",
              "      <td>-0.884411</td>\n",
              "    </tr>\n",
              "  </tbody>\n",
              "</table>\n",
              "<p>5 rows × 100 columns</p>\n",
              "</div>"
            ],
            "text/plain": [
              "   SUMLEV  REGION  DIVISION  STATE  COUNTY   STNAME         CTYNAME  \\\n",
              "1      50       3         6      1       1  Alabama  Autauga County   \n",
              "2      50       3         6      1       3  Alabama  Baldwin County   \n",
              "3      50       3         6      1       5  Alabama  Barbour County   \n",
              "4      50       3         6      1       7  Alabama     Bibb County   \n",
              "5      50       3         6      1       9  Alabama   Blount County   \n",
              "\n",
              "   CENSUS2010POP  ESTIMATESBASE2010  POPESTIMATE2010     ...       \\\n",
              "1          54571              54571            54660     ...        \n",
              "2         182265             182265           183193     ...        \n",
              "3          27457              27457            27341     ...        \n",
              "4          22915              22919            22861     ...        \n",
              "5          57322              57322            57373     ...        \n",
              "\n",
              "   RDOMESTICMIG2011  RDOMESTICMIG2012  RDOMESTICMIG2013  RDOMESTICMIG2014  \\\n",
              "1          7.242091         -2.915927         -3.012349          2.265971   \n",
              "2         14.832960         17.647293         21.845705         19.243287   \n",
              "3         -4.728132         -2.500690         -7.056824         -3.904217   \n",
              "4         -5.527043         -5.068871         -6.201001         -0.177537   \n",
              "5          1.807375         -1.177622         -1.748766         -2.062535   \n",
              "\n",
              "   RDOMESTICMIG2015  RNETMIG2011  RNETMIG2012  RNETMIG2013  RNETMIG2014  \\\n",
              "1         -2.530799     7.606016    -2.626146    -2.722002     2.592270   \n",
              "2         17.197872    15.844176    18.559627    22.727626    20.317142   \n",
              "3        -10.543299    -4.874741    -2.758113    -7.167664    -3.978583   \n",
              "4          0.177258    -5.088389    -4.363636    -5.403729     0.754533   \n",
              "5         -1.369970     1.859511    -0.848580    -1.402476    -1.577232   \n",
              "\n",
              "   RNETMIG2015  \n",
              "1    -2.187333  \n",
              "2    18.293499  \n",
              "3   -10.543299  \n",
              "4     1.107861  \n",
              "5    -0.884411  \n",
              "\n",
              "[5 rows x 100 columns]"
            ]
          },
          "metadata": {
            "tags": []
          },
          "execution_count": 81
        }
      ]
    },
    {
      "metadata": {
        "id": "uxyADEEmrfV-",
        "colab_type": "code",
        "colab": {
          "base_uri": "https://localhost:8080/",
          "height": 309
        },
        "outputId": "26544164-355a-4bd6-e535-6dc5ac5b0c68"
      },
      "cell_type": "code",
      "source": [
        "columns_to_keep = ['STNAME',\n",
        "                   'CTYNAME',\n",
        "                   'BIRTHS2010',\n",
        "                   'BIRTHS2011',\n",
        "                   'BIRTHS2012',\n",
        "                   'BIRTHS2013',\n",
        "                   'BIRTHS2014',\n",
        "                   'BIRTHS2015',\n",
        "                   'POPESTIMATE2010',\n",
        "                   'POPESTIMATE2011',\n",
        "                   'POPESTIMATE2012',\n",
        "                   'POPESTIMATE2013',\n",
        "                   'POPESTIMATE2014',\n",
        "                   'POPESTIMATE2015']\n",
        "df = df[columns_to_keep]\n",
        "df.head()"
      ],
      "execution_count": 82,
      "outputs": [
        {
          "output_type": "execute_result",
          "data": {
            "text/html": [
              "<div>\n",
              "<style scoped>\n",
              "    .dataframe tbody tr th:only-of-type {\n",
              "        vertical-align: middle;\n",
              "    }\n",
              "\n",
              "    .dataframe tbody tr th {\n",
              "        vertical-align: top;\n",
              "    }\n",
              "\n",
              "    .dataframe thead th {\n",
              "        text-align: right;\n",
              "    }\n",
              "</style>\n",
              "<table border=\"1\" class=\"dataframe\">\n",
              "  <thead>\n",
              "    <tr style=\"text-align: right;\">\n",
              "      <th></th>\n",
              "      <th>STNAME</th>\n",
              "      <th>CTYNAME</th>\n",
              "      <th>BIRTHS2010</th>\n",
              "      <th>BIRTHS2011</th>\n",
              "      <th>BIRTHS2012</th>\n",
              "      <th>BIRTHS2013</th>\n",
              "      <th>BIRTHS2014</th>\n",
              "      <th>BIRTHS2015</th>\n",
              "      <th>POPESTIMATE2010</th>\n",
              "      <th>POPESTIMATE2011</th>\n",
              "      <th>POPESTIMATE2012</th>\n",
              "      <th>POPESTIMATE2013</th>\n",
              "      <th>POPESTIMATE2014</th>\n",
              "      <th>POPESTIMATE2015</th>\n",
              "    </tr>\n",
              "  </thead>\n",
              "  <tbody>\n",
              "    <tr>\n",
              "      <th>1</th>\n",
              "      <td>Alabama</td>\n",
              "      <td>Autauga County</td>\n",
              "      <td>151</td>\n",
              "      <td>636</td>\n",
              "      <td>615</td>\n",
              "      <td>574</td>\n",
              "      <td>623</td>\n",
              "      <td>600</td>\n",
              "      <td>54660</td>\n",
              "      <td>55253</td>\n",
              "      <td>55175</td>\n",
              "      <td>55038</td>\n",
              "      <td>55290</td>\n",
              "      <td>55347</td>\n",
              "    </tr>\n",
              "    <tr>\n",
              "      <th>2</th>\n",
              "      <td>Alabama</td>\n",
              "      <td>Baldwin County</td>\n",
              "      <td>517</td>\n",
              "      <td>2187</td>\n",
              "      <td>2092</td>\n",
              "      <td>2160</td>\n",
              "      <td>2186</td>\n",
              "      <td>2240</td>\n",
              "      <td>183193</td>\n",
              "      <td>186659</td>\n",
              "      <td>190396</td>\n",
              "      <td>195126</td>\n",
              "      <td>199713</td>\n",
              "      <td>203709</td>\n",
              "    </tr>\n",
              "    <tr>\n",
              "      <th>3</th>\n",
              "      <td>Alabama</td>\n",
              "      <td>Barbour County</td>\n",
              "      <td>70</td>\n",
              "      <td>335</td>\n",
              "      <td>300</td>\n",
              "      <td>283</td>\n",
              "      <td>260</td>\n",
              "      <td>269</td>\n",
              "      <td>27341</td>\n",
              "      <td>27226</td>\n",
              "      <td>27159</td>\n",
              "      <td>26973</td>\n",
              "      <td>26815</td>\n",
              "      <td>26489</td>\n",
              "    </tr>\n",
              "    <tr>\n",
              "      <th>4</th>\n",
              "      <td>Alabama</td>\n",
              "      <td>Bibb County</td>\n",
              "      <td>44</td>\n",
              "      <td>266</td>\n",
              "      <td>245</td>\n",
              "      <td>259</td>\n",
              "      <td>247</td>\n",
              "      <td>253</td>\n",
              "      <td>22861</td>\n",
              "      <td>22733</td>\n",
              "      <td>22642</td>\n",
              "      <td>22512</td>\n",
              "      <td>22549</td>\n",
              "      <td>22583</td>\n",
              "    </tr>\n",
              "    <tr>\n",
              "      <th>5</th>\n",
              "      <td>Alabama</td>\n",
              "      <td>Blount County</td>\n",
              "      <td>183</td>\n",
              "      <td>744</td>\n",
              "      <td>710</td>\n",
              "      <td>646</td>\n",
              "      <td>618</td>\n",
              "      <td>603</td>\n",
              "      <td>57373</td>\n",
              "      <td>57711</td>\n",
              "      <td>57776</td>\n",
              "      <td>57734</td>\n",
              "      <td>57658</td>\n",
              "      <td>57673</td>\n",
              "    </tr>\n",
              "  </tbody>\n",
              "</table>\n",
              "</div>"
            ],
            "text/plain": [
              "    STNAME         CTYNAME  BIRTHS2010  BIRTHS2011  BIRTHS2012  BIRTHS2013  \\\n",
              "1  Alabama  Autauga County         151         636         615         574   \n",
              "2  Alabama  Baldwin County         517        2187        2092        2160   \n",
              "3  Alabama  Barbour County          70         335         300         283   \n",
              "4  Alabama     Bibb County          44         266         245         259   \n",
              "5  Alabama   Blount County         183         744         710         646   \n",
              "\n",
              "   BIRTHS2014  BIRTHS2015  POPESTIMATE2010  POPESTIMATE2011  POPESTIMATE2012  \\\n",
              "1         623         600            54660            55253            55175   \n",
              "2        2186        2240           183193           186659           190396   \n",
              "3         260         269            27341            27226            27159   \n",
              "4         247         253            22861            22733            22642   \n",
              "5         618         603            57373            57711            57776   \n",
              "\n",
              "   POPESTIMATE2013  POPESTIMATE2014  POPESTIMATE2015  \n",
              "1            55038            55290            55347  \n",
              "2           195126           199713           203709  \n",
              "3            26973            26815            26489  \n",
              "4            22512            22549            22583  \n",
              "5            57734            57658            57673  "
            ]
          },
          "metadata": {
            "tags": []
          },
          "execution_count": 82
        }
      ]
    },
    {
      "metadata": {
        "id": "FBw0SKw6rfV_",
        "colab_type": "code",
        "colab": {
          "base_uri": "https://localhost:8080/",
          "height": 339
        },
        "outputId": "8fff909b-7b22-4e6b-8d29-e4e1de82066c"
      },
      "cell_type": "code",
      "source": [
        "df = df.set_index(['STNAME', 'CTYNAME'])\n",
        "df.head()"
      ],
      "execution_count": 83,
      "outputs": [
        {
          "output_type": "execute_result",
          "data": {
            "text/html": [
              "<div>\n",
              "<style scoped>\n",
              "    .dataframe tbody tr th:only-of-type {\n",
              "        vertical-align: middle;\n",
              "    }\n",
              "\n",
              "    .dataframe tbody tr th {\n",
              "        vertical-align: top;\n",
              "    }\n",
              "\n",
              "    .dataframe thead th {\n",
              "        text-align: right;\n",
              "    }\n",
              "</style>\n",
              "<table border=\"1\" class=\"dataframe\">\n",
              "  <thead>\n",
              "    <tr style=\"text-align: right;\">\n",
              "      <th></th>\n",
              "      <th></th>\n",
              "      <th>BIRTHS2010</th>\n",
              "      <th>BIRTHS2011</th>\n",
              "      <th>BIRTHS2012</th>\n",
              "      <th>BIRTHS2013</th>\n",
              "      <th>BIRTHS2014</th>\n",
              "      <th>BIRTHS2015</th>\n",
              "      <th>POPESTIMATE2010</th>\n",
              "      <th>POPESTIMATE2011</th>\n",
              "      <th>POPESTIMATE2012</th>\n",
              "      <th>POPESTIMATE2013</th>\n",
              "      <th>POPESTIMATE2014</th>\n",
              "      <th>POPESTIMATE2015</th>\n",
              "    </tr>\n",
              "    <tr>\n",
              "      <th>STNAME</th>\n",
              "      <th>CTYNAME</th>\n",
              "      <th></th>\n",
              "      <th></th>\n",
              "      <th></th>\n",
              "      <th></th>\n",
              "      <th></th>\n",
              "      <th></th>\n",
              "      <th></th>\n",
              "      <th></th>\n",
              "      <th></th>\n",
              "      <th></th>\n",
              "      <th></th>\n",
              "      <th></th>\n",
              "    </tr>\n",
              "  </thead>\n",
              "  <tbody>\n",
              "    <tr>\n",
              "      <th rowspan=\"5\" valign=\"top\">Alabama</th>\n",
              "      <th>Autauga County</th>\n",
              "      <td>151</td>\n",
              "      <td>636</td>\n",
              "      <td>615</td>\n",
              "      <td>574</td>\n",
              "      <td>623</td>\n",
              "      <td>600</td>\n",
              "      <td>54660</td>\n",
              "      <td>55253</td>\n",
              "      <td>55175</td>\n",
              "      <td>55038</td>\n",
              "      <td>55290</td>\n",
              "      <td>55347</td>\n",
              "    </tr>\n",
              "    <tr>\n",
              "      <th>Baldwin County</th>\n",
              "      <td>517</td>\n",
              "      <td>2187</td>\n",
              "      <td>2092</td>\n",
              "      <td>2160</td>\n",
              "      <td>2186</td>\n",
              "      <td>2240</td>\n",
              "      <td>183193</td>\n",
              "      <td>186659</td>\n",
              "      <td>190396</td>\n",
              "      <td>195126</td>\n",
              "      <td>199713</td>\n",
              "      <td>203709</td>\n",
              "    </tr>\n",
              "    <tr>\n",
              "      <th>Barbour County</th>\n",
              "      <td>70</td>\n",
              "      <td>335</td>\n",
              "      <td>300</td>\n",
              "      <td>283</td>\n",
              "      <td>260</td>\n",
              "      <td>269</td>\n",
              "      <td>27341</td>\n",
              "      <td>27226</td>\n",
              "      <td>27159</td>\n",
              "      <td>26973</td>\n",
              "      <td>26815</td>\n",
              "      <td>26489</td>\n",
              "    </tr>\n",
              "    <tr>\n",
              "      <th>Bibb County</th>\n",
              "      <td>44</td>\n",
              "      <td>266</td>\n",
              "      <td>245</td>\n",
              "      <td>259</td>\n",
              "      <td>247</td>\n",
              "      <td>253</td>\n",
              "      <td>22861</td>\n",
              "      <td>22733</td>\n",
              "      <td>22642</td>\n",
              "      <td>22512</td>\n",
              "      <td>22549</td>\n",
              "      <td>22583</td>\n",
              "    </tr>\n",
              "    <tr>\n",
              "      <th>Blount County</th>\n",
              "      <td>183</td>\n",
              "      <td>744</td>\n",
              "      <td>710</td>\n",
              "      <td>646</td>\n",
              "      <td>618</td>\n",
              "      <td>603</td>\n",
              "      <td>57373</td>\n",
              "      <td>57711</td>\n",
              "      <td>57776</td>\n",
              "      <td>57734</td>\n",
              "      <td>57658</td>\n",
              "      <td>57673</td>\n",
              "    </tr>\n",
              "  </tbody>\n",
              "</table>\n",
              "</div>"
            ],
            "text/plain": [
              "                        BIRTHS2010  BIRTHS2011  BIRTHS2012  BIRTHS2013  \\\n",
              "STNAME  CTYNAME                                                          \n",
              "Alabama Autauga County         151         636         615         574   \n",
              "        Baldwin County         517        2187        2092        2160   \n",
              "        Barbour County          70         335         300         283   \n",
              "        Bibb County             44         266         245         259   \n",
              "        Blount County          183         744         710         646   \n",
              "\n",
              "                        BIRTHS2014  BIRTHS2015  POPESTIMATE2010  \\\n",
              "STNAME  CTYNAME                                                   \n",
              "Alabama Autauga County         623         600            54660   \n",
              "        Baldwin County        2186        2240           183193   \n",
              "        Barbour County         260         269            27341   \n",
              "        Bibb County            247         253            22861   \n",
              "        Blount County          618         603            57373   \n",
              "\n",
              "                        POPESTIMATE2011  POPESTIMATE2012  POPESTIMATE2013  \\\n",
              "STNAME  CTYNAME                                                             \n",
              "Alabama Autauga County            55253            55175            55038   \n",
              "        Baldwin County           186659           190396           195126   \n",
              "        Barbour County            27226            27159            26973   \n",
              "        Bibb County               22733            22642            22512   \n",
              "        Blount County             57711            57776            57734   \n",
              "\n",
              "                        POPESTIMATE2014  POPESTIMATE2015  \n",
              "STNAME  CTYNAME                                           \n",
              "Alabama Autauga County            55290            55347  \n",
              "        Baldwin County           199713           203709  \n",
              "        Barbour County            26815            26489  \n",
              "        Bibb County               22549            22583  \n",
              "        Blount County             57658            57673  "
            ]
          },
          "metadata": {
            "tags": []
          },
          "execution_count": 83
        }
      ]
    },
    {
      "metadata": {
        "id": "WdxvNHoTrfWA",
        "colab_type": "code",
        "colab": {
          "base_uri": "https://localhost:8080/",
          "height": 243
        },
        "outputId": "701721f6-2271-4ca1-ccc0-79720abb98da"
      },
      "cell_type": "code",
      "source": [
        "# hierarchical indices\n",
        "df.loc['Michigan', 'Washtenaw County']"
      ],
      "execution_count": 84,
      "outputs": [
        {
          "output_type": "execute_result",
          "data": {
            "text/plain": [
              "BIRTHS2010            977\n",
              "BIRTHS2011           3826\n",
              "BIRTHS2012           3780\n",
              "BIRTHS2013           3662\n",
              "BIRTHS2014           3683\n",
              "BIRTHS2015           3709\n",
              "POPESTIMATE2010    345563\n",
              "POPESTIMATE2011    349048\n",
              "POPESTIMATE2012    351213\n",
              "POPESTIMATE2013    354289\n",
              "POPESTIMATE2014    357029\n",
              "POPESTIMATE2015    358880\n",
              "Name: (Michigan, Washtenaw County), dtype: int64"
            ]
          },
          "metadata": {
            "tags": []
          },
          "execution_count": 84
        }
      ]
    },
    {
      "metadata": {
        "id": "nKNv57rqrfWB",
        "colab_type": "code",
        "colab": {
          "base_uri": "https://localhost:8080/",
          "height": 195
        },
        "outputId": "bc9af604-2364-4936-901c-21ab14990719"
      },
      "cell_type": "code",
      "source": [
        "df.loc[ [('Michigan', 'Washtenaw County'),\n",
        "         ('Michigan', 'Wayne County')] ]"
      ],
      "execution_count": 85,
      "outputs": [
        {
          "output_type": "execute_result",
          "data": {
            "text/html": [
              "<div>\n",
              "<style scoped>\n",
              "    .dataframe tbody tr th:only-of-type {\n",
              "        vertical-align: middle;\n",
              "    }\n",
              "\n",
              "    .dataframe tbody tr th {\n",
              "        vertical-align: top;\n",
              "    }\n",
              "\n",
              "    .dataframe thead th {\n",
              "        text-align: right;\n",
              "    }\n",
              "</style>\n",
              "<table border=\"1\" class=\"dataframe\">\n",
              "  <thead>\n",
              "    <tr style=\"text-align: right;\">\n",
              "      <th></th>\n",
              "      <th></th>\n",
              "      <th>BIRTHS2010</th>\n",
              "      <th>BIRTHS2011</th>\n",
              "      <th>BIRTHS2012</th>\n",
              "      <th>BIRTHS2013</th>\n",
              "      <th>BIRTHS2014</th>\n",
              "      <th>BIRTHS2015</th>\n",
              "      <th>POPESTIMATE2010</th>\n",
              "      <th>POPESTIMATE2011</th>\n",
              "      <th>POPESTIMATE2012</th>\n",
              "      <th>POPESTIMATE2013</th>\n",
              "      <th>POPESTIMATE2014</th>\n",
              "      <th>POPESTIMATE2015</th>\n",
              "    </tr>\n",
              "    <tr>\n",
              "      <th>STNAME</th>\n",
              "      <th>CTYNAME</th>\n",
              "      <th></th>\n",
              "      <th></th>\n",
              "      <th></th>\n",
              "      <th></th>\n",
              "      <th></th>\n",
              "      <th></th>\n",
              "      <th></th>\n",
              "      <th></th>\n",
              "      <th></th>\n",
              "      <th></th>\n",
              "      <th></th>\n",
              "      <th></th>\n",
              "    </tr>\n",
              "  </thead>\n",
              "  <tbody>\n",
              "    <tr>\n",
              "      <th rowspan=\"2\" valign=\"top\">Michigan</th>\n",
              "      <th>Washtenaw County</th>\n",
              "      <td>977</td>\n",
              "      <td>3826</td>\n",
              "      <td>3780</td>\n",
              "      <td>3662</td>\n",
              "      <td>3683</td>\n",
              "      <td>3709</td>\n",
              "      <td>345563</td>\n",
              "      <td>349048</td>\n",
              "      <td>351213</td>\n",
              "      <td>354289</td>\n",
              "      <td>357029</td>\n",
              "      <td>358880</td>\n",
              "    </tr>\n",
              "    <tr>\n",
              "      <th>Wayne County</th>\n",
              "      <td>5918</td>\n",
              "      <td>23819</td>\n",
              "      <td>23270</td>\n",
              "      <td>23377</td>\n",
              "      <td>23607</td>\n",
              "      <td>23586</td>\n",
              "      <td>1815199</td>\n",
              "      <td>1801273</td>\n",
              "      <td>1792514</td>\n",
              "      <td>1775713</td>\n",
              "      <td>1766008</td>\n",
              "      <td>1759335</td>\n",
              "    </tr>\n",
              "  </tbody>\n",
              "</table>\n",
              "</div>"
            ],
            "text/plain": [
              "                           BIRTHS2010  BIRTHS2011  BIRTHS2012  BIRTHS2013  \\\n",
              "STNAME   CTYNAME                                                            \n",
              "Michigan Washtenaw County         977        3826        3780        3662   \n",
              "         Wayne County            5918       23819       23270       23377   \n",
              "\n",
              "                           BIRTHS2014  BIRTHS2015  POPESTIMATE2010  \\\n",
              "STNAME   CTYNAME                                                     \n",
              "Michigan Washtenaw County        3683        3709           345563   \n",
              "         Wayne County           23607       23586          1815199   \n",
              "\n",
              "                           POPESTIMATE2011  POPESTIMATE2012  POPESTIMATE2013  \\\n",
              "STNAME   CTYNAME                                                               \n",
              "Michigan Washtenaw County           349048           351213           354289   \n",
              "         Wayne County              1801273          1792514          1775713   \n",
              "\n",
              "                           POPESTIMATE2014  POPESTIMATE2015  \n",
              "STNAME   CTYNAME                                             \n",
              "Michigan Washtenaw County           357029           358880  \n",
              "         Wayne County              1766008          1759335  "
            ]
          },
          "metadata": {
            "tags": []
          },
          "execution_count": 85
        }
      ]
    },
    {
      "metadata": {
        "id": "khX1vdKW-Vkb",
        "colab_type": "text"
      },
      "cell_type": "markdown",
      "source": [
        "Quiz: Reindex the purchase records DataFrame to be indexed hierarchically, first by store, then by person. Name these indexes 'Location' and 'Name'. Then add a new entry to it with the value of:\n",
        "\n",
        "Name: 'Kevyn', Item Purchased: 'Kitty Food', Cost: 3.00 Location: 'Store 2'."
      ]
    },
    {
      "metadata": {
        "id": "owiGX2SS-YfE",
        "colab_type": "code",
        "colab": {
          "base_uri": "https://localhost:8080/",
          "height": 445
        },
        "outputId": "3db0028c-3e4f-434e-e725-0230472976f4"
      },
      "cell_type": "code",
      "source": [
        "purchase_1 = pd.Series({'Name': 'Chris',\n",
        "                        'Item Purchased': 'Dog Food',\n",
        "                        'Cost': 22.50})\n",
        "purchase_2 = pd.Series({'Name': 'Kevyn',\n",
        "                        'Item Purchased': 'Kitty Litter',\n",
        "                        'Cost': 2.50})\n",
        "purchase_3 = pd.Series({'Name': 'Vinod',\n",
        "                        'Item Purchased': 'Bird Seed',\n",
        "                        'Cost': 5.00})\n",
        "\n",
        "df = pd.DataFrame([purchase_1, purchase_2, purchase_3], index=['Store 1', 'Store 1', 'Store 2'])\n",
        "\n",
        "\n",
        "# Your answer here\n",
        "print(df)\n",
        "df = df.set_index([df.index, 'Name'])\n",
        "print(df)\n",
        "df.index.names = ['Location', 'Name']\n",
        "print(df)\n",
        "df = df.append(pd.Series(data={'Cost': 3.00, 'Item Purchased': 'Kitty Food'}, name=('Store 2', 'Kevyn')))\n",
        "df\n"
      ],
      "execution_count": 93,
      "outputs": [
        {
          "output_type": "stream",
          "text": [
            "         Cost Item Purchased   Name\n",
            "Store 1  22.5       Dog Food  Chris\n",
            "Store 1   2.5   Kitty Litter  Kevyn\n",
            "Store 2   5.0      Bird Seed  Vinod\n",
            "               Cost Item Purchased\n",
            "        Name                      \n",
            "Store 1 Chris  22.5       Dog Food\n",
            "        Kevyn   2.5   Kitty Litter\n",
            "Store 2 Vinod   5.0      Bird Seed\n",
            "                Cost Item Purchased\n",
            "Location Name                      \n",
            "Store 1  Chris  22.5       Dog Food\n",
            "         Kevyn   2.5   Kitty Litter\n",
            "Store 2  Vinod   5.0      Bird Seed\n"
          ],
          "name": "stdout"
        },
        {
          "output_type": "execute_result",
          "data": {
            "text/html": [
              "<div>\n",
              "<style scoped>\n",
              "    .dataframe tbody tr th:only-of-type {\n",
              "        vertical-align: middle;\n",
              "    }\n",
              "\n",
              "    .dataframe tbody tr th {\n",
              "        vertical-align: top;\n",
              "    }\n",
              "\n",
              "    .dataframe thead th {\n",
              "        text-align: right;\n",
              "    }\n",
              "</style>\n",
              "<table border=\"1\" class=\"dataframe\">\n",
              "  <thead>\n",
              "    <tr style=\"text-align: right;\">\n",
              "      <th></th>\n",
              "      <th></th>\n",
              "      <th>Cost</th>\n",
              "      <th>Item Purchased</th>\n",
              "    </tr>\n",
              "    <tr>\n",
              "      <th>Location</th>\n",
              "      <th>Name</th>\n",
              "      <th></th>\n",
              "      <th></th>\n",
              "    </tr>\n",
              "  </thead>\n",
              "  <tbody>\n",
              "    <tr>\n",
              "      <th rowspan=\"2\" valign=\"top\">Store 1</th>\n",
              "      <th>Chris</th>\n",
              "      <td>22.5</td>\n",
              "      <td>Dog Food</td>\n",
              "    </tr>\n",
              "    <tr>\n",
              "      <th>Kevyn</th>\n",
              "      <td>2.5</td>\n",
              "      <td>Kitty Litter</td>\n",
              "    </tr>\n",
              "    <tr>\n",
              "      <th rowspan=\"2\" valign=\"top\">Store 2</th>\n",
              "      <th>Vinod</th>\n",
              "      <td>5.0</td>\n",
              "      <td>Bird Seed</td>\n",
              "    </tr>\n",
              "    <tr>\n",
              "      <th>Kevyn</th>\n",
              "      <td>3.0</td>\n",
              "      <td>Kitty Food</td>\n",
              "    </tr>\n",
              "  </tbody>\n",
              "</table>\n",
              "</div>"
            ],
            "text/plain": [
              "                Cost Item Purchased\n",
              "Location Name                      \n",
              "Store 1  Chris  22.5       Dog Food\n",
              "         Kevyn   2.5   Kitty Litter\n",
              "Store 2  Vinod   5.0      Bird Seed\n",
              "         Kevyn   3.0     Kitty Food"
            ]
          },
          "metadata": {
            "tags": []
          },
          "execution_count": 93
        }
      ]
    },
    {
      "metadata": {
        "id": "USY8R571rfWC",
        "colab_type": "text"
      },
      "cell_type": "markdown",
      "source": [
        "# Missing values"
      ]
    },
    {
      "metadata": {
        "id": "b4HhCPPirfWC",
        "colab_type": "code",
        "colab": {
          "base_uri": "https://localhost:8080/",
          "height": 202
        },
        "outputId": "28c6fc06-51ba-4e08-c26f-802d7d69874c"
      },
      "cell_type": "code",
      "source": [
        "df = pd.read_csv('log.csv')\n",
        "df.head()"
      ],
      "execution_count": 102,
      "outputs": [
        {
          "output_type": "execute_result",
          "data": {
            "text/html": [
              "<div>\n",
              "<style scoped>\n",
              "    .dataframe tbody tr th:only-of-type {\n",
              "        vertical-align: middle;\n",
              "    }\n",
              "\n",
              "    .dataframe tbody tr th {\n",
              "        vertical-align: top;\n",
              "    }\n",
              "\n",
              "    .dataframe thead th {\n",
              "        text-align: right;\n",
              "    }\n",
              "</style>\n",
              "<table border=\"1\" class=\"dataframe\">\n",
              "  <thead>\n",
              "    <tr style=\"text-align: right;\">\n",
              "      <th></th>\n",
              "      <th>time</th>\n",
              "      <th>user</th>\n",
              "      <th>video</th>\n",
              "      <th>playback position</th>\n",
              "      <th>paused</th>\n",
              "      <th>volume</th>\n",
              "    </tr>\n",
              "  </thead>\n",
              "  <tbody>\n",
              "    <tr>\n",
              "      <th>0</th>\n",
              "      <td>1469974424</td>\n",
              "      <td>cheryl</td>\n",
              "      <td>intro.html</td>\n",
              "      <td>5</td>\n",
              "      <td>False</td>\n",
              "      <td>10.0</td>\n",
              "    </tr>\n",
              "    <tr>\n",
              "      <th>1</th>\n",
              "      <td>1469974454</td>\n",
              "      <td>cheryl</td>\n",
              "      <td>intro.html</td>\n",
              "      <td>6</td>\n",
              "      <td>NaN</td>\n",
              "      <td>NaN</td>\n",
              "    </tr>\n",
              "    <tr>\n",
              "      <th>2</th>\n",
              "      <td>1469974544</td>\n",
              "      <td>cheryl</td>\n",
              "      <td>intro.html</td>\n",
              "      <td>9</td>\n",
              "      <td>NaN</td>\n",
              "      <td>NaN</td>\n",
              "    </tr>\n",
              "    <tr>\n",
              "      <th>3</th>\n",
              "      <td>1469974574</td>\n",
              "      <td>cheryl</td>\n",
              "      <td>intro.html</td>\n",
              "      <td>10</td>\n",
              "      <td>NaN</td>\n",
              "      <td>NaN</td>\n",
              "    </tr>\n",
              "    <tr>\n",
              "      <th>4</th>\n",
              "      <td>1469977514</td>\n",
              "      <td>bob</td>\n",
              "      <td>intro.html</td>\n",
              "      <td>1</td>\n",
              "      <td>NaN</td>\n",
              "      <td>NaN</td>\n",
              "    </tr>\n",
              "  </tbody>\n",
              "</table>\n",
              "</div>"
            ],
            "text/plain": [
              "         time    user       video  playback position paused  volume\n",
              "0  1469974424  cheryl  intro.html                  5  False    10.0\n",
              "1  1469974454  cheryl  intro.html                  6    NaN     NaN\n",
              "2  1469974544  cheryl  intro.html                  9    NaN     NaN\n",
              "3  1469974574  cheryl  intro.html                 10    NaN     NaN\n",
              "4  1469977514     bob  intro.html                  1    NaN     NaN"
            ]
          },
          "metadata": {
            "tags": []
          },
          "execution_count": 102
        }
      ]
    },
    {
      "metadata": {
        "id": "zsON6DSrrfWD",
        "colab_type": "code",
        "colab": {}
      },
      "cell_type": "code",
      "source": [
        "df.fillna?"
      ],
      "execution_count": 0,
      "outputs": []
    },
    {
      "metadata": {
        "id": "aG-ETdWsrfWG",
        "colab_type": "code",
        "colab": {
          "base_uri": "https://localhost:8080/",
          "height": 233
        },
        "outputId": "5a0f832b-25b7-4000-f18c-807b09ff19d1"
      },
      "cell_type": "code",
      "source": [
        "df = df.set_index('time')\n",
        "df = df.sort_index()\n",
        "df.head()"
      ],
      "execution_count": 103,
      "outputs": [
        {
          "output_type": "execute_result",
          "data": {
            "text/html": [
              "<div>\n",
              "<style scoped>\n",
              "    .dataframe tbody tr th:only-of-type {\n",
              "        vertical-align: middle;\n",
              "    }\n",
              "\n",
              "    .dataframe tbody tr th {\n",
              "        vertical-align: top;\n",
              "    }\n",
              "\n",
              "    .dataframe thead th {\n",
              "        text-align: right;\n",
              "    }\n",
              "</style>\n",
              "<table border=\"1\" class=\"dataframe\">\n",
              "  <thead>\n",
              "    <tr style=\"text-align: right;\">\n",
              "      <th></th>\n",
              "      <th>user</th>\n",
              "      <th>video</th>\n",
              "      <th>playback position</th>\n",
              "      <th>paused</th>\n",
              "      <th>volume</th>\n",
              "    </tr>\n",
              "    <tr>\n",
              "      <th>time</th>\n",
              "      <th></th>\n",
              "      <th></th>\n",
              "      <th></th>\n",
              "      <th></th>\n",
              "      <th></th>\n",
              "    </tr>\n",
              "  </thead>\n",
              "  <tbody>\n",
              "    <tr>\n",
              "      <th>1469974424</th>\n",
              "      <td>cheryl</td>\n",
              "      <td>intro.html</td>\n",
              "      <td>5</td>\n",
              "      <td>False</td>\n",
              "      <td>10.0</td>\n",
              "    </tr>\n",
              "    <tr>\n",
              "      <th>1469974424</th>\n",
              "      <td>sue</td>\n",
              "      <td>advanced.html</td>\n",
              "      <td>23</td>\n",
              "      <td>False</td>\n",
              "      <td>10.0</td>\n",
              "    </tr>\n",
              "    <tr>\n",
              "      <th>1469974454</th>\n",
              "      <td>cheryl</td>\n",
              "      <td>intro.html</td>\n",
              "      <td>6</td>\n",
              "      <td>NaN</td>\n",
              "      <td>NaN</td>\n",
              "    </tr>\n",
              "    <tr>\n",
              "      <th>1469974454</th>\n",
              "      <td>sue</td>\n",
              "      <td>advanced.html</td>\n",
              "      <td>24</td>\n",
              "      <td>NaN</td>\n",
              "      <td>NaN</td>\n",
              "    </tr>\n",
              "    <tr>\n",
              "      <th>1469974484</th>\n",
              "      <td>cheryl</td>\n",
              "      <td>intro.html</td>\n",
              "      <td>7</td>\n",
              "      <td>NaN</td>\n",
              "      <td>NaN</td>\n",
              "    </tr>\n",
              "  </tbody>\n",
              "</table>\n",
              "</div>"
            ],
            "text/plain": [
              "              user          video  playback position paused  volume\n",
              "time                                                               \n",
              "1469974424  cheryl     intro.html                  5  False    10.0\n",
              "1469974424     sue  advanced.html                 23  False    10.0\n",
              "1469974454  cheryl     intro.html                  6    NaN     NaN\n",
              "1469974454     sue  advanced.html                 24    NaN     NaN\n",
              "1469974484  cheryl     intro.html                  7    NaN     NaN"
            ]
          },
          "metadata": {
            "tags": []
          },
          "execution_count": 103
        }
      ]
    },
    {
      "metadata": {
        "id": "D2JwowAPrfWJ",
        "colab_type": "code",
        "colab": {
          "base_uri": "https://localhost:8080/",
          "height": 233
        },
        "outputId": "e9b145f3-bc8a-4a54-aa5c-a073dbbde45e"
      },
      "cell_type": "code",
      "source": [
        "df = df.reset_index()\n",
        "df = df.set_index(['time', 'user'])\n",
        "df.head()"
      ],
      "execution_count": 105,
      "outputs": [
        {
          "output_type": "execute_result",
          "data": {
            "text/html": [
              "<div>\n",
              "<style scoped>\n",
              "    .dataframe tbody tr th:only-of-type {\n",
              "        vertical-align: middle;\n",
              "    }\n",
              "\n",
              "    .dataframe tbody tr th {\n",
              "        vertical-align: top;\n",
              "    }\n",
              "\n",
              "    .dataframe thead th {\n",
              "        text-align: right;\n",
              "    }\n",
              "</style>\n",
              "<table border=\"1\" class=\"dataframe\">\n",
              "  <thead>\n",
              "    <tr style=\"text-align: right;\">\n",
              "      <th></th>\n",
              "      <th></th>\n",
              "      <th>video</th>\n",
              "      <th>playback position</th>\n",
              "      <th>paused</th>\n",
              "      <th>volume</th>\n",
              "    </tr>\n",
              "    <tr>\n",
              "      <th>time</th>\n",
              "      <th>user</th>\n",
              "      <th></th>\n",
              "      <th></th>\n",
              "      <th></th>\n",
              "      <th></th>\n",
              "    </tr>\n",
              "  </thead>\n",
              "  <tbody>\n",
              "    <tr>\n",
              "      <th rowspan=\"2\" valign=\"top\">1469974424</th>\n",
              "      <th>cheryl</th>\n",
              "      <td>intro.html</td>\n",
              "      <td>5</td>\n",
              "      <td>False</td>\n",
              "      <td>10.0</td>\n",
              "    </tr>\n",
              "    <tr>\n",
              "      <th>sue</th>\n",
              "      <td>advanced.html</td>\n",
              "      <td>23</td>\n",
              "      <td>False</td>\n",
              "      <td>10.0</td>\n",
              "    </tr>\n",
              "    <tr>\n",
              "      <th rowspan=\"2\" valign=\"top\">1469974454</th>\n",
              "      <th>cheryl</th>\n",
              "      <td>intro.html</td>\n",
              "      <td>6</td>\n",
              "      <td>NaN</td>\n",
              "      <td>NaN</td>\n",
              "    </tr>\n",
              "    <tr>\n",
              "      <th>sue</th>\n",
              "      <td>advanced.html</td>\n",
              "      <td>24</td>\n",
              "      <td>NaN</td>\n",
              "      <td>NaN</td>\n",
              "    </tr>\n",
              "    <tr>\n",
              "      <th>1469974484</th>\n",
              "      <th>cheryl</th>\n",
              "      <td>intro.html</td>\n",
              "      <td>7</td>\n",
              "      <td>NaN</td>\n",
              "      <td>NaN</td>\n",
              "    </tr>\n",
              "  </tbody>\n",
              "</table>\n",
              "</div>"
            ],
            "text/plain": [
              "                           video  playback position paused  volume\n",
              "time       user                                                   \n",
              "1469974424 cheryl     intro.html                  5  False    10.0\n",
              "           sue     advanced.html                 23  False    10.0\n",
              "1469974454 cheryl     intro.html                  6    NaN     NaN\n",
              "           sue     advanced.html                 24    NaN     NaN\n",
              "1469974484 cheryl     intro.html                  7    NaN     NaN"
            ]
          },
          "metadata": {
            "tags": []
          },
          "execution_count": 105
        }
      ]
    },
    {
      "metadata": {
        "id": "fB_CuGiVrfWL",
        "colab_type": "code",
        "colab": {
          "base_uri": "https://localhost:8080/",
          "height": 233
        },
        "outputId": "0d27a6bb-acd9-4117-ff4d-bb55e1282ef7"
      },
      "cell_type": "code",
      "source": [
        "# Fill Nan value automatically\n",
        "df = df.fillna(method='ffill')\n",
        "df.head()"
      ],
      "execution_count": 106,
      "outputs": [
        {
          "output_type": "execute_result",
          "data": {
            "text/html": [
              "<div>\n",
              "<style scoped>\n",
              "    .dataframe tbody tr th:only-of-type {\n",
              "        vertical-align: middle;\n",
              "    }\n",
              "\n",
              "    .dataframe tbody tr th {\n",
              "        vertical-align: top;\n",
              "    }\n",
              "\n",
              "    .dataframe thead th {\n",
              "        text-align: right;\n",
              "    }\n",
              "</style>\n",
              "<table border=\"1\" class=\"dataframe\">\n",
              "  <thead>\n",
              "    <tr style=\"text-align: right;\">\n",
              "      <th></th>\n",
              "      <th></th>\n",
              "      <th>video</th>\n",
              "      <th>playback position</th>\n",
              "      <th>paused</th>\n",
              "      <th>volume</th>\n",
              "    </tr>\n",
              "    <tr>\n",
              "      <th>time</th>\n",
              "      <th>user</th>\n",
              "      <th></th>\n",
              "      <th></th>\n",
              "      <th></th>\n",
              "      <th></th>\n",
              "    </tr>\n",
              "  </thead>\n",
              "  <tbody>\n",
              "    <tr>\n",
              "      <th rowspan=\"2\" valign=\"top\">1469974424</th>\n",
              "      <th>cheryl</th>\n",
              "      <td>intro.html</td>\n",
              "      <td>5</td>\n",
              "      <td>False</td>\n",
              "      <td>10.0</td>\n",
              "    </tr>\n",
              "    <tr>\n",
              "      <th>sue</th>\n",
              "      <td>advanced.html</td>\n",
              "      <td>23</td>\n",
              "      <td>False</td>\n",
              "      <td>10.0</td>\n",
              "    </tr>\n",
              "    <tr>\n",
              "      <th rowspan=\"2\" valign=\"top\">1469974454</th>\n",
              "      <th>cheryl</th>\n",
              "      <td>intro.html</td>\n",
              "      <td>6</td>\n",
              "      <td>False</td>\n",
              "      <td>10.0</td>\n",
              "    </tr>\n",
              "    <tr>\n",
              "      <th>sue</th>\n",
              "      <td>advanced.html</td>\n",
              "      <td>24</td>\n",
              "      <td>False</td>\n",
              "      <td>10.0</td>\n",
              "    </tr>\n",
              "    <tr>\n",
              "      <th>1469974484</th>\n",
              "      <th>cheryl</th>\n",
              "      <td>intro.html</td>\n",
              "      <td>7</td>\n",
              "      <td>False</td>\n",
              "      <td>10.0</td>\n",
              "    </tr>\n",
              "  </tbody>\n",
              "</table>\n",
              "</div>"
            ],
            "text/plain": [
              "                           video  playback position  paused  volume\n",
              "time       user                                                    \n",
              "1469974424 cheryl     intro.html                  5   False    10.0\n",
              "           sue     advanced.html                 23   False    10.0\n",
              "1469974454 cheryl     intro.html                  6   False    10.0\n",
              "           sue     advanced.html                 24   False    10.0\n",
              "1469974484 cheryl     intro.html                  7   False    10.0"
            ]
          },
          "metadata": {
            "tags": []
          },
          "execution_count": 106
        }
      ]
    }
  ]
}