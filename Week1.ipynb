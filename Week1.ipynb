{
  "nbformat": 4,
  "nbformat_minor": 0,
  "metadata": {
    "colab": {
      "name": "Week1.ipynb",
      "version": "0.3.2",
      "provenance": [],
      "collapsed_sections": [
        "oUup25tbjMCh",
        "eP-UfuOsjMCv",
        "8Dv4i43MjMDL",
        "dU7ti_EYjMDa",
        "U19-wbxsjMDl",
        "MZAFBIBLjMDx",
        "fJMjUR_3jMDx",
        "dk75QPJrjMEK",
        "kkJeZ2grjMEO",
        "MFDlli2ujMEi",
        "H4ir75r9jME0",
        "4XXomadJjMFG",
        "rJ1aZAL7jMFM"
      ],
      "include_colab_link": true
    },
    "kernelspec": {
      "name": "python3",
      "display_name": "Python 3"
    },
    "accelerator": "GPU"
  },
  "cells": [
    {
      "cell_type": "markdown",
      "metadata": {
        "id": "view-in-github",
        "colab_type": "text"
      },
      "source": [
        "<a href=\"https://colab.research.google.com/github/prodigyxiao/Coursera_Intro-to-DS-in-Py/blob/master/Week1.ipynb\" target=\"_parent\"><img src=\"https://colab.research.google.com/assets/colab-badge.svg\" alt=\"Open In Colab\"/></a>"
      ]
    },
    {
      "metadata": {
        "id": "bamZmLy4jMA1",
        "colab_type": "text"
      },
      "cell_type": "markdown",
      "source": [
        "---\n",
        "**Coursera:** Introduction to Data Science in Python -- University of Michigan\n",
        "\n",
        "\n",
        "\n",
        "_You are currently looking at **version 1.1** of this notebook. To download notebooks and datafiles, as well as get help on Jupyter notebooks in the Coursera platform, visit the [Jupyter Notebook FAQ](https://www.coursera.org/learn/python-data-analysis/resources/0dhYG) course resource._\n",
        "\n",
        "---"
      ]
    },
    {
      "metadata": {
        "id": "VCHIApCzjMA3",
        "colab_type": "text"
      },
      "cell_type": "markdown",
      "source": [
        "# The Python Programming Language: Functions"
      ]
    },
    {
      "metadata": {
        "id": "Lb9o9OPijMA4",
        "colab_type": "text"
      },
      "cell_type": "markdown",
      "source": [
        "<br>\n",
        "`add_numbers` is a function that takes two numbers and adds them together."
      ]
    },
    {
      "metadata": {
        "scrolled": true,
        "id": "QVmQcYjxjMA5",
        "colab_type": "code",
        "colab": {},
        "outputId": "b41f8fa6-7a7e-4f37-d45e-d019d305b823"
      },
      "cell_type": "code",
      "source": [
        "def add_numbers(x, y):\n",
        "    return x + y\n",
        "\n",
        "add_numbers(1, 2)"
      ],
      "execution_count": 0,
      "outputs": [
        {
          "output_type": "execute_result",
          "data": {
            "text/plain": [
              "3"
            ]
          },
          "metadata": {
            "tags": []
          },
          "execution_count": 1
        }
      ]
    },
    {
      "metadata": {
        "id": "Ltgbs9_5jMA-",
        "colab_type": "text"
      },
      "cell_type": "markdown",
      "source": [
        "`add_numbers` updated to take an optional 3rd parameter. Using `print` allows printing of multiple expressions within a single cell."
      ]
    },
    {
      "metadata": {
        "id": "AQUyXfvajMA-",
        "colab_type": "code",
        "colab": {},
        "outputId": "fd79b306-0274-4c03-f65e-e2fb9d3e851a"
      },
      "cell_type": "code",
      "source": [
        "def add_numbers(x,y,z=None):\n",
        "    if (z==None):\n",
        "        return x+y\n",
        "    else:\n",
        "        return x+y+z\n",
        "\n",
        "print(add_numbers(1, 2))\n",
        "print(add_numbers(1, 2, 3))"
      ],
      "execution_count": 0,
      "outputs": [
        {
          "output_type": "stream",
          "text": [
            "3\n",
            "6\n"
          ],
          "name": "stdout"
        }
      ]
    },
    {
      "metadata": {
        "id": "cyquQfgcjMBB",
        "colab_type": "text"
      },
      "cell_type": "markdown",
      "source": [
        "<br>\n",
        "`add_numbers` updated to take an optional flag parameter."
      ]
    },
    {
      "metadata": {
        "id": "T1o4RUlqjMBC",
        "colab_type": "code",
        "colab": {},
        "outputId": "f87d7d22-ac9c-4721-d4ef-8d22237a1eda"
      },
      "cell_type": "code",
      "source": [
        "def add_numbers(x, y, z=None, flag=False):\n",
        "    if (flag):\n",
        "        print('Flag is true!')\n",
        "    if (z==None):\n",
        "        return x + y\n",
        "    else:\n",
        "        return x + y + z\n",
        "    \n",
        "print(add_numbers(1, 2, flag=True))"
      ],
      "execution_count": 0,
      "outputs": [
        {
          "output_type": "stream",
          "text": [
            "Flag is true!\n",
            "3\n"
          ],
          "name": "stdout"
        }
      ]
    },
    {
      "metadata": {
        "id": "tog0UrK8jMBF",
        "colab_type": "text"
      },
      "cell_type": "markdown",
      "source": [
        "<br>\n",
        "Assign function `add_numbers` to variable `a`."
      ]
    },
    {
      "metadata": {
        "id": "oXbWqU9xjMBG",
        "colab_type": "code",
        "colab": {},
        "outputId": "e4987493-e7c6-41f7-b0a6-68eb7e8428af"
      },
      "cell_type": "code",
      "source": [
        "def add_numbers(x,y):\n",
        "    return x+y\n",
        "\n",
        "a = add_numbers\n",
        "a(1,2)"
      ],
      "execution_count": 0,
      "outputs": [
        {
          "output_type": "execute_result",
          "data": {
            "text/plain": [
              "3"
            ]
          },
          "metadata": {
            "tags": []
          },
          "execution_count": 4
        }
      ]
    },
    {
      "metadata": {
        "id": "G6gyRtHBjMBI",
        "colab_type": "text"
      },
      "cell_type": "markdown",
      "source": [
        "# The Python Programming Language: Types and Sequences"
      ]
    },
    {
      "metadata": {
        "id": "K31kWOIrjMBJ",
        "colab_type": "text"
      },
      "cell_type": "markdown",
      "source": [
        "Use `type` to return the object's type."
      ]
    },
    {
      "metadata": {
        "id": "OdL3Ct3TjMBJ",
        "colab_type": "code",
        "colab": {},
        "outputId": "f2e8bc61-daf0-4f3c-bea2-31e794fac810"
      },
      "cell_type": "code",
      "source": [
        "type('This is a string')"
      ],
      "execution_count": 0,
      "outputs": [
        {
          "output_type": "execute_result",
          "data": {
            "text/plain": [
              "str"
            ]
          },
          "metadata": {
            "tags": []
          },
          "execution_count": 5
        }
      ]
    },
    {
      "metadata": {
        "id": "UX8z9x6sjMBN",
        "colab_type": "code",
        "colab": {},
        "outputId": "8717a29c-52be-4768-c67b-a2660e59c3e7"
      },
      "cell_type": "code",
      "source": [
        "type(None)"
      ],
      "execution_count": 0,
      "outputs": [
        {
          "output_type": "execute_result",
          "data": {
            "text/plain": [
              "NoneType"
            ]
          },
          "metadata": {
            "tags": []
          },
          "execution_count": 6
        }
      ]
    },
    {
      "metadata": {
        "id": "D3h5orbRjMBQ",
        "colab_type": "code",
        "colab": {},
        "outputId": "b4b1b950-e143-4688-ebc8-f4cb276d097a"
      },
      "cell_type": "code",
      "source": [
        "type(1)"
      ],
      "execution_count": 0,
      "outputs": [
        {
          "output_type": "execute_result",
          "data": {
            "text/plain": [
              "int"
            ]
          },
          "metadata": {
            "tags": []
          },
          "execution_count": 7
        }
      ]
    },
    {
      "metadata": {
        "id": "2cnn3M0qjMBT",
        "colab_type": "code",
        "colab": {},
        "outputId": "39bb553b-b300-4222-edeb-eadf774bd39d"
      },
      "cell_type": "code",
      "source": [
        "type(1.0)"
      ],
      "execution_count": 0,
      "outputs": [
        {
          "output_type": "execute_result",
          "data": {
            "text/plain": [
              "float"
            ]
          },
          "metadata": {
            "tags": []
          },
          "execution_count": 8
        }
      ]
    },
    {
      "metadata": {
        "id": "FM-8X08ZjMBV",
        "colab_type": "code",
        "colab": {},
        "outputId": "9215f367-8b7f-4c49-d6cb-a98cb92a576d"
      },
      "cell_type": "code",
      "source": [
        "type(add_numbers)"
      ],
      "execution_count": 0,
      "outputs": [
        {
          "output_type": "execute_result",
          "data": {
            "text/plain": [
              "function"
            ]
          },
          "metadata": {
            "tags": []
          },
          "execution_count": 9
        }
      ]
    },
    {
      "metadata": {
        "id": "hpsykDG6jMBY",
        "colab_type": "text"
      },
      "cell_type": "markdown",
      "source": [
        "<br>\n",
        "Tuples are an immutable data structure (cannot be altered)."
      ]
    },
    {
      "metadata": {
        "id": "8oYfXgtqjMBY",
        "colab_type": "code",
        "colab": {},
        "outputId": "1b334670-12ed-49ac-b641-4677abc755f2"
      },
      "cell_type": "code",
      "source": [
        "x = (1, 'a', 2, 'b')\n",
        "type(x)"
      ],
      "execution_count": 0,
      "outputs": [
        {
          "output_type": "execute_result",
          "data": {
            "text/plain": [
              "tuple"
            ]
          },
          "metadata": {
            "tags": []
          },
          "execution_count": 2
        }
      ]
    },
    {
      "metadata": {
        "id": "9WsSmhaSjMBd",
        "colab_type": "text"
      },
      "cell_type": "markdown",
      "source": [
        "<br>\n",
        "Lists are a mutable data structure."
      ]
    },
    {
      "metadata": {
        "id": "H7djK0SajMBd",
        "colab_type": "code",
        "colab": {},
        "outputId": "52ff47dc-fdc9-4dda-fad3-a575f9c1f35f"
      },
      "cell_type": "code",
      "source": [
        "y = [1, 'a', 2, 'b']\n",
        "type(y)"
      ],
      "execution_count": 0,
      "outputs": [
        {
          "output_type": "execute_result",
          "data": {
            "text/plain": [
              "list"
            ]
          },
          "metadata": {
            "tags": []
          },
          "execution_count": 4
        }
      ]
    },
    {
      "metadata": {
        "id": "KIudkb72jMBh",
        "colab_type": "text"
      },
      "cell_type": "markdown",
      "source": [
        "<br>\n",
        "Use `append` to append an object to a list."
      ]
    },
    {
      "metadata": {
        "id": "ygCtfr41jMBi",
        "colab_type": "code",
        "colab": {},
        "outputId": "86a433cb-c69b-412f-8fd7-2c981030b034"
      },
      "cell_type": "code",
      "source": [
        "y.append(3.3)\n",
        "print(y)"
      ],
      "execution_count": 0,
      "outputs": [
        {
          "output_type": "stream",
          "text": [
            "[1, 'a', 2, 'b', 3.3]\n"
          ],
          "name": "stdout"
        }
      ]
    },
    {
      "metadata": {
        "id": "yJ5nDeYpjMBm",
        "colab_type": "text"
      },
      "cell_type": "markdown",
      "source": [
        "<br>\n",
        "This is an example of how to loop through each item in the list."
      ]
    },
    {
      "metadata": {
        "id": "G06bQlzjjMBm",
        "colab_type": "code",
        "colab": {},
        "outputId": "e0fbb3db-b407-49ec-8709-f1639f499fd5"
      },
      "cell_type": "code",
      "source": [
        "for item in y:\n",
        "    print(item)"
      ],
      "execution_count": 0,
      "outputs": [
        {
          "output_type": "stream",
          "text": [
            "1\n",
            "a\n",
            "2\n",
            "b\n",
            "3.3\n"
          ],
          "name": "stdout"
        }
      ]
    },
    {
      "metadata": {
        "id": "tM_jg6RIjMBr",
        "colab_type": "text"
      },
      "cell_type": "markdown",
      "source": [
        "<br>\n",
        "Or using the indexing operator:"
      ]
    },
    {
      "metadata": {
        "id": "QL_OATDCjMBr",
        "colab_type": "code",
        "colab": {},
        "outputId": "85103350-013f-408b-ed21-5698c082fe34"
      },
      "cell_type": "code",
      "source": [
        "i=0\n",
        "while( i != len(y) ):\n",
        "    print(y[i])\n",
        "    i = i + 1"
      ],
      "execution_count": 0,
      "outputs": [
        {
          "output_type": "stream",
          "text": [
            "1\n",
            "a\n",
            "2\n",
            "b\n",
            "3.3\n"
          ],
          "name": "stdout"
        }
      ]
    },
    {
      "metadata": {
        "id": "aZ34qMH2jMBu",
        "colab_type": "text"
      },
      "cell_type": "markdown",
      "source": [
        "<br>\n",
        "Use `+` to concatenate lists."
      ]
    },
    {
      "metadata": {
        "id": "59d4jil8jMBu",
        "colab_type": "code",
        "colab": {
          "base_uri": "https://localhost:8080/",
          "height": 35
        },
        "outputId": "f9cb41cd-bbc1-46e1-fecc-1774a1972ea7"
      },
      "cell_type": "code",
      "source": [
        "[1,2] + [3,4]"
      ],
      "execution_count": 4,
      "outputs": [
        {
          "output_type": "execute_result",
          "data": {
            "text/plain": [
              "[1, 2, 3, 4]"
            ]
          },
          "metadata": {
            "tags": []
          },
          "execution_count": 4
        }
      ]
    },
    {
      "metadata": {
        "id": "qYLTwA7LjMBw",
        "colab_type": "text"
      },
      "cell_type": "markdown",
      "source": [
        "<br>\n",
        "Use `*` to repeat lists."
      ]
    },
    {
      "metadata": {
        "id": "Il_xI_i0jMBx",
        "colab_type": "code",
        "colab": {
          "base_uri": "https://localhost:8080/",
          "height": 35
        },
        "outputId": "686106fb-6f86-48b9-a4c8-db22d7d4c830"
      },
      "cell_type": "code",
      "source": [
        "[1]*3"
      ],
      "execution_count": 3,
      "outputs": [
        {
          "output_type": "execute_result",
          "data": {
            "text/plain": [
              "[1, 1, 1]"
            ]
          },
          "metadata": {
            "tags": []
          },
          "execution_count": 3
        }
      ]
    },
    {
      "metadata": {
        "id": "R_D5WClAjMBz",
        "colab_type": "text"
      },
      "cell_type": "markdown",
      "source": [
        "<br>\n",
        "Use the `in` operator to check if something is inside a list."
      ]
    },
    {
      "metadata": {
        "id": "MDd-GFjPjMBz",
        "colab_type": "code",
        "colab": {
          "base_uri": "https://localhost:8080/",
          "height": 35
        },
        "outputId": "422030d9-1c7f-4b8b-8331-c8255425ec31"
      },
      "cell_type": "code",
      "source": [
        "1 in [1, 2, 3]"
      ],
      "execution_count": 2,
      "outputs": [
        {
          "output_type": "execute_result",
          "data": {
            "text/plain": [
              "True"
            ]
          },
          "metadata": {
            "tags": []
          },
          "execution_count": 2
        }
      ]
    },
    {
      "metadata": {
        "id": "iete2Af4jMB1",
        "colab_type": "text"
      },
      "cell_type": "markdown",
      "source": [
        "<br>\n",
        "Now let's look at strings. Use bracket notation to slice a string."
      ]
    },
    {
      "metadata": {
        "id": "pJiD9eJYjMB2",
        "colab_type": "code",
        "colab": {
          "base_uri": "https://localhost:8080/",
          "height": 69
        },
        "outputId": "568c36ba-e378-45fa-a870-4dc9b0d6414f"
      },
      "cell_type": "code",
      "source": [
        "x = 'This is a string'\n",
        "print(x[0]) #first character\n",
        "print(x[0:1]) #first character, but we have explicitly set the end character\n",
        "print(x[0:2]) #first two characters\n"
      ],
      "execution_count": 1,
      "outputs": [
        {
          "output_type": "stream",
          "text": [
            "T\n",
            "T\n",
            "Th\n"
          ],
          "name": "stdout"
        }
      ]
    },
    {
      "metadata": {
        "id": "6pib6P_SjMB4",
        "colab_type": "text"
      },
      "cell_type": "markdown",
      "source": [
        "This will return the last element of the string."
      ]
    },
    {
      "metadata": {
        "id": "4Zdn7W4UjMB5",
        "colab_type": "code",
        "colab": {
          "base_uri": "https://localhost:8080/",
          "height": 35
        },
        "outputId": "577112cf-71c4-4315-a513-14aa3572c08d"
      },
      "cell_type": "code",
      "source": [
        "x[-1]"
      ],
      "execution_count": 5,
      "outputs": [
        {
          "output_type": "execute_result",
          "data": {
            "text/plain": [
              "'g'"
            ]
          },
          "metadata": {
            "tags": []
          },
          "execution_count": 5
        }
      ]
    },
    {
      "metadata": {
        "id": "w9Zdl3nKjMB7",
        "colab_type": "text"
      },
      "cell_type": "markdown",
      "source": [
        "This will return the slice starting from the 4th element from the end and stopping before the 2nd element from the end."
      ]
    },
    {
      "metadata": {
        "id": "VE8XSa4MjMB7",
        "colab_type": "code",
        "colab": {
          "base_uri": "https://localhost:8080/",
          "height": 35
        },
        "outputId": "0ab22ef9-56c3-4963-bbd0-d6f8baafc440"
      },
      "cell_type": "code",
      "source": [
        "x[-4:-2]"
      ],
      "execution_count": 6,
      "outputs": [
        {
          "output_type": "execute_result",
          "data": {
            "text/plain": [
              "'ri'"
            ]
          },
          "metadata": {
            "tags": []
          },
          "execution_count": 6
        }
      ]
    },
    {
      "metadata": {
        "id": "Sj5bpVlrjMB9",
        "colab_type": "text"
      },
      "cell_type": "markdown",
      "source": [
        "<br>\n",
        "This is a slice from the beginning of the string and stopping before the 3rd element."
      ]
    },
    {
      "metadata": {
        "id": "q4Cv-2N1jMB9",
        "colab_type": "code",
        "colab": {
          "base_uri": "https://localhost:8080/",
          "height": 35
        },
        "outputId": "ee54dcc8-a478-471e-b1c6-b6b30c0df405"
      },
      "cell_type": "code",
      "source": [
        "x[:3]"
      ],
      "execution_count": 7,
      "outputs": [
        {
          "output_type": "execute_result",
          "data": {
            "text/plain": [
              "'Thi'"
            ]
          },
          "metadata": {
            "tags": []
          },
          "execution_count": 7
        }
      ]
    },
    {
      "metadata": {
        "id": "z2CTdc0VjMCA",
        "colab_type": "text"
      },
      "cell_type": "markdown",
      "source": [
        "<br>\n",
        "And this is a slice starting from the 4th element of the string and going all the way to the end."
      ]
    },
    {
      "metadata": {
        "id": "lZ3wnkVBjMCB",
        "colab_type": "code",
        "colab": {
          "base_uri": "https://localhost:8080/",
          "height": 35
        },
        "outputId": "2352a9f9-06b6-43b5-fc95-d03ea855598f"
      },
      "cell_type": "code",
      "source": [
        "x[3:]"
      ],
      "execution_count": 8,
      "outputs": [
        {
          "output_type": "execute_result",
          "data": {
            "text/plain": [
              "'s is a string'"
            ]
          },
          "metadata": {
            "tags": []
          },
          "execution_count": 8
        }
      ]
    },
    {
      "metadata": {
        "id": "GZVyqCyLjMCC",
        "colab_type": "code",
        "colab": {
          "base_uri": "https://localhost:8080/",
          "height": 69
        },
        "outputId": "3b79850f-1ad7-4626-b31b-2e190ef99182"
      },
      "cell_type": "code",
      "source": [
        "firstname = 'Christopher'\n",
        "lastname = 'Brooks'\n",
        "\n",
        "print(firstname + ' ' + lastname)\n",
        "print(firstname*3)\n",
        "print('Chris' in firstname)\n"
      ],
      "execution_count": 9,
      "outputs": [
        {
          "output_type": "stream",
          "text": [
            "Christopher Brooks\n",
            "ChristopherChristopherChristopher\n",
            "True\n"
          ],
          "name": "stdout"
        }
      ]
    },
    {
      "metadata": {
        "id": "s0lEEG2OjMCF",
        "colab_type": "text"
      },
      "cell_type": "markdown",
      "source": [
        "<br>\n",
        "`split` returns a list of all the words in a string, or a list split on a specific character."
      ]
    },
    {
      "metadata": {
        "id": "rl7HYTvIjMCF",
        "colab_type": "code",
        "colab": {
          "base_uri": "https://localhost:8080/",
          "height": 52
        },
        "outputId": "19fcd6ef-4fd6-42a3-ae0a-f4cb12b2ddaf"
      },
      "cell_type": "code",
      "source": [
        "firstname = 'Christopher Arthur Hansen Brooks'.split(' ')[0] # [0] selects the first element of the list\n",
        "lastname = 'Christopher Arthur Hansen Brooks'.split(' ')[-1] # [-1] selects the last element of the list\n",
        "print(firstname)\n",
        "print(lastname)"
      ],
      "execution_count": 10,
      "outputs": [
        {
          "output_type": "stream",
          "text": [
            "Christopher\n",
            "Brooks\n"
          ],
          "name": "stdout"
        }
      ]
    },
    {
      "metadata": {
        "id": "HdaZonnbjMCH",
        "colab_type": "text"
      },
      "cell_type": "markdown",
      "source": [
        "<br>\n",
        "Make sure you convert objects to strings before concatenating."
      ]
    },
    {
      "metadata": {
        "id": "l1NBryIrjMCH",
        "colab_type": "code",
        "colab": {
          "base_uri": "https://localhost:8080/",
          "height": 186
        },
        "outputId": "be7751d1-edca-4bdc-fe4a-33cd36e3b2e6"
      },
      "cell_type": "code",
      "source": [
        "'Chris' + 2"
      ],
      "execution_count": 11,
      "outputs": [
        {
          "output_type": "error",
          "ename": "TypeError",
          "evalue": "ignored",
          "traceback": [
            "\u001b[0;31m---------------------------------------------------------------------------\u001b[0m",
            "\u001b[0;31mTypeError\u001b[0m                                 Traceback (most recent call last)",
            "\u001b[0;32m<ipython-input-11-9d01956b24db>\u001b[0m in \u001b[0;36m<module>\u001b[0;34m()\u001b[0m\n\u001b[0;32m----> 1\u001b[0;31m \u001b[0;34m'Chris'\u001b[0m \u001b[0;34m+\u001b[0m \u001b[0;36m2\u001b[0m\u001b[0;34m\u001b[0m\u001b[0;34m\u001b[0m\u001b[0m\n\u001b[0m",
            "\u001b[0;31mTypeError\u001b[0m: must be str, not int"
          ]
        }
      ]
    },
    {
      "metadata": {
        "id": "LXjw4HbEjMCK",
        "colab_type": "code",
        "colab": {
          "base_uri": "https://localhost:8080/",
          "height": 35
        },
        "outputId": "043c8c13-c531-462f-dc77-840a2d958148"
      },
      "cell_type": "code",
      "source": [
        "'Chris' + str(2)"
      ],
      "execution_count": 12,
      "outputs": [
        {
          "output_type": "execute_result",
          "data": {
            "text/plain": [
              "'Chris2'"
            ]
          },
          "metadata": {
            "tags": []
          },
          "execution_count": 12
        }
      ]
    },
    {
      "metadata": {
        "id": "FY8wgBCKjMCL",
        "colab_type": "text"
      },
      "cell_type": "markdown",
      "source": [
        "<br>\n",
        "Dictionaries associate keys with values."
      ]
    },
    {
      "metadata": {
        "id": "unQj5fOvjMCL",
        "colab_type": "code",
        "colab": {
          "base_uri": "https://localhost:8080/",
          "height": 35
        },
        "outputId": "1e299d3e-fdbe-4aa4-ccfd-f9edc22d745b"
      },
      "cell_type": "code",
      "source": [
        "x = {'Christopher Brooks': 'brooksch@umich.edu', 'Bill Gates': 'billg@microsoft.com'}\n",
        "x['Christopher Brooks'] # Retrieve a value by using the indexing operator\n"
      ],
      "execution_count": 3,
      "outputs": [
        {
          "output_type": "execute_result",
          "data": {
            "text/plain": [
              "'brooksch@umich.edu'"
            ]
          },
          "metadata": {
            "tags": []
          },
          "execution_count": 3
        }
      ]
    },
    {
      "metadata": {
        "id": "14W7_OlnjMCN",
        "colab_type": "code",
        "colab": {}
      },
      "cell_type": "code",
      "source": [
        "x['Kevyn Collins-Thompson'] = None\n",
        "x['Kevyn Collins-Thompson']"
      ],
      "execution_count": 0,
      "outputs": []
    },
    {
      "metadata": {
        "id": "GoWNHjtZjMCS",
        "colab_type": "text"
      },
      "cell_type": "markdown",
      "source": [
        "<br>\n",
        "Iterate over all of the keys:"
      ]
    },
    {
      "metadata": {
        "scrolled": true,
        "id": "eGUg0jkpjMCT",
        "colab_type": "code",
        "colab": {
          "base_uri": "https://localhost:8080/",
          "height": 121
        },
        "outputId": "edceda46-64f7-439e-e64e-2d2dad46ff08"
      },
      "cell_type": "code",
      "source": [
        "for name in x:\n",
        "    print(name +': '+ str(x[name]))\n",
        "    print(x[name])"
      ],
      "execution_count": 5,
      "outputs": [
        {
          "output_type": "stream",
          "text": [
            "Christopher Brooks: brooksch@umich.edu\n",
            "brooksch@umich.edu\n",
            "Bill Gates: billg@microsoft.com\n",
            "billg@microsoft.com\n",
            "Kevyn Collins-Thompson: None\n",
            "None\n"
          ],
          "name": "stdout"
        }
      ]
    },
    {
      "metadata": {
        "id": "XtHYxPmtjMCV",
        "colab_type": "text"
      },
      "cell_type": "markdown",
      "source": [
        "**Iterate over all of the values:**"
      ]
    },
    {
      "metadata": {
        "id": "ELPOdij1jMCW",
        "colab_type": "code",
        "colab": {
          "base_uri": "https://localhost:8080/",
          "height": 69
        },
        "outputId": "a0189e0e-a923-4732-df52-4ed46c55acff"
      },
      "cell_type": "code",
      "source": [
        "for email in x.values():\n",
        "    print(email)"
      ],
      "execution_count": 6,
      "outputs": [
        {
          "output_type": "stream",
          "text": [
            "brooksch@umich.edu\n",
            "billg@microsoft.com\n",
            "None\n"
          ],
          "name": "stdout"
        }
      ]
    },
    {
      "metadata": {
        "id": "CX8p46TWjMCY",
        "colab_type": "text"
      },
      "cell_type": "markdown",
      "source": [
        "**Iterate over all of the items in the list:**"
      ]
    },
    {
      "metadata": {
        "id": "ttX-3gisjMCY",
        "colab_type": "code",
        "colab": {
          "base_uri": "https://localhost:8080/",
          "height": 121
        },
        "outputId": "3edcb3f2-631d-4dc5-b16a-6087b15d5443"
      },
      "cell_type": "code",
      "source": [
        "for name, email in x.items():\n",
        "    print(name)\n",
        "    print(email)"
      ],
      "execution_count": 7,
      "outputs": [
        {
          "output_type": "stream",
          "text": [
            "Christopher Brooks\n",
            "brooksch@umich.edu\n",
            "Bill Gates\n",
            "billg@microsoft.com\n",
            "Kevyn Collins-Thompson\n",
            "None\n"
          ],
          "name": "stdout"
        }
      ]
    },
    {
      "metadata": {
        "id": "41JC7kRBjMCZ",
        "colab_type": "text"
      },
      "cell_type": "markdown",
      "source": [
        "<br>\n",
        "You can unpack a sequence into different variables:"
      ]
    },
    {
      "metadata": {
        "id": "87R69x2NjMCa",
        "colab_type": "code",
        "colab": {}
      },
      "cell_type": "code",
      "source": [
        "x = ('Christopher', 'Brooks', 'brooksch@umich.edu')\n",
        "fname, lname, email = x"
      ],
      "execution_count": 0,
      "outputs": []
    },
    {
      "metadata": {
        "id": "DFknxQK1jMCc",
        "colab_type": "code",
        "colab": {}
      },
      "cell_type": "code",
      "source": [
        "fname"
      ],
      "execution_count": 0,
      "outputs": []
    },
    {
      "metadata": {
        "id": "8USRgfO-jMCe",
        "colab_type": "code",
        "colab": {}
      },
      "cell_type": "code",
      "source": [
        "lname"
      ],
      "execution_count": 0,
      "outputs": []
    },
    {
      "metadata": {
        "id": "CDQsbiP9jMCf",
        "colab_type": "text"
      },
      "cell_type": "markdown",
      "source": [
        "<br>\n",
        "Make sure the number of values you are unpacking matches the number of variables being assigned."
      ]
    },
    {
      "metadata": {
        "id": "fvrJKsepjMCg",
        "colab_type": "code",
        "colab": {
          "base_uri": "https://localhost:8080/",
          "height": 203
        },
        "outputId": "60c4c16f-23fe-4c97-bc2a-4a0070b30053"
      },
      "cell_type": "code",
      "source": [
        "x = ('Christopher', 'Brooks', 'brooksch@umich.edu', 'Ann Arbor')\n",
        "fname, lname, email = x"
      ],
      "execution_count": 8,
      "outputs": [
        {
          "output_type": "error",
          "ename": "ValueError",
          "evalue": "ignored",
          "traceback": [
            "\u001b[0;31m---------------------------------------------------------------------------\u001b[0m",
            "\u001b[0;31mValueError\u001b[0m                                Traceback (most recent call last)",
            "\u001b[0;32m<ipython-input-8-d2c50ec4987a>\u001b[0m in \u001b[0;36m<module>\u001b[0;34m()\u001b[0m\n\u001b[1;32m      1\u001b[0m \u001b[0mx\u001b[0m \u001b[0;34m=\u001b[0m \u001b[0;34m(\u001b[0m\u001b[0;34m'Christopher'\u001b[0m\u001b[0;34m,\u001b[0m \u001b[0;34m'Brooks'\u001b[0m\u001b[0;34m,\u001b[0m \u001b[0;34m'brooksch@umich.edu'\u001b[0m\u001b[0;34m,\u001b[0m \u001b[0;34m'Ann Arbor'\u001b[0m\u001b[0;34m)\u001b[0m\u001b[0;34m\u001b[0m\u001b[0;34m\u001b[0m\u001b[0m\n\u001b[0;32m----> 2\u001b[0;31m \u001b[0mfname\u001b[0m\u001b[0;34m,\u001b[0m \u001b[0mlname\u001b[0m\u001b[0;34m,\u001b[0m \u001b[0memail\u001b[0m \u001b[0;34m=\u001b[0m \u001b[0mx\u001b[0m\u001b[0;34m\u001b[0m\u001b[0;34m\u001b[0m\u001b[0m\n\u001b[0m",
            "\u001b[0;31mValueError\u001b[0m: too many values to unpack (expected 3)"
          ]
        }
      ]
    },
    {
      "metadata": {
        "id": "oUup25tbjMCh",
        "colab_type": "text"
      },
      "cell_type": "markdown",
      "source": [
        "# The Python Programming Language: More on Strings"
      ]
    },
    {
      "metadata": {
        "id": "zfTk_LuQjMCi",
        "colab_type": "code",
        "colab": {}
      },
      "cell_type": "code",
      "source": [
        "print('Chris' + 2)"
      ],
      "execution_count": 0,
      "outputs": []
    },
    {
      "metadata": {
        "id": "r4UI1eYhjMCj",
        "colab_type": "code",
        "colab": {}
      },
      "cell_type": "code",
      "source": [
        "print('Chris' + str(2))"
      ],
      "execution_count": 0,
      "outputs": []
    },
    {
      "metadata": {
        "id": "J9jJEc8mjMCo",
        "colab_type": "text"
      },
      "cell_type": "markdown",
      "source": [
        "<br>\n",
        "Python has a built in method for convenient string formatting."
      ]
    },
    {
      "metadata": {
        "id": "MjKc5MgxjMCo",
        "colab_type": "code",
        "colab": {}
      },
      "cell_type": "code",
      "source": [
        "sales_record = {\n",
        "'price': 3.24,\n",
        "'num_items': 4,\n",
        "'person': 'Chris'}\n",
        "\n",
        "sales_statement = '{} bought {} item(s) at a price of {} each for a total of {}'\n",
        "\n",
        "print(sales_statement.format(sales_record['person'],\n",
        "                             sales_record['num_items'],\n",
        "                             sales_record['price'],\n",
        "                             sales_record['num_items']*sales_record['price']))\n"
      ],
      "execution_count": 0,
      "outputs": []
    },
    {
      "metadata": {
        "id": "eP-UfuOsjMCv",
        "colab_type": "text"
      },
      "cell_type": "markdown",
      "source": [
        "<br>\n",
        "# Reading and Writing CSV files"
      ]
    },
    {
      "metadata": {
        "id": "b8gmsQ3PjMCv",
        "colab_type": "text"
      },
      "cell_type": "markdown",
      "source": [
        "<br>\n",
        "Let's import our datafile mpg.csv, which contains fuel economy data for 234 cars.\n",
        "\n",
        "* mpg : miles per gallon\n",
        "* class : car classification\n",
        "* cty : city mpg\n",
        "* cyl : # of cylinders\n",
        "* displ : engine displacement in liters\n",
        "* drv : f = front-wheel drive, r = rear wheel drive, 4 = 4wd\n",
        "* fl : fuel (e = ethanol E85, d = diesel, r = regular, p = premium, c = CNG)\n",
        "* hwy : highway mpg\n",
        "* manufacturer : automobile manufacturer\n",
        "* model : model of car\n",
        "* trans : type of transmission\n",
        "* year : model year"
      ]
    },
    {
      "metadata": {
        "scrolled": true,
        "id": "c5mKQxmRjMCv",
        "colab_type": "code",
        "colab": {}
      },
      "cell_type": "code",
      "source": [
        "import csv\n",
        "\n",
        "%precision 2  # float precison set as 2\n",
        "\n",
        "with open('mpg.csv') as csvfile:\n",
        "    mpg = list(csv.DictReader(csvfile))\n",
        "    \n",
        "mpg[:3] # The first three dictionaries in our list."
      ],
      "execution_count": 0,
      "outputs": []
    },
    {
      "metadata": {
        "id": "iZ9kciV_jMCz",
        "colab_type": "text"
      },
      "cell_type": "markdown",
      "source": [
        "<br>\n",
        "`csv.Dictreader` has read in each row of our csv file as a dictionary. `len` shows that our list is comprised of 234 dictionaries."
      ]
    },
    {
      "metadata": {
        "id": "RDT_pJ9HjMCz",
        "colab_type": "code",
        "colab": {}
      },
      "cell_type": "code",
      "source": [
        "len(mpg)"
      ],
      "execution_count": 0,
      "outputs": []
    },
    {
      "metadata": {
        "id": "glimgf3jjMC6",
        "colab_type": "text"
      },
      "cell_type": "markdown",
      "source": [
        "<br>\n",
        "`keys` gives us the column names of our csv."
      ]
    },
    {
      "metadata": {
        "id": "YH8mbiEYjMC6",
        "colab_type": "code",
        "colab": {}
      },
      "cell_type": "code",
      "source": [
        "mpg[0].keys()"
      ],
      "execution_count": 0,
      "outputs": []
    },
    {
      "metadata": {
        "id": "9MBxdBFPjMC8",
        "colab_type": "text"
      },
      "cell_type": "markdown",
      "source": [
        "**Find the average cty fuel economy across all cars. **\n",
        "All values in the dictionaries are strings, so we need to convert to float."
      ]
    },
    {
      "metadata": {
        "id": "ArAsX231jMC9",
        "colab_type": "code",
        "colab": {}
      },
      "cell_type": "code",
      "source": [
        "sum(float(d['cty']) for d in mpg) / len(mpg)"
      ],
      "execution_count": 0,
      "outputs": []
    },
    {
      "metadata": {
        "id": "UVExO00YjMDC",
        "colab_type": "text"
      },
      "cell_type": "markdown",
      "source": [
        "<br>\n",
        "Similarly this is how to find the average hwy fuel economy across all cars."
      ]
    },
    {
      "metadata": {
        "id": "xamq37pjjMDC",
        "colab_type": "code",
        "colab": {}
      },
      "cell_type": "code",
      "source": [
        "sum(float(d['hwy']) for d in mpg) / len(mpg)"
      ],
      "execution_count": 0,
      "outputs": []
    },
    {
      "metadata": {
        "id": "xJdfKWmzjMDE",
        "colab_type": "text"
      },
      "cell_type": "markdown",
      "source": [
        "**Use `set` to return the unique values for the number of cylinders the cars in our dataset have.**"
      ]
    },
    {
      "metadata": {
        "id": "AmNq_GpXjMDF",
        "colab_type": "code",
        "colab": {}
      },
      "cell_type": "code",
      "source": [
        "cylinders = set(d['cyl'] for d in mpg)\n",
        "cylinders"
      ],
      "execution_count": 0,
      "outputs": []
    },
    {
      "metadata": {
        "id": "r6MO5oQ9jMDG",
        "colab_type": "text"
      },
      "cell_type": "markdown",
      "source": [
        "**Here's a more complex example where we are grouping the cars by number of cylinder, and finding the average cty mpg for each group.**"
      ]
    },
    {
      "metadata": {
        "id": "UVwKLwfjjMDH",
        "colab_type": "code",
        "colab": {}
      },
      "cell_type": "code",
      "source": [
        "CtyMpgByCyl = []\n",
        "\n",
        "for c in cylinders: # iterate over all the cylinder levels\n",
        "    summpg = 0\n",
        "    cyltypecount = 0\n",
        "    for d in mpg: # iterate over all dictionaries\n",
        "        if d['cyl'] == c: # if the cylinder level type matches,\n",
        "            summpg += float(d['cty']) # add the cty mpg\n",
        "            cyltypecount += 1 # increment the count\n",
        "    CtyMpgByCyl.append((c, summpg / cyltypecount)) # append the tuple ('cylinder', 'avg mpg')\n",
        "\n",
        "CtyMpgByCyl.sort(key=lambda x: x[0]) # use the first element in CtyMpgByCyl to sort\n",
        "CtyMpgByCyl"
      ],
      "execution_count": 0,
      "outputs": []
    },
    {
      "metadata": {
        "id": "WLRPrwBQjMDI",
        "colab_type": "text"
      },
      "cell_type": "markdown",
      "source": [
        "<br>\n",
        "Use `set` to return the unique values for the class types in our dataset."
      ]
    },
    {
      "metadata": {
        "id": "CHmlfMWojMDI",
        "colab_type": "code",
        "colab": {}
      },
      "cell_type": "code",
      "source": [
        "vehicleclass = set(d['class'] for d in mpg) # what are the class types\n",
        "vehicleclass"
      ],
      "execution_count": 0,
      "outputs": []
    },
    {
      "metadata": {
        "id": "HqbR7rJ2jMDK",
        "colab_type": "text"
      },
      "cell_type": "markdown",
      "source": [
        "**Here's an example of how to find the average hwy mpg for each class of vehicle in our dataset.**"
      ]
    },
    {
      "metadata": {
        "id": "MNV460p9jMDK",
        "colab_type": "code",
        "colab": {}
      },
      "cell_type": "code",
      "source": [
        "HwyMpgByClass = []\n",
        "\n",
        "for t in vehicleclass: # iterate over all the vehicle classes\n",
        "    summpg = 0\n",
        "    vclasscount = 0\n",
        "    for d in mpg: # iterate over all dictionaries\n",
        "        if d['class'] == t: # if the cylinder amount type matches,\n",
        "            summpg += float(d['hwy']) # add the hwy mpg\n",
        "            vclasscount += 1 # increment the count\n",
        "    HwyMpgByClass.append((t, summpg / vclasscount)) # append the tuple ('class', 'avg mpg')\n",
        "\n",
        "HwyMpgByClass.sort(key=lambda x: x[1])\n",
        "HwyMpgByClass"
      ],
      "execution_count": 0,
      "outputs": []
    },
    {
      "metadata": {
        "id": "8Dv4i43MjMDL",
        "colab_type": "text"
      },
      "cell_type": "markdown",
      "source": [
        "<br>\n",
        "# The Python Programming Language: Dates and Times"
      ]
    },
    {
      "metadata": {
        "collapsed": true,
        "id": "EOZK49UcjMDM",
        "colab_type": "code",
        "colab": {}
      },
      "cell_type": "code",
      "source": [
        "import datetime as dt\n",
        "import time as tm"
      ],
      "execution_count": 0,
      "outputs": []
    },
    {
      "metadata": {
        "id": "1QNrfIqDjMDN",
        "colab_type": "text"
      },
      "cell_type": "markdown",
      "source": [
        "<br>\n",
        "`time` returns the current time in seconds since the Epoch. (January 1st, 1970)"
      ]
    },
    {
      "metadata": {
        "collapsed": true,
        "id": "zGIKvdXijMDN",
        "colab_type": "code",
        "colab": {}
      },
      "cell_type": "code",
      "source": [
        "tm.time()"
      ],
      "execution_count": 0,
      "outputs": []
    },
    {
      "metadata": {
        "id": "gKA86G34jMDO",
        "colab_type": "text"
      },
      "cell_type": "markdown",
      "source": [
        "<br>\n",
        "Convert the timestamp to datetime."
      ]
    },
    {
      "metadata": {
        "collapsed": true,
        "id": "T0AdpPMDjMDP",
        "colab_type": "code",
        "colab": {}
      },
      "cell_type": "code",
      "source": [
        "dtnow = dt.datetime.fromtimestamp(tm.time())\n",
        "dtnow"
      ],
      "execution_count": 0,
      "outputs": []
    },
    {
      "metadata": {
        "id": "MU7HViFsjMDQ",
        "colab_type": "text"
      },
      "cell_type": "markdown",
      "source": [
        "<br>\n",
        "Handy datetime attributes:"
      ]
    },
    {
      "metadata": {
        "collapsed": true,
        "id": "0wEX05_FjMDR",
        "colab_type": "code",
        "colab": {}
      },
      "cell_type": "code",
      "source": [
        "dtnow.year, dtnow.month, dtnow.day, dtnow.hour, dtnow.minute, dtnow.second # get year, month, day, etc.from a datetime"
      ],
      "execution_count": 0,
      "outputs": []
    },
    {
      "metadata": {
        "id": "8EvhDIT7jMDS",
        "colab_type": "text"
      },
      "cell_type": "markdown",
      "source": [
        "<br>\n",
        "`timedelta` is a duration expressing the difference between two dates."
      ]
    },
    {
      "metadata": {
        "collapsed": true,
        "id": "eG7vXBA5jMDS",
        "colab_type": "code",
        "colab": {}
      },
      "cell_type": "code",
      "source": [
        "delta = dt.timedelta(days = 100) # create a timedelta of 100 days\n",
        "delta"
      ],
      "execution_count": 0,
      "outputs": []
    },
    {
      "metadata": {
        "id": "0NUgdvjfjMDU",
        "colab_type": "text"
      },
      "cell_type": "markdown",
      "source": [
        "<br>\n",
        "`date.today` returns the current local date."
      ]
    },
    {
      "metadata": {
        "collapsed": true,
        "id": "ZavpwhBTjMDV",
        "colab_type": "code",
        "colab": {}
      },
      "cell_type": "code",
      "source": [
        "today = dt.date.today()"
      ],
      "execution_count": 0,
      "outputs": []
    },
    {
      "metadata": {
        "collapsed": true,
        "id": "wAbRlV3bjMDX",
        "colab_type": "code",
        "colab": {}
      },
      "cell_type": "code",
      "source": [
        "today - delta # the date 100 days ago"
      ],
      "execution_count": 0,
      "outputs": []
    },
    {
      "metadata": {
        "collapsed": true,
        "id": "wBqlJCewjMDZ",
        "colab_type": "code",
        "colab": {}
      },
      "cell_type": "code",
      "source": [
        "today > today-delta # compare dates"
      ],
      "execution_count": 0,
      "outputs": []
    },
    {
      "metadata": {
        "id": "dU7ti_EYjMDa",
        "colab_type": "text"
      },
      "cell_type": "markdown",
      "source": [
        "<br>\n",
        "# The Python Programming Language: Objects and map()"
      ]
    },
    {
      "metadata": {
        "id": "tfW0sAsfjMDb",
        "colab_type": "text"
      },
      "cell_type": "markdown",
      "source": [
        "<br>\n",
        "An example of a class in python:"
      ]
    },
    {
      "metadata": {
        "id": "s_EJaTL2jMDc",
        "colab_type": "code",
        "colab": {}
      },
      "cell_type": "code",
      "source": [
        "class Person:\n",
        "    department = 'School of Information' #a class variable\n",
        "\n",
        "    def set_name(self, new_name): #a method\n",
        "        self.name = new_name\n",
        "    def set_location(self, new_location):\n",
        "        self.location = new_location"
      ],
      "execution_count": 0,
      "outputs": []
    },
    {
      "metadata": {
        "id": "7YSbyvEpjMDe",
        "colab_type": "code",
        "colab": {}
      },
      "cell_type": "code",
      "source": [
        "person = Person()\n",
        "person.set_name('Christopher Brooks')\n",
        "person.set_location('Ann Arbor, MI, USA')\n",
        "print('{} live in {} and works in the department {}'.format(person.name, person.location, person.department))"
      ],
      "execution_count": 0,
      "outputs": []
    },
    {
      "metadata": {
        "id": "Ay46pl42jMDf",
        "colab_type": "text"
      },
      "cell_type": "markdown",
      "source": [
        "**Here's an example of mapping the `min` function between two lists.**"
      ]
    },
    {
      "metadata": {
        "id": "M_E0aHHMjMDf",
        "colab_type": "code",
        "colab": {
          "base_uri": "https://localhost:8080/",
          "height": 35
        },
        "outputId": "ad73a460-e2bf-4e81-8b34-726cb29ea144"
      },
      "cell_type": "code",
      "source": [
        "\"\"\"\n",
        "The map function returns to you a map object. \n",
        "It doesn't actually try and run the function min \n",
        "on two items, until you look inside for a value.\n",
        "This is an interesting design pattern of the language, \n",
        "and it's commonly used when dealing with big data. \n",
        "This allows us to have very efficient memory management, \n",
        "even though something might be computationally complex.\n",
        "\"\"\"\n",
        "store1 = [10.00, 11.00, 12.34, 2.34]\n",
        "store2 = [9.00, 11.10, 12.34, 2.01]\n",
        "cheapest = map(min, store1, store2) # lazy evaluation\n",
        "cheapest # return a map object"
      ],
      "execution_count": 10,
      "outputs": [
        {
          "output_type": "execute_result",
          "data": {
            "text/plain": [
              "<map at 0x7fe4b359bc50>"
            ]
          },
          "metadata": {
            "tags": []
          },
          "execution_count": 10
        }
      ]
    },
    {
      "metadata": {
        "id": "mYa4Pk1KjMDi",
        "colab_type": "text"
      },
      "cell_type": "markdown",
      "source": [
        "<br>\n",
        "Now let's iterate through the map object to see the values."
      ]
    },
    {
      "metadata": {
        "scrolled": true,
        "id": "nPo1jR9NjMDj",
        "colab_type": "code",
        "colab": {
          "base_uri": "https://localhost:8080/",
          "height": 87
        },
        "outputId": "662ba5be-57d9-4c07-a702-0ce1e7b1e80d"
      },
      "cell_type": "code",
      "source": [
        "for item in cheapest:\n",
        "    print(item)"
      ],
      "execution_count": 11,
      "outputs": [
        {
          "output_type": "stream",
          "text": [
            "9.0\n",
            "11.0\n",
            "12.34\n",
            "2.01\n"
          ],
          "name": "stdout"
        }
      ]
    },
    {
      "metadata": {
        "id": "p8AjnehQlorO",
        "colab_type": "text"
      },
      "cell_type": "markdown",
      "source": [
        "Quiz: Here is a list of faculty teaching this MOOC. Can you write a function and apply it using map() to get a list of all faculty titles and last names (e.g. ['Dr. Brooks', 'Dr. Collins-Thompson', …]) ?"
      ]
    },
    {
      "metadata": {
        "id": "e2C5g1YSlcDu",
        "colab_type": "code",
        "colab": {
          "base_uri": "https://localhost:8080/",
          "height": 35
        },
        "outputId": "959f9211-26ca-420e-8a87-8808a38c4f3a"
      },
      "cell_type": "code",
      "source": [
        "people = ['Dr. Christopher Brooks', 'Dr. Kevyn Collins-Thompson', 'Dr. VG Vinod Vydiswaran', 'Dr. Daniel Romero']\n",
        "\n",
        "def split_title_and_name(person):\n",
        "    return person.split(' ')[0]+' '+person.split(' ')[2]#Your answer here\n",
        "\n",
        "list(map(split_title_and_name, people))#Your answer here"
      ],
      "execution_count": 12,
      "outputs": [
        {
          "output_type": "execute_result",
          "data": {
            "text/plain": [
              "['Dr. Brooks', 'Dr. Collins-Thompson', 'Dr. Vinod', 'Dr. Romero']"
            ]
          },
          "metadata": {
            "tags": []
          },
          "execution_count": 12
        }
      ]
    },
    {
      "metadata": {
        "id": "U19-wbxsjMDl",
        "colab_type": "text"
      },
      "cell_type": "markdown",
      "source": [
        "<br>\n",
        "# The Python Programming Language: Lambda and List Comprehensions"
      ]
    },
    {
      "metadata": {
        "id": "OQx0NmczjMDn",
        "colab_type": "text"
      },
      "cell_type": "markdown",
      "source": [
        "<br>\n",
        "Here's an example of lambda that takes in three parameters and adds the first two."
      ]
    },
    {
      "metadata": {
        "id": "TJkvuFoFjMDn",
        "colab_type": "code",
        "colab": {}
      },
      "cell_type": "code",
      "source": [
        "my_function = lambda a, b, c : a + c"
      ],
      "execution_count": 0,
      "outputs": []
    },
    {
      "metadata": {
        "id": "yRAlAwUYjMDp",
        "colab_type": "code",
        "colab": {
          "base_uri": "https://localhost:8080/",
          "height": 35
        },
        "outputId": "2984b822-941b-4646-9399-2bfcb6d6c908"
      },
      "cell_type": "code",
      "source": [
        "my_function(1, 2, 3)"
      ],
      "execution_count": 16,
      "outputs": [
        {
          "output_type": "execute_result",
          "data": {
            "text/plain": [
              "4"
            ]
          },
          "metadata": {
            "tags": []
          },
          "execution_count": 16
        }
      ]
    },
    {
      "metadata": {
        "id": "e9I3_OeKlxJ3",
        "colab_type": "text"
      },
      "cell_type": "markdown",
      "source": [
        "Quiz: Convert this function into a lambda:"
      ]
    },
    {
      "metadata": {
        "id": "w4FYL1o4l2eL",
        "colab_type": "code",
        "colab": {
          "base_uri": "https://localhost:8080/",
          "height": 104
        },
        "outputId": "94e088e6-2b32-4a71-f833-764b3e4a34ba"
      },
      "cell_type": "code",
      "source": [
        "people = ['Dr. Christopher Brooks', 'Dr. Kevyn Collins-Thompson', 'Dr. VG Vinod Vydiswaran', 'Dr. Daniel Romero']\n",
        "\n",
        "def split_title_and_name(person):\n",
        "    return person.split()[0] + ' ' + person.split()[-1]\n",
        "\n",
        "#option 1\n",
        "for person in people:\n",
        "    print(split_title_and_name(person) == (lambda x: x.split()[0] + ' ' + x.split()[-1])(person))\n",
        "\n",
        "#option 2\n",
        "list(map(split_title_and_name, people)) == list(map(lambda person: person.split()[0] + ' ' + person.split()[-1], people))"
      ],
      "execution_count": 17,
      "outputs": [
        {
          "output_type": "stream",
          "text": [
            "True\n",
            "True\n",
            "True\n",
            "True\n"
          ],
          "name": "stdout"
        },
        {
          "output_type": "execute_result",
          "data": {
            "text/plain": [
              "True"
            ]
          },
          "metadata": {
            "tags": []
          },
          "execution_count": 17
        }
      ]
    },
    {
      "metadata": {
        "id": "L58vysGojMDr",
        "colab_type": "text"
      },
      "cell_type": "markdown",
      "source": [
        "Let's iterate from 0 to 9 and return the even numbers."
      ]
    },
    {
      "metadata": {
        "id": "h5Zds5zsjMDr",
        "colab_type": "code",
        "colab": {
          "base_uri": "https://localhost:8080/",
          "height": 35
        },
        "outputId": "ab52b571-56db-485a-a97c-3d16769e2c37"
      },
      "cell_type": "code",
      "source": [
        "my_list = []\n",
        "for number in range(0, 10):\n",
        "    if number % 2 == 0:\n",
        "        my_list.append(number)\n",
        "my_list"
      ],
      "execution_count": 18,
      "outputs": [
        {
          "output_type": "execute_result",
          "data": {
            "text/plain": [
              "[0, 2, 4, 6, 8]"
            ]
          },
          "metadata": {
            "tags": []
          },
          "execution_count": 18
        }
      ]
    },
    {
      "metadata": {
        "id": "GOcelwUEjMDt",
        "colab_type": "text"
      },
      "cell_type": "markdown",
      "source": [
        "<br>\n",
        "Now the same thing but with list comprehension."
      ]
    },
    {
      "metadata": {
        "id": "6nWjsyznjMDv",
        "colab_type": "code",
        "colab": {
          "base_uri": "https://localhost:8080/",
          "height": 35
        },
        "outputId": "d722c046-7190-4599-f682-ae08e97fbbd6"
      },
      "cell_type": "code",
      "source": [
        "my_list = [number for number in range(0,10) if number % 2 == 0]\n",
        "my_list"
      ],
      "execution_count": 19,
      "outputs": [
        {
          "output_type": "execute_result",
          "data": {
            "text/plain": [
              "[0, 2, 4, 6, 8]"
            ]
          },
          "metadata": {
            "tags": []
          },
          "execution_count": 19
        }
      ]
    },
    {
      "metadata": {
        "id": "XGZHRPIDmAX-",
        "colab_type": "text"
      },
      "cell_type": "markdown",
      "source": [
        "Quiz: Convert a function into a list comprehension."
      ]
    },
    {
      "metadata": {
        "id": "NsUCpaAemDKx",
        "colab_type": "code",
        "colab": {
          "base_uri": "https://localhost:8080/",
          "height": 35
        },
        "outputId": "e320dce1-d387-4205-b756-82a0c70807c4"
      },
      "cell_type": "code",
      "source": [
        "def times_tables():\n",
        "    lst = []\n",
        "    for i in range(10):\n",
        "        for j in range (10):\n",
        "            lst.append(i*j)\n",
        "    return lst\n",
        "\n",
        "times_tables() == [j*i for i in range(10) for j in range(10)]"
      ],
      "execution_count": 20,
      "outputs": [
        {
          "output_type": "execute_result",
          "data": {
            "text/plain": [
              "True"
            ]
          },
          "metadata": {
            "tags": []
          },
          "execution_count": 20
        }
      ]
    },
    {
      "metadata": {
        "id": "SQGDrht0mFha",
        "colab_type": "text"
      },
      "cell_type": "markdown",
      "source": [
        "Quiz: Imagine you work at an internet service provider and the user ids are all two letters followed by two numbers (e.g. aa49). Write an initialization line as a single list comprehension which creates a list of all possible user ids. Assume the letters are all lower case."
      ]
    },
    {
      "metadata": {
        "id": "GUGQD9w6mG-H",
        "colab_type": "code",
        "colab": {}
      },
      "cell_type": "code",
      "source": [
        "lowercase = 'abcdefghijklmnopqrstuvwxyz'\n",
        "digits = '0123456789'\n",
        "\n",
        "answer = [a+b+c+d for a in lowercase for b in lowercase for c in digits for d in digits]"
      ],
      "execution_count": 0,
      "outputs": []
    },
    {
      "metadata": {
        "collapsed": true,
        "id": "MZAFBIBLjMDx",
        "colab_type": "text"
      },
      "cell_type": "markdown",
      "source": [
        "<br>\n",
        "# The Python Programming Language: Numerical Python (NumPy)"
      ]
    },
    {
      "metadata": {
        "id": "HdtrI0KdjMDx",
        "colab_type": "code",
        "colab": {}
      },
      "cell_type": "code",
      "source": [
        "import numpy as np"
      ],
      "execution_count": 0,
      "outputs": []
    },
    {
      "metadata": {
        "id": "fJMjUR_3jMDx",
        "colab_type": "text"
      },
      "cell_type": "markdown",
      "source": [
        "<br>\n",
        "## Creating Arrays"
      ]
    },
    {
      "metadata": {
        "id": "zhffeUPWjMDy",
        "colab_type": "text"
      },
      "cell_type": "markdown",
      "source": [
        "Create a list and convert it to a numpy array"
      ]
    },
    {
      "metadata": {
        "id": "rXiifKOTjMDz",
        "colab_type": "code",
        "colab": {
          "base_uri": "https://localhost:8080/",
          "height": 35
        },
        "outputId": "6198bd5b-988a-4dcc-d7b3-96e70c6497e5"
      },
      "cell_type": "code",
      "source": [
        "mylist = [1, 2, 3]\n",
        "x = np.array(mylist)\n",
        "x"
      ],
      "execution_count": 24,
      "outputs": [
        {
          "output_type": "execute_result",
          "data": {
            "text/plain": [
              "array([1, 2, 3])"
            ]
          },
          "metadata": {
            "tags": []
          },
          "execution_count": 24
        }
      ]
    },
    {
      "metadata": {
        "id": "QJwyP2ANjMD1",
        "colab_type": "text"
      },
      "cell_type": "markdown",
      "source": [
        "<br>\n",
        "Or just pass in a list directly"
      ]
    },
    {
      "metadata": {
        "id": "DbgnCdF3jMD1",
        "colab_type": "code",
        "colab": {
          "base_uri": "https://localhost:8080/",
          "height": 35
        },
        "outputId": "a193e19f-346b-47b8-dfcc-3a4da9099a5f"
      },
      "cell_type": "code",
      "source": [
        "y = np.array([4, 5, 6])\n",
        "y"
      ],
      "execution_count": 25,
      "outputs": [
        {
          "output_type": "execute_result",
          "data": {
            "text/plain": [
              "array([4, 5, 6])"
            ]
          },
          "metadata": {
            "tags": []
          },
          "execution_count": 25
        }
      ]
    },
    {
      "metadata": {
        "id": "TAEF1_BMjMD1",
        "colab_type": "text"
      },
      "cell_type": "markdown",
      "source": [
        "<br>\n",
        "Pass in a list of lists to create a multidimensional array."
      ]
    },
    {
      "metadata": {
        "id": "ZNyAAMEJjMD2",
        "colab_type": "code",
        "colab": {
          "base_uri": "https://localhost:8080/",
          "height": 52
        },
        "outputId": "37b1bb0a-09ba-4af1-81c3-d6c25a372ba1"
      },
      "cell_type": "code",
      "source": [
        "m = np.array([[7, 8, 9], [10, 11, 12]])\n",
        "m"
      ],
      "execution_count": 26,
      "outputs": [
        {
          "output_type": "execute_result",
          "data": {
            "text/plain": [
              "array([[ 7,  8,  9],\n",
              "       [10, 11, 12]])"
            ]
          },
          "metadata": {
            "tags": []
          },
          "execution_count": 26
        }
      ]
    },
    {
      "metadata": {
        "id": "MHyGBq3FjMD3",
        "colab_type": "text"
      },
      "cell_type": "markdown",
      "source": [
        "<br>\n",
        "Use the shape method to find the dimensions of the array. (rows, columns)"
      ]
    },
    {
      "metadata": {
        "id": "D7x1dWWmjMD4",
        "colab_type": "code",
        "colab": {
          "base_uri": "https://localhost:8080/",
          "height": 35
        },
        "outputId": "44c3eb55-498a-4edd-c691-da665f917ca7"
      },
      "cell_type": "code",
      "source": [
        "m.shape"
      ],
      "execution_count": 27,
      "outputs": [
        {
          "output_type": "execute_result",
          "data": {
            "text/plain": [
              "(2, 3)"
            ]
          },
          "metadata": {
            "tags": []
          },
          "execution_count": 27
        }
      ]
    },
    {
      "metadata": {
        "id": "zfAGZeAzjMD4",
        "colab_type": "text"
      },
      "cell_type": "markdown",
      "source": [
        "<br>\n",
        "`arange` returns evenly spaced values within a given interval."
      ]
    },
    {
      "metadata": {
        "id": "7aTN1Gx0jMD5",
        "colab_type": "code",
        "colab": {
          "base_uri": "https://localhost:8080/",
          "height": 35
        },
        "outputId": "54da445f-f3cb-474c-86d5-14741b9684f1"
      },
      "cell_type": "code",
      "source": [
        "n = np.arange(0, 30, 2) # start at 0 count up by 2, stop before 30\n",
        "n"
      ],
      "execution_count": 28,
      "outputs": [
        {
          "output_type": "execute_result",
          "data": {
            "text/plain": [
              "array([ 0,  2,  4,  6,  8, 10, 12, 14, 16, 18, 20, 22, 24, 26, 28])"
            ]
          },
          "metadata": {
            "tags": []
          },
          "execution_count": 28
        }
      ]
    },
    {
      "metadata": {
        "id": "DPRFuqDajMD7",
        "colab_type": "text"
      },
      "cell_type": "markdown",
      "source": [
        "<br>\n",
        "`reshape` returns an array with the same data with a new shape."
      ]
    },
    {
      "metadata": {
        "id": "9x36vf6pjMD7",
        "colab_type": "code",
        "colab": {
          "base_uri": "https://localhost:8080/",
          "height": 69
        },
        "outputId": "cfbcf72a-a024-4fd8-b576-71407b1dc8ac"
      },
      "cell_type": "code",
      "source": [
        "n = n.reshape(3, 5) # reshape array to be 3x5\n",
        "n"
      ],
      "execution_count": 29,
      "outputs": [
        {
          "output_type": "execute_result",
          "data": {
            "text/plain": [
              "array([[ 0,  2,  4,  6,  8],\n",
              "       [10, 12, 14, 16, 18],\n",
              "       [20, 22, 24, 26, 28]])"
            ]
          },
          "metadata": {
            "tags": []
          },
          "execution_count": 29
        }
      ]
    },
    {
      "metadata": {
        "id": "p7jvqgHmjMD8",
        "colab_type": "text"
      },
      "cell_type": "markdown",
      "source": [
        "<br>\n",
        "`linspace` returns evenly spaced numbers over a specified interval."
      ]
    },
    {
      "metadata": {
        "id": "OvsDzY_sjMD9",
        "colab_type": "code",
        "colab": {
          "base_uri": "https://localhost:8080/",
          "height": 35
        },
        "outputId": "a05cef2a-aa08-44ff-a4dd-9d0608f6b515"
      },
      "cell_type": "code",
      "source": [
        "o = np.linspace(0, 4, 9) # return 9 evenly spaced values from 0 to 4\n",
        "o"
      ],
      "execution_count": 30,
      "outputs": [
        {
          "output_type": "execute_result",
          "data": {
            "text/plain": [
              "array([0. , 0.5, 1. , 1.5, 2. , 2.5, 3. , 3.5, 4. ])"
            ]
          },
          "metadata": {
            "tags": []
          },
          "execution_count": 30
        }
      ]
    },
    {
      "metadata": {
        "id": "ObkYm2d0jMD-",
        "colab_type": "text"
      },
      "cell_type": "markdown",
      "source": [
        "<br>\n",
        "`resize` changes the shape and size of array in-place."
      ]
    },
    {
      "metadata": {
        "id": "e0488t2zjMD_",
        "colab_type": "code",
        "colab": {
          "base_uri": "https://localhost:8080/",
          "height": 69
        },
        "outputId": "e7d485b9-2887-486a-98ae-58fbaf07614f"
      },
      "cell_type": "code",
      "source": [
        "o.resize(3, 3)\n",
        "o"
      ],
      "execution_count": 31,
      "outputs": [
        {
          "output_type": "execute_result",
          "data": {
            "text/plain": [
              "array([[0. , 0.5, 1. ],\n",
              "       [1.5, 2. , 2.5],\n",
              "       [3. , 3.5, 4. ]])"
            ]
          },
          "metadata": {
            "tags": []
          },
          "execution_count": 31
        }
      ]
    },
    {
      "metadata": {
        "id": "on6b0E_LjMEA",
        "colab_type": "text"
      },
      "cell_type": "markdown",
      "source": [
        "<br>\n",
        "`ones` returns a new array of given shape and type, filled with ones."
      ]
    },
    {
      "metadata": {
        "id": "kt5qdHLZjMEA",
        "colab_type": "code",
        "colab": {
          "base_uri": "https://localhost:8080/",
          "height": 69
        },
        "outputId": "165d1f45-82f7-448d-ff9e-f468849d591d"
      },
      "cell_type": "code",
      "source": [
        "np.ones((3, 2))"
      ],
      "execution_count": 32,
      "outputs": [
        {
          "output_type": "execute_result",
          "data": {
            "text/plain": [
              "array([[1., 1.],\n",
              "       [1., 1.],\n",
              "       [1., 1.]])"
            ]
          },
          "metadata": {
            "tags": []
          },
          "execution_count": 32
        }
      ]
    },
    {
      "metadata": {
        "id": "Kmc42mGkjMEB",
        "colab_type": "text"
      },
      "cell_type": "markdown",
      "source": [
        "<br>\n",
        "`zeros` returns a new array of given shape and type, filled with zeros."
      ]
    },
    {
      "metadata": {
        "id": "pRUxH3Z_jMEB",
        "colab_type": "code",
        "colab": {
          "base_uri": "https://localhost:8080/",
          "height": 52
        },
        "outputId": "13bc03ac-50df-4ff8-a976-b5fb48275a48"
      },
      "cell_type": "code",
      "source": [
        "np.zeros((2, 3))"
      ],
      "execution_count": 33,
      "outputs": [
        {
          "output_type": "execute_result",
          "data": {
            "text/plain": [
              "array([[0., 0., 0.],\n",
              "       [0., 0., 0.]])"
            ]
          },
          "metadata": {
            "tags": []
          },
          "execution_count": 33
        }
      ]
    },
    {
      "metadata": {
        "id": "DcxGkCAajMEC",
        "colab_type": "text"
      },
      "cell_type": "markdown",
      "source": [
        "**`eye` returns a 2-D array with ones on the diagonal and zeros elsewhere.**"
      ]
    },
    {
      "metadata": {
        "id": "twN0Slk5jMED",
        "colab_type": "code",
        "colab": {
          "base_uri": "https://localhost:8080/",
          "height": 69
        },
        "outputId": "5029bfdb-937f-4100-a760-f0e74519c16c"
      },
      "cell_type": "code",
      "source": [
        "np.eye(3)"
      ],
      "execution_count": 34,
      "outputs": [
        {
          "output_type": "execute_result",
          "data": {
            "text/plain": [
              "array([[1., 0., 0.],\n",
              "       [0., 1., 0.],\n",
              "       [0., 0., 1.]])"
            ]
          },
          "metadata": {
            "tags": []
          },
          "execution_count": 34
        }
      ]
    },
    {
      "metadata": {
        "id": "VUIggaQnjMEE",
        "colab_type": "text"
      },
      "cell_type": "markdown",
      "source": [
        "**`diag` extracts a diagonal or constructs a diagonal array.**"
      ]
    },
    {
      "metadata": {
        "id": "2X1NTz66jMEE",
        "colab_type": "code",
        "colab": {
          "base_uri": "https://localhost:8080/",
          "height": 69
        },
        "outputId": "41e01ef8-96a1-48d3-8e86-521867a2bb39"
      },
      "cell_type": "code",
      "source": [
        "np.diag(y) # 对角矩阵"
      ],
      "execution_count": 35,
      "outputs": [
        {
          "output_type": "execute_result",
          "data": {
            "text/plain": [
              "array([[4, 0, 0],\n",
              "       [0, 5, 0],\n",
              "       [0, 0, 6]])"
            ]
          },
          "metadata": {
            "tags": []
          },
          "execution_count": 35
        }
      ]
    },
    {
      "metadata": {
        "id": "hIyKZcYCjMEF",
        "colab_type": "text"
      },
      "cell_type": "markdown",
      "source": [
        "<br>\n",
        "Create an array using repeating list (or see `np.tile`)"
      ]
    },
    {
      "metadata": {
        "id": "Vp-NP6KTjMEG",
        "colab_type": "code",
        "colab": {
          "base_uri": "https://localhost:8080/",
          "height": 35
        },
        "outputId": "c6d9182c-2dd4-436a-c8dd-ae526484c8b8"
      },
      "cell_type": "code",
      "source": [
        "np.array([1, 2, 3] * 3)"
      ],
      "execution_count": 36,
      "outputs": [
        {
          "output_type": "execute_result",
          "data": {
            "text/plain": [
              "array([1, 2, 3, 1, 2, 3, 1, 2, 3])"
            ]
          },
          "metadata": {
            "tags": []
          },
          "execution_count": 36
        }
      ]
    },
    {
      "metadata": {
        "id": "JVEOLzP3jMEH",
        "colab_type": "text"
      },
      "cell_type": "markdown",
      "source": [
        "<br>\n",
        "Repeat elements of an array using `repeat`."
      ]
    },
    {
      "metadata": {
        "id": "qlKVQBSQjMEH",
        "colab_type": "code",
        "colab": {
          "base_uri": "https://localhost:8080/",
          "height": 35
        },
        "outputId": "578dd4c6-2dc1-42e9-f5bd-10decfc29017"
      },
      "cell_type": "code",
      "source": [
        "np.repeat([1, 2, 3], 3)"
      ],
      "execution_count": 37,
      "outputs": [
        {
          "output_type": "execute_result",
          "data": {
            "text/plain": [
              "array([1, 1, 1, 2, 2, 2, 3, 3, 3])"
            ]
          },
          "metadata": {
            "tags": []
          },
          "execution_count": 37
        }
      ]
    },
    {
      "metadata": {
        "id": "dk75QPJrjMEK",
        "colab_type": "text"
      },
      "cell_type": "markdown",
      "source": [
        "<br>\n",
        "#### Combining Arrays"
      ]
    },
    {
      "metadata": {
        "id": "uXDSxmSvjMEK",
        "colab_type": "code",
        "colab": {
          "base_uri": "https://localhost:8080/",
          "height": 52
        },
        "outputId": "231c4d5d-02e4-4bd3-bfb1-73014b9e2252"
      },
      "cell_type": "code",
      "source": [
        "p = np.ones([2, 3], int)\n",
        "p"
      ],
      "execution_count": 38,
      "outputs": [
        {
          "output_type": "execute_result",
          "data": {
            "text/plain": [
              "array([[1, 1, 1],\n",
              "       [1, 1, 1]])"
            ]
          },
          "metadata": {
            "tags": []
          },
          "execution_count": 38
        }
      ]
    },
    {
      "metadata": {
        "id": "aMKAnpo5jMEM",
        "colab_type": "text"
      },
      "cell_type": "markdown",
      "source": [
        "**Use `vstack` to stack arrays in sequence vertically (row wise).**"
      ]
    },
    {
      "metadata": {
        "id": "4nVpTezdjMEM",
        "colab_type": "code",
        "colab": {
          "base_uri": "https://localhost:8080/",
          "height": 87
        },
        "outputId": "c06bd194-1fbf-4eca-adda-7dbc43cdd712"
      },
      "cell_type": "code",
      "source": [
        "np.vstack([p, 2*p])"
      ],
      "execution_count": 39,
      "outputs": [
        {
          "output_type": "execute_result",
          "data": {
            "text/plain": [
              "array([[1, 1, 1],\n",
              "       [1, 1, 1],\n",
              "       [2, 2, 2],\n",
              "       [2, 2, 2]])"
            ]
          },
          "metadata": {
            "tags": []
          },
          "execution_count": 39
        }
      ]
    },
    {
      "metadata": {
        "id": "WJXx0LRLjMEM",
        "colab_type": "text"
      },
      "cell_type": "markdown",
      "source": [
        "**Use `hstack` to stack arrays in sequence horizontally (column wise).**"
      ]
    },
    {
      "metadata": {
        "id": "BsAoIdI9jMEN",
        "colab_type": "code",
        "colab": {
          "base_uri": "https://localhost:8080/",
          "height": 52
        },
        "outputId": "a9c29c04-3272-4b47-f7de-6d6b1962b9ca"
      },
      "cell_type": "code",
      "source": [
        "np.hstack([p, 2*p])"
      ],
      "execution_count": 40,
      "outputs": [
        {
          "output_type": "execute_result",
          "data": {
            "text/plain": [
              "array([[1, 1, 1, 2, 2, 2],\n",
              "       [1, 1, 1, 2, 2, 2]])"
            ]
          },
          "metadata": {
            "tags": []
          },
          "execution_count": 40
        }
      ]
    },
    {
      "metadata": {
        "id": "kkJeZ2grjMEO",
        "colab_type": "text"
      },
      "cell_type": "markdown",
      "source": [
        "<br>\n",
        "## Operations"
      ]
    },
    {
      "metadata": {
        "id": "E8-Sm5EljMEO",
        "colab_type": "text"
      },
      "cell_type": "markdown",
      "source": [
        "Use `+`, `-`, `*`, `/` and `**` to perform element wise addition, subtraction, multiplication, division and power."
      ]
    },
    {
      "metadata": {
        "id": "DsK8o-zZjMEP",
        "colab_type": "code",
        "colab": {
          "base_uri": "https://localhost:8080/",
          "height": 52
        },
        "outputId": "d904d7e4-8f3d-4fe4-d28a-9fe4aa035d7e"
      },
      "cell_type": "code",
      "source": [
        "print(x + y) # elementwise addition     [1 2 3] + [4 5 6] = [5  7  9]\n",
        "print(x - y) # elementwise subtraction  [1 2 3] - [4 5 6] = [-3 -3 -3]"
      ],
      "execution_count": 42,
      "outputs": [
        {
          "output_type": "stream",
          "text": [
            "[5 7 9]\n",
            "[-3 -3 -3]\n"
          ],
          "name": "stdout"
        }
      ]
    },
    {
      "metadata": {
        "id": "gVIrQn_rjMEQ",
        "colab_type": "code",
        "colab": {
          "base_uri": "https://localhost:8080/",
          "height": 52
        },
        "outputId": "f88319f6-f280-4fb9-96a0-e74efe95a527"
      },
      "cell_type": "code",
      "source": [
        "print(x * y) # elementwise multiplication  [1 2 3] * [4 5 6] = [4  10  18]\n",
        "print(x / y) # elementwise divison         [1 2 3] / [4 5 6] = [0.25  0.4  0.5]"
      ],
      "execution_count": 43,
      "outputs": [
        {
          "output_type": "stream",
          "text": [
            "[ 4 10 18]\n",
            "[0.25 0.4  0.5 ]\n"
          ],
          "name": "stdout"
        }
      ]
    },
    {
      "metadata": {
        "id": "GgdcIGVvjMEW",
        "colab_type": "code",
        "colab": {
          "base_uri": "https://localhost:8080/",
          "height": 35
        },
        "outputId": "647c8691-5004-4ea9-de4d-0ae62c40a184"
      },
      "cell_type": "code",
      "source": [
        "print(x**2) # elementwise power  [1 2 3] ^2 =  [1 4 9]"
      ],
      "execution_count": 44,
      "outputs": [
        {
          "output_type": "stream",
          "text": [
            "[1 4 9]\n"
          ],
          "name": "stdout"
        }
      ]
    },
    {
      "metadata": {
        "id": "g-_lq-qsjMEX",
        "colab_type": "text"
      },
      "cell_type": "markdown",
      "source": [
        "<br>\n",
        "**Dot Product:**  \n",
        "\n",
        "$ \\begin{bmatrix}x_1 \\ x_2 \\ x_3\\end{bmatrix}\n",
        "\\cdot\n",
        "\\begin{bmatrix}y_1 \\\\ y_2 \\\\ y_3\\end{bmatrix}\n",
        "= x_1 y_1 + x_2 y_2 + x_3 y_3$"
      ]
    },
    {
      "metadata": {
        "id": "JYGQPBG1jMEX",
        "colab_type": "code",
        "colab": {
          "base_uri": "https://localhost:8080/",
          "height": 35
        },
        "outputId": "d3935b5a-acac-4913-baea-ebec17e6ebfc"
      },
      "cell_type": "code",
      "source": [
        "x.dot(y) # dot product  1*4 + 2*5 + 3*6"
      ],
      "execution_count": 45,
      "outputs": [
        {
          "output_type": "execute_result",
          "data": {
            "text/plain": [
              "32"
            ]
          },
          "metadata": {
            "tags": []
          },
          "execution_count": 45
        }
      ]
    },
    {
      "metadata": {
        "id": "oySjzT_TjMEX",
        "colab_type": "code",
        "colab": {
          "base_uri": "https://localhost:8080/",
          "height": 35
        },
        "outputId": "14d8b33e-aaab-4930-ce24-b67e11350ddb"
      },
      "cell_type": "code",
      "source": [
        "z = np.array([y, y**2])\n",
        "print(len(z)) # number of rows of array"
      ],
      "execution_count": 46,
      "outputs": [
        {
          "output_type": "stream",
          "text": [
            "2\n"
          ],
          "name": "stdout"
        }
      ]
    },
    {
      "metadata": {
        "id": "ELxkWLLqjMEZ",
        "colab_type": "text"
      },
      "cell_type": "markdown",
      "source": [
        "<br>\n",
        "Let's look at transposing arrays. Transposing permutes the dimensions of the array."
      ]
    },
    {
      "metadata": {
        "id": "E3EuJZ2IjMEZ",
        "colab_type": "code",
        "colab": {
          "base_uri": "https://localhost:8080/",
          "height": 69
        },
        "outputId": "b04edc3c-b325-41ed-b5bb-9c1603fe2d66"
      },
      "cell_type": "code",
      "source": [
        "z = np.array([y, y**2])\n",
        "print(z)\n",
        "print(len(z)) # number of rows of array"
      ],
      "execution_count": 49,
      "outputs": [
        {
          "output_type": "stream",
          "text": [
            "[[ 4  5  6]\n",
            " [16 25 36]]\n",
            "2\n"
          ],
          "name": "stdout"
        }
      ]
    },
    {
      "metadata": {
        "id": "a6ZalKZajMEa",
        "colab_type": "text"
      },
      "cell_type": "markdown",
      "source": [
        "<br>\n",
        "The shape of array `z` is `(2,3)` before transposing."
      ]
    },
    {
      "metadata": {
        "id": "cGkytVZPjMEb",
        "colab_type": "code",
        "colab": {
          "base_uri": "https://localhost:8080/",
          "height": 35
        },
        "outputId": "be54ce48-ff8c-49ab-f62f-e4032590fd2e"
      },
      "cell_type": "code",
      "source": [
        "z.shape"
      ],
      "execution_count": 48,
      "outputs": [
        {
          "output_type": "execute_result",
          "data": {
            "text/plain": [
              "(2, 3)"
            ]
          },
          "metadata": {
            "tags": []
          },
          "execution_count": 48
        }
      ]
    },
    {
      "metadata": {
        "id": "nwz-GyYOjMEc",
        "colab_type": "text"
      },
      "cell_type": "markdown",
      "source": [
        "<br>\n",
        "Use `.T` to get the transpose."
      ]
    },
    {
      "metadata": {
        "id": "e6mAag6UjMEd",
        "colab_type": "code",
        "colab": {
          "base_uri": "https://localhost:8080/",
          "height": 69
        },
        "outputId": "e040175b-fb95-4e0f-beca-5a2ce3eeecd9"
      },
      "cell_type": "code",
      "source": [
        "z.T"
      ],
      "execution_count": 50,
      "outputs": [
        {
          "output_type": "execute_result",
          "data": {
            "text/plain": [
              "array([[ 4, 16],\n",
              "       [ 5, 25],\n",
              "       [ 6, 36]])"
            ]
          },
          "metadata": {
            "tags": []
          },
          "execution_count": 50
        }
      ]
    },
    {
      "metadata": {
        "id": "V3Dxoo2djMEe",
        "colab_type": "text"
      },
      "cell_type": "markdown",
      "source": [
        "<br>\n",
        "The number of rows has swapped with the number of columns."
      ]
    },
    {
      "metadata": {
        "id": "ACTZ00jVjMEf",
        "colab_type": "code",
        "colab": {
          "base_uri": "https://localhost:8080/",
          "height": 35
        },
        "outputId": "b25851a7-8bc6-4035-b766-46ec0c814a61"
      },
      "cell_type": "code",
      "source": [
        "z.T.shape"
      ],
      "execution_count": 51,
      "outputs": [
        {
          "output_type": "execute_result",
          "data": {
            "text/plain": [
              "(3, 2)"
            ]
          },
          "metadata": {
            "tags": []
          },
          "execution_count": 51
        }
      ]
    },
    {
      "metadata": {
        "id": "CYpaaK5LjMEh",
        "colab_type": "text"
      },
      "cell_type": "markdown",
      "source": [
        "<br>\n",
        "Use `.dtype` to see the data type of the elements in the array."
      ]
    },
    {
      "metadata": {
        "id": "-lXsMEu8jMEh",
        "colab_type": "code",
        "colab": {
          "base_uri": "https://localhost:8080/",
          "height": 35
        },
        "outputId": "ae99fe37-9fd6-4bb1-d462-ba7846357938"
      },
      "cell_type": "code",
      "source": [
        "z.dtype"
      ],
      "execution_count": 52,
      "outputs": [
        {
          "output_type": "execute_result",
          "data": {
            "text/plain": [
              "dtype('int64')"
            ]
          },
          "metadata": {
            "tags": []
          },
          "execution_count": 52
        }
      ]
    },
    {
      "metadata": {
        "id": "6lADCTh9jMEh",
        "colab_type": "text"
      },
      "cell_type": "markdown",
      "source": [
        "<br>\n",
        "Use `.astype` to cast to a specific type."
      ]
    },
    {
      "metadata": {
        "id": "Bt3t-Z_tjMEi",
        "colab_type": "code",
        "colab": {
          "base_uri": "https://localhost:8080/",
          "height": 35
        },
        "outputId": "d37d124e-82c2-4892-909d-66a69d3269d4"
      },
      "cell_type": "code",
      "source": [
        "z = z.astype('f')\n",
        "z.dtype"
      ],
      "execution_count": 53,
      "outputs": [
        {
          "output_type": "execute_result",
          "data": {
            "text/plain": [
              "dtype('float32')"
            ]
          },
          "metadata": {
            "tags": []
          },
          "execution_count": 53
        }
      ]
    },
    {
      "metadata": {
        "id": "MFDlli2ujMEi",
        "colab_type": "text"
      },
      "cell_type": "markdown",
      "source": [
        "<br>\n",
        "## Math Functions"
      ]
    },
    {
      "metadata": {
        "id": "sjcAqOOJjMEi",
        "colab_type": "text"
      },
      "cell_type": "markdown",
      "source": [
        "Numpy has many built in math functions that can be performed on arrays."
      ]
    },
    {
      "metadata": {
        "id": "ok_7TUNwjMEk",
        "colab_type": "code",
        "colab": {
          "base_uri": "https://localhost:8080/",
          "height": 35
        },
        "outputId": "67649f53-a286-4eba-96a3-373b3a774afa"
      },
      "cell_type": "code",
      "source": [
        "a = np.array([-4, -2, 1, 3, 5])\n",
        "print(a)"
      ],
      "execution_count": 55,
      "outputs": [
        {
          "output_type": "stream",
          "text": [
            "[-4 -2  1  3  5]\n"
          ],
          "name": "stdout"
        }
      ]
    },
    {
      "metadata": {
        "id": "dBCNPzlJjMEk",
        "colab_type": "code",
        "colab": {}
      },
      "cell_type": "code",
      "source": [
        "a.sum()"
      ],
      "execution_count": 0,
      "outputs": []
    },
    {
      "metadata": {
        "id": "DevbRDpYjMEo",
        "colab_type": "code",
        "colab": {}
      },
      "cell_type": "code",
      "source": [
        "a.max()"
      ],
      "execution_count": 0,
      "outputs": []
    },
    {
      "metadata": {
        "id": "Q5Av_3AqjMEs",
        "colab_type": "code",
        "colab": {}
      },
      "cell_type": "code",
      "source": [
        "a.min()"
      ],
      "execution_count": 0,
      "outputs": []
    },
    {
      "metadata": {
        "id": "4GQRhHc5jMEt",
        "colab_type": "code",
        "colab": {}
      },
      "cell_type": "code",
      "source": [
        "a.mean()"
      ],
      "execution_count": 0,
      "outputs": []
    },
    {
      "metadata": {
        "id": "z4oLCtPzjMEu",
        "colab_type": "code",
        "colab": {}
      },
      "cell_type": "code",
      "source": [
        "a.std()"
      ],
      "execution_count": 0,
      "outputs": []
    },
    {
      "metadata": {
        "id": "4rJjLrwWjMEw",
        "colab_type": "text"
      },
      "cell_type": "markdown",
      "source": [
        "`argmax` and `argmin` return the** index** of the maximum and minimum values in the array."
      ]
    },
    {
      "metadata": {
        "id": "Z1mGlSbPjMEx",
        "colab_type": "code",
        "colab": {
          "base_uri": "https://localhost:8080/",
          "height": 35
        },
        "outputId": "4eacfc52-3ae9-4a05-9f6d-f0edc28787b4"
      },
      "cell_type": "code",
      "source": [
        "a.argmax()"
      ],
      "execution_count": 56,
      "outputs": [
        {
          "output_type": "execute_result",
          "data": {
            "text/plain": [
              "4"
            ]
          },
          "metadata": {
            "tags": []
          },
          "execution_count": 56
        }
      ]
    },
    {
      "metadata": {
        "id": "uujjt1bqjMEy",
        "colab_type": "code",
        "colab": {
          "base_uri": "https://localhost:8080/",
          "height": 35
        },
        "outputId": "87adf57f-c103-4c31-de75-3cecc9ae4492"
      },
      "cell_type": "code",
      "source": [
        "a.argmin()"
      ],
      "execution_count": 57,
      "outputs": [
        {
          "output_type": "execute_result",
          "data": {
            "text/plain": [
              "0"
            ]
          },
          "metadata": {
            "tags": []
          },
          "execution_count": 57
        }
      ]
    },
    {
      "metadata": {
        "id": "H4ir75r9jME0",
        "colab_type": "text"
      },
      "cell_type": "markdown",
      "source": [
        "<br>\n",
        "## Indexing / Slicing"
      ]
    },
    {
      "metadata": {
        "id": "5LDRVP2IjME1",
        "colab_type": "code",
        "colab": {
          "base_uri": "https://localhost:8080/",
          "height": 35
        },
        "outputId": "fb3610ed-43a5-42f6-a2f2-ff71453efec6"
      },
      "cell_type": "code",
      "source": [
        "s = np.arange(13)**2\n",
        "s"
      ],
      "execution_count": 58,
      "outputs": [
        {
          "output_type": "execute_result",
          "data": {
            "text/plain": [
              "array([  0,   1,   4,   9,  16,  25,  36,  49,  64,  81, 100, 121, 144])"
            ]
          },
          "metadata": {
            "tags": []
          },
          "execution_count": 58
        }
      ]
    },
    {
      "metadata": {
        "id": "fSCegQv6jME2",
        "colab_type": "text"
      },
      "cell_type": "markdown",
      "source": [
        "<br>\n",
        "Use bracket notation to get the value at a specific index. Remember that indexing starts at 0."
      ]
    },
    {
      "metadata": {
        "id": "ic-BmxjajME4",
        "colab_type": "code",
        "colab": {}
      },
      "cell_type": "code",
      "source": [
        "s[0], s[4], s[-1]"
      ],
      "execution_count": 0,
      "outputs": []
    },
    {
      "metadata": {
        "id": "NT-aGCrmjME4",
        "colab_type": "text"
      },
      "cell_type": "markdown",
      "source": [
        "<br>\n",
        "Use `:` to indicate a range. `array[start:stop]`\n",
        "\n",
        "\n",
        "Leaving `start` or `stop` empty will default to the beginning/end of the array."
      ]
    },
    {
      "metadata": {
        "id": "S8PU5NukjME4",
        "colab_type": "code",
        "colab": {}
      },
      "cell_type": "code",
      "source": [
        "s[1:5]"
      ],
      "execution_count": 0,
      "outputs": []
    },
    {
      "metadata": {
        "id": "qTzygv6TjME6",
        "colab_type": "text"
      },
      "cell_type": "markdown",
      "source": [
        "<br>\n",
        "Use negatives to count from the back."
      ]
    },
    {
      "metadata": {
        "id": "bjWZuEwEjME7",
        "colab_type": "code",
        "colab": {}
      },
      "cell_type": "code",
      "source": [
        "s[-4:]"
      ],
      "execution_count": 0,
      "outputs": []
    },
    {
      "metadata": {
        "id": "0Z9D0BpyjME8",
        "colab_type": "text"
      },
      "cell_type": "markdown",
      "source": [
        "<br>\n",
        "A second `:` can be used to indicate step-size. `array[start:stop:stepsize]`\n",
        "\n",
        "Here we are starting 5th element from the end, and counting backwards by 2 until the beginning of the array is reached."
      ]
    },
    {
      "metadata": {
        "id": "hCG7t_mzjME-",
        "colab_type": "code",
        "colab": {}
      },
      "cell_type": "code",
      "source": [
        "s[-5::-2]"
      ],
      "execution_count": 0,
      "outputs": []
    },
    {
      "metadata": {
        "id": "Jg1A1rKvjME_",
        "colab_type": "text"
      },
      "cell_type": "markdown",
      "source": [
        "<br>\n",
        "Let's look at a multidimensional array."
      ]
    },
    {
      "metadata": {
        "id": "XNHKK32OjME_",
        "colab_type": "code",
        "colab": {}
      },
      "cell_type": "code",
      "source": [
        "r = np.arange(36)\n",
        "r.resize((6, 6))\n",
        "r"
      ],
      "execution_count": 0,
      "outputs": []
    },
    {
      "metadata": {
        "id": "xrnIs5WdjME_",
        "colab_type": "text"
      },
      "cell_type": "markdown",
      "source": [
        "<br>\n",
        "Use bracket notation to slice: `array[row, column]`"
      ]
    },
    {
      "metadata": {
        "id": "RarAL5QAjME_",
        "colab_type": "code",
        "colab": {}
      },
      "cell_type": "code",
      "source": [
        "r[2, 2]"
      ],
      "execution_count": 0,
      "outputs": []
    },
    {
      "metadata": {
        "id": "qF0BFXAXjMFB",
        "colab_type": "text"
      },
      "cell_type": "markdown",
      "source": [
        "<br>\n",
        "And use : to select a range of rows or columns"
      ]
    },
    {
      "metadata": {
        "id": "igDnmcjajMFB",
        "colab_type": "code",
        "colab": {}
      },
      "cell_type": "code",
      "source": [
        "r[3, 3:6]"
      ],
      "execution_count": 0,
      "outputs": []
    },
    {
      "metadata": {
        "id": "n6SLbA8zjMFC",
        "colab_type": "text"
      },
      "cell_type": "markdown",
      "source": [
        "<br>\n",
        "Here we are selecting all the rows up to (and not including) row 2, and all the columns up to (and not including) the last column."
      ]
    },
    {
      "metadata": {
        "id": "KvJ2s7p9jMFD",
        "colab_type": "code",
        "colab": {}
      },
      "cell_type": "code",
      "source": [
        "r[:2, :-1]"
      ],
      "execution_count": 0,
      "outputs": []
    },
    {
      "metadata": {
        "id": "Y21VUT-UjMFD",
        "colab_type": "text"
      },
      "cell_type": "markdown",
      "source": [
        "<br>\n",
        "This is a slice of the last row, and only every other element."
      ]
    },
    {
      "metadata": {
        "id": "ANVcWKkojMFD",
        "colab_type": "code",
        "colab": {}
      },
      "cell_type": "code",
      "source": [
        "r[-1, ::2]"
      ],
      "execution_count": 0,
      "outputs": []
    },
    {
      "metadata": {
        "id": "7hZ2WFXojMFD",
        "colab_type": "text"
      },
      "cell_type": "markdown",
      "source": [
        "We can also perform **conditional indexing**. Here we are selecting values from the array that are greater than 30. (Also see `np.where`)"
      ]
    },
    {
      "metadata": {
        "id": "Z4x3ACuejMFE",
        "colab_type": "code",
        "colab": {}
      },
      "cell_type": "code",
      "source": [
        "r[r > 30]"
      ],
      "execution_count": 0,
      "outputs": []
    },
    {
      "metadata": {
        "id": "jQjvVXA4jMFG",
        "colab_type": "text"
      },
      "cell_type": "markdown",
      "source": [
        "Here we are assigning all values in the array that are greater than 30 to the value of 30."
      ]
    },
    {
      "metadata": {
        "id": "QEJdhfxmjMFG",
        "colab_type": "code",
        "colab": {}
      },
      "cell_type": "code",
      "source": [
        "r[r > 30] = 30\n",
        "r"
      ],
      "execution_count": 0,
      "outputs": []
    },
    {
      "metadata": {
        "id": "4XXomadJjMFG",
        "colab_type": "text"
      },
      "cell_type": "markdown",
      "source": [
        "<br>\n",
        "## Copying Data"
      ]
    },
    {
      "metadata": {
        "id": "_SY0zqTXjMFH",
        "colab_type": "text"
      },
      "cell_type": "markdown",
      "source": [
        "Be careful with copying and modifying arrays in NumPy!\n",
        "\n",
        "\n",
        "`r2` is a slice of `r`"
      ]
    },
    {
      "metadata": {
        "id": "NavH_AMEjMFH",
        "colab_type": "code",
        "colab": {}
      },
      "cell_type": "code",
      "source": [
        "r2 = r[:3,:3]\n",
        "r2"
      ],
      "execution_count": 0,
      "outputs": []
    },
    {
      "metadata": {
        "id": "sFAOLvUqjMFJ",
        "colab_type": "text"
      },
      "cell_type": "markdown",
      "source": [
        "<br>\n",
        "Set this slice's values to zero ([:] selects the entire array)"
      ]
    },
    {
      "metadata": {
        "id": "vG4HvqoxjMFJ",
        "colab_type": "code",
        "colab": {}
      },
      "cell_type": "code",
      "source": [
        "r2[:] = 0\n",
        "r2"
      ],
      "execution_count": 0,
      "outputs": []
    },
    {
      "metadata": {
        "id": "eW4MUT9ejMFJ",
        "colab_type": "text"
      },
      "cell_type": "markdown",
      "source": [
        "**`r` has also been changed!**"
      ]
    },
    {
      "metadata": {
        "id": "_IglfmcQjMFK",
        "colab_type": "code",
        "colab": {}
      },
      "cell_type": "code",
      "source": [
        "r"
      ],
      "execution_count": 0,
      "outputs": []
    },
    {
      "metadata": {
        "id": "0vjzW7snjMFK",
        "colab_type": "text"
      },
      "cell_type": "markdown",
      "source": [
        "<br>\n",
        "To avoid this, use `r.copy` to create a copy that will not affect the original array"
      ]
    },
    {
      "metadata": {
        "id": "RMkCrqJ3jMFK",
        "colab_type": "code",
        "colab": {}
      },
      "cell_type": "code",
      "source": [
        "r_copy = r.copy()\n",
        "r_copy"
      ],
      "execution_count": 0,
      "outputs": []
    },
    {
      "metadata": {
        "id": "YrT6myljjMFL",
        "colab_type": "text"
      },
      "cell_type": "markdown",
      "source": [
        "<br>\n",
        "Now when r_copy is modified, r will not be changed."
      ]
    },
    {
      "metadata": {
        "id": "7SBHqHN5jMFL",
        "colab_type": "code",
        "colab": {}
      },
      "cell_type": "code",
      "source": [
        "r_copy[:] = 10\n",
        "print(r_copy, '\\n')\n",
        "print(r)"
      ],
      "execution_count": 0,
      "outputs": []
    },
    {
      "metadata": {
        "id": "rJ1aZAL7jMFM",
        "colab_type": "text"
      },
      "cell_type": "markdown",
      "source": [
        "<br>\n",
        "### Iterating Over Arrays"
      ]
    },
    {
      "metadata": {
        "id": "SKhKhh3FjMFM",
        "colab_type": "text"
      },
      "cell_type": "markdown",
      "source": [
        "Let's create a new 4 by 3 array of random numbers 0-9."
      ]
    },
    {
      "metadata": {
        "id": "pSgeUFsFjMFM",
        "colab_type": "code",
        "colab": {
          "base_uri": "https://localhost:8080/",
          "height": 87
        },
        "outputId": "92301060-9f22-4a32-ed1c-70e12e983ec3"
      },
      "cell_type": "code",
      "source": [
        "test = np.random.randint(0, 10, (4,3))\n",
        "test"
      ],
      "execution_count": 59,
      "outputs": [
        {
          "output_type": "execute_result",
          "data": {
            "text/plain": [
              "array([[7, 2, 4],\n",
              "       [0, 2, 8],\n",
              "       [9, 1, 5],\n",
              "       [6, 3, 9]])"
            ]
          },
          "metadata": {
            "tags": []
          },
          "execution_count": 59
        }
      ]
    },
    {
      "metadata": {
        "id": "uvK56qUsjMFN",
        "colab_type": "text"
      },
      "cell_type": "markdown",
      "source": [
        "<br>\n",
        "Iterate by row:"
      ]
    },
    {
      "metadata": {
        "id": "iyBaoxrDjMFN",
        "colab_type": "code",
        "colab": {
          "base_uri": "https://localhost:8080/",
          "height": 87
        },
        "outputId": "92ffc7e0-1aab-499a-efe0-fcae700f9c62"
      },
      "cell_type": "code",
      "source": [
        "for row in test:\n",
        "    print(row)"
      ],
      "execution_count": 60,
      "outputs": [
        {
          "output_type": "stream",
          "text": [
            "[7 2 4]\n",
            "[0 2 8]\n",
            "[9 1 5]\n",
            "[6 3 9]\n"
          ],
          "name": "stdout"
        }
      ]
    },
    {
      "metadata": {
        "id": "HArH8uw1jMFO",
        "colab_type": "text"
      },
      "cell_type": "markdown",
      "source": [
        "<br>\n",
        "Iterate by index:"
      ]
    },
    {
      "metadata": {
        "id": "fi-K56zYjMFO",
        "colab_type": "code",
        "colab": {
          "base_uri": "https://localhost:8080/",
          "height": 87
        },
        "outputId": "d53bcf09-7113-406f-90cf-104aafdeb5be"
      },
      "cell_type": "code",
      "source": [
        "for i in range(len(test)):\n",
        "    print(test[i])"
      ],
      "execution_count": 61,
      "outputs": [
        {
          "output_type": "stream",
          "text": [
            "[7 2 4]\n",
            "[0 2 8]\n",
            "[9 1 5]\n",
            "[6 3 9]\n"
          ],
          "name": "stdout"
        }
      ]
    },
    {
      "metadata": {
        "id": "XGQftECtjMFO",
        "colab_type": "text"
      },
      "cell_type": "markdown",
      "source": [
        "**Iterate by row and index:**"
      ]
    },
    {
      "metadata": {
        "id": "f_XpoLzfjMFO",
        "colab_type": "code",
        "colab": {
          "base_uri": "https://localhost:8080/",
          "height": 87
        },
        "outputId": "ba63179f-2cc4-419c-943d-bc3c6baeabee"
      },
      "cell_type": "code",
      "source": [
        "for i, row in enumerate(test):\n",
        "    print('row', i, 'is', row)"
      ],
      "execution_count": 62,
      "outputs": [
        {
          "output_type": "stream",
          "text": [
            "row 0 is [7 2 4]\n",
            "row 1 is [0 2 8]\n",
            "row 2 is [9 1 5]\n",
            "row 3 is [6 3 9]\n"
          ],
          "name": "stdout"
        }
      ]
    },
    {
      "metadata": {
        "id": "6CrcjIFYjMFO",
        "colab_type": "text"
      },
      "cell_type": "markdown",
      "source": [
        "<br>\n",
        "Use `zip` to iterate over multiple iterables."
      ]
    },
    {
      "metadata": {
        "id": "4TxDIHRqjMFP",
        "colab_type": "code",
        "colab": {
          "base_uri": "https://localhost:8080/",
          "height": 87
        },
        "outputId": "98c3b2a5-fe56-4c13-8d8e-6b79cfb4fcd3"
      },
      "cell_type": "code",
      "source": [
        "test2 = test**2\n",
        "test2"
      ],
      "execution_count": 63,
      "outputs": [
        {
          "output_type": "execute_result",
          "data": {
            "text/plain": [
              "array([[49,  4, 16],\n",
              "       [ 0,  4, 64],\n",
              "       [81,  1, 25],\n",
              "       [36,  9, 81]])"
            ]
          },
          "metadata": {
            "tags": []
          },
          "execution_count": 63
        }
      ]
    },
    {
      "metadata": {
        "id": "Ydn1czfVjMFQ",
        "colab_type": "code",
        "colab": {
          "base_uri": "https://localhost:8080/",
          "height": 87
        },
        "outputId": "bb5fc5f2-2c9a-41e2-9a12-fbf8808f1022"
      },
      "cell_type": "code",
      "source": [
        "for i, j in zip(test, test2):\n",
        "    print(i,'+',j,'=',i+j)"
      ],
      "execution_count": 64,
      "outputs": [
        {
          "output_type": "stream",
          "text": [
            "[7 2 4] + [49  4 16] = [56  6 20]\n",
            "[0 2 8] + [ 0  4 64] = [ 0  6 72]\n",
            "[9 1 5] + [81  1 25] = [90  2 30]\n",
            "[6 3 9] + [36  9 81] = [42 12 90]\n"
          ],
          "name": "stdout"
        }
      ]
    }
  ]
}